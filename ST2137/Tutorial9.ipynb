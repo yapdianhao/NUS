{
 "cells": [
  {
   "cell_type": "code",
   "execution_count": 1,
   "id": "036b87b5",
   "metadata": {},
   "outputs": [],
   "source": [
    "import pandas as pd\n",
    "import numpy as np\n",
    "import scipy\n",
    "import statistics as st\n",
    "from statistics import mean\n",
    "from statistics import median\n",
    "from statistics import variance\n",
    "from scipy import stats\n",
    "from scipy.stats import mstats\n",
    "import math\n",
    "import statsmodels.api as sm \n",
    "\n",
    "import matplotlib.pyplot as pyplot\n",
    "\n",
    "from statsmodels.formula.api import ols"
   ]
  },
  {
   "cell_type": "code",
   "execution_count": 2,
   "id": "5fd3c079",
   "metadata": {},
   "outputs": [],
   "source": [
    "crab = pd.read_csv('./crab.csv')"
   ]
  },
  {
   "cell_type": "code",
   "execution_count": 3,
   "id": "2e7da4e8",
   "metadata": {},
   "outputs": [
    {
     "data": {
      "text/html": [
       "<div>\n",
       "<style scoped>\n",
       "    .dataframe tbody tr th:only-of-type {\n",
       "        vertical-align: middle;\n",
       "    }\n",
       "\n",
       "    .dataframe tbody tr th {\n",
       "        vertical-align: top;\n",
       "    }\n",
       "\n",
       "    .dataframe thead th {\n",
       "        text-align: right;\n",
       "    }\n",
       "</style>\n",
       "<table border=\"1\" class=\"dataframe\">\n",
       "  <thead>\n",
       "    <tr style=\"text-align: right;\">\n",
       "      <th></th>\n",
       "      <th>Unnamed: 0</th>\n",
       "      <th>color</th>\n",
       "      <th>spine</th>\n",
       "      <th>width</th>\n",
       "      <th>satell</th>\n",
       "      <th>weight</th>\n",
       "    </tr>\n",
       "  </thead>\n",
       "  <tbody>\n",
       "    <tr>\n",
       "      <th>0</th>\n",
       "      <td>1</td>\n",
       "      <td>3</td>\n",
       "      <td>3</td>\n",
       "      <td>28.3</td>\n",
       "      <td>8</td>\n",
       "      <td>3.050</td>\n",
       "    </tr>\n",
       "    <tr>\n",
       "      <th>1</th>\n",
       "      <td>2</td>\n",
       "      <td>4</td>\n",
       "      <td>3</td>\n",
       "      <td>22.5</td>\n",
       "      <td>0</td>\n",
       "      <td>1.550</td>\n",
       "    </tr>\n",
       "    <tr>\n",
       "      <th>2</th>\n",
       "      <td>3</td>\n",
       "      <td>2</td>\n",
       "      <td>1</td>\n",
       "      <td>26.0</td>\n",
       "      <td>9</td>\n",
       "      <td>2.300</td>\n",
       "    </tr>\n",
       "    <tr>\n",
       "      <th>3</th>\n",
       "      <td>4</td>\n",
       "      <td>4</td>\n",
       "      <td>3</td>\n",
       "      <td>24.8</td>\n",
       "      <td>0</td>\n",
       "      <td>2.100</td>\n",
       "    </tr>\n",
       "    <tr>\n",
       "      <th>4</th>\n",
       "      <td>5</td>\n",
       "      <td>4</td>\n",
       "      <td>3</td>\n",
       "      <td>26.0</td>\n",
       "      <td>4</td>\n",
       "      <td>2.600</td>\n",
       "    </tr>\n",
       "    <tr>\n",
       "      <th>...</th>\n",
       "      <td>...</td>\n",
       "      <td>...</td>\n",
       "      <td>...</td>\n",
       "      <td>...</td>\n",
       "      <td>...</td>\n",
       "      <td>...</td>\n",
       "    </tr>\n",
       "    <tr>\n",
       "      <th>168</th>\n",
       "      <td>169</td>\n",
       "      <td>4</td>\n",
       "      <td>3</td>\n",
       "      <td>26.1</td>\n",
       "      <td>3</td>\n",
       "      <td>2.750</td>\n",
       "    </tr>\n",
       "    <tr>\n",
       "      <th>169</th>\n",
       "      <td>170</td>\n",
       "      <td>4</td>\n",
       "      <td>3</td>\n",
       "      <td>29.0</td>\n",
       "      <td>4</td>\n",
       "      <td>3.275</td>\n",
       "    </tr>\n",
       "    <tr>\n",
       "      <th>170</th>\n",
       "      <td>171</td>\n",
       "      <td>2</td>\n",
       "      <td>1</td>\n",
       "      <td>28.0</td>\n",
       "      <td>0</td>\n",
       "      <td>2.625</td>\n",
       "    </tr>\n",
       "    <tr>\n",
       "      <th>171</th>\n",
       "      <td>172</td>\n",
       "      <td>5</td>\n",
       "      <td>3</td>\n",
       "      <td>27.0</td>\n",
       "      <td>0</td>\n",
       "      <td>2.625</td>\n",
       "    </tr>\n",
       "    <tr>\n",
       "      <th>172</th>\n",
       "      <td>173</td>\n",
       "      <td>3</td>\n",
       "      <td>2</td>\n",
       "      <td>24.5</td>\n",
       "      <td>0</td>\n",
       "      <td>2.000</td>\n",
       "    </tr>\n",
       "  </tbody>\n",
       "</table>\n",
       "<p>173 rows × 6 columns</p>\n",
       "</div>"
      ],
      "text/plain": [
       "     Unnamed: 0  color  spine  width  satell  weight\n",
       "0             1      3      3   28.3       8   3.050\n",
       "1             2      4      3   22.5       0   1.550\n",
       "2             3      2      1   26.0       9   2.300\n",
       "3             4      4      3   24.8       0   2.100\n",
       "4             5      4      3   26.0       4   2.600\n",
       "..          ...    ...    ...    ...     ...     ...\n",
       "168         169      4      3   26.1       3   2.750\n",
       "169         170      4      3   29.0       4   3.275\n",
       "170         171      2      1   28.0       0   2.625\n",
       "171         172      5      3   27.0       0   2.625\n",
       "172         173      3      2   24.5       0   2.000\n",
       "\n",
       "[173 rows x 6 columns]"
      ]
     },
     "execution_count": 3,
     "metadata": {},
     "output_type": "execute_result"
    }
   ],
   "source": []
  },
  {
   "cell_type": "code",
   "execution_count": 4,
   "id": "0eacb89f",
   "metadata": {},
   "outputs": [],
   "source": [
    "crab.spine = crab.spine.astype('category')"
   ]
  },
  {
   "cell_type": "code",
   "execution_count": 5,
   "id": "1b791cd1",
   "metadata": {},
   "outputs": [],
   "source": [
    "import matplotlib.pyplot as plt"
   ]
  },
  {
   "cell_type": "code",
   "execution_count": 6,
   "id": "d4fedda0",
   "metadata": {},
   "outputs": [
    {
     "data": {
      "image/png": "[encoded data removed]",
      "text/plain": [
       "<Figure size 432x288 with 1 Axes>"
      ]
     },
     "metadata": {
      "needs_background": "light"
     },
     "output_type": "display_data"
    }
   ],
   "source": [
    "grps = crab.groupby('spine')\n",
    "for name, grp in grps:\n",
    "    plt.plot(grp.width, grp.weight, marker = 'o', linestyle = '', label = name)\n",
    "plt.legend()\n",
    "plt.show()"
   ]
  },
  {
   "cell_type": "code",
   "execution_count": 10,
   "id": "f8b74e70",
   "metadata": {},
   "outputs": [],
   "source": [
    "n = len(crab.weight)\n",
    "s1 = np.zeros(n)\n",
    "s2 = np.zeros(n)\n",
    "s1[crab.spine == 1] = 1\n",
    "s2[crab.spine == 2] = 1"
   ]
  },
  {
   "cell_type": "code",
   "execution_count": 13,
   "id": "c65f77db",
   "metadata": {},
   "outputs": [
    {
     "data": {
      "text/html": [
       "<table class=\"simpletable\">\n",
       "<caption>OLS Regression Results</caption>\n",
       "<tr>\n",
       "  <th>Dep. Variable:</th>         <td>weight</td>      <th>  R-squared:         </th> <td>   0.792</td>\n",
       "</tr>\n",
       "<tr>\n",
       "  <th>Model:</th>                   <td>OLS</td>       <th>  Adj. R-squared:    </th> <td>   0.788</td>\n",
       "</tr>\n",
       "<tr>\n",
       "  <th>Method:</th>             <td>Least Squares</td>  <th>  F-statistic:       </th> <td>   214.2</td>\n",
       "</tr>\n",
       "<tr>\n",
       "  <th>Date:</th>             <td>Sun, 24 Apr 2022</td> <th>  Prob (F-statistic):</th> <td>2.43e-57</td>\n",
       "</tr>\n",
       "<tr>\n",
       "  <th>Time:</th>                 <td>22:24:24</td>     <th>  Log-Likelihood:    </th> <td> -14.124</td>\n",
       "</tr>\n",
       "<tr>\n",
       "  <th>No. Observations:</th>      <td>   173</td>      <th>  AIC:               </th> <td>   36.25</td>\n",
       "</tr>\n",
       "<tr>\n",
       "  <th>Df Residuals:</th>          <td>   169</td>      <th>  BIC:               </th> <td>   48.86</td>\n",
       "</tr>\n",
       "<tr>\n",
       "  <th>Df Model:</th>              <td>     3</td>      <th>                     </th>     <td> </td>   \n",
       "</tr>\n",
       "<tr>\n",
       "  <th>Covariance Type:</th>      <td>nonrobust</td>    <th>                     </th>     <td> </td>   \n",
       "</tr>\n",
       "</table>\n",
       "<table class=\"simpletable\">\n",
       "<tr>\n",
       "      <td></td>         <th>coef</th>     <th>std err</th>      <th>t</th>      <th>P>|t|</th>  <th>[0.025</th>    <th>0.975]</th>  \n",
       "</tr>\n",
       "<tr>\n",
       "  <th>Intercept</th> <td>   -3.9992</td> <td>    0.264</td> <td>  -15.148</td> <td> 0.000</td> <td>   -4.520</td> <td>   -3.478</td>\n",
       "</tr>\n",
       "<tr>\n",
       "  <th>width</th>     <td>    0.2438</td> <td>    0.010</td> <td>   24.335</td> <td> 0.000</td> <td>    0.224</td> <td>    0.264</td>\n",
       "</tr>\n",
       "<tr>\n",
       "  <th>s1</th>        <td>    0.0697</td> <td>    0.051</td> <td>    1.376</td> <td> 0.171</td> <td>   -0.030</td> <td>    0.170</td>\n",
       "</tr>\n",
       "<tr>\n",
       "  <th>s2</th>        <td>    0.1251</td> <td>    0.074</td> <td>    1.684</td> <td> 0.094</td> <td>   -0.022</td> <td>    0.272</td>\n",
       "</tr>\n",
       "</table>\n",
       "<table class=\"simpletable\">\n",
       "<tr>\n",
       "  <th>Omnibus:</th>       <td>47.561</td> <th>  Durbin-Watson:     </th> <td>   2.076</td>\n",
       "</tr>\n",
       "<tr>\n",
       "  <th>Prob(Omnibus):</th> <td> 0.000</td> <th>  Jarque-Bera (JB):  </th> <td> 224.961</td>\n",
       "</tr>\n",
       "<tr>\n",
       "  <th>Skew:</th>          <td>-0.907</td> <th>  Prob(JB):          </th> <td>1.41e-49</td>\n",
       "</tr>\n",
       "<tr>\n",
       "  <th>Kurtosis:</th>      <td> 8.284</td> <th>  Cond. No.          </th> <td>    346.</td>\n",
       "</tr>\n",
       "</table><br/><br/>Notes:<br/>[1] Standard Errors assume that the covariance matrix of the errors is correctly specified."
      ],
      "text/plain": [
       "<class 'statsmodels.iolib.summary.Summary'>\n",
       "\"\"\"\n",
       "                            OLS Regression Results                            \n",
       "==============================================================================\n",
       "Dep. Variable:                 weight   R-squared:                       0.792\n",
       "Model:                            OLS   Adj. R-squared:                  0.788\n",
       "Method:                 Least Squares   F-statistic:                     214.2\n",
       "Date:                Sun, 24 Apr 2022   Prob (F-statistic):           2.43e-57\n",
       "Time:                        22:24:24   Log-Likelihood:                -14.124\n",
       "No. Observations:                 173   AIC:                             36.25\n",
       "Df Residuals:                     169   BIC:                             48.86\n",
       "Df Model:                           3                                         \n",
       "Covariance Type:            nonrobust                                         \n",
       "==============================================================================\n",
       "                 coef    std err          t      P>|t|      [0.025      0.975]\n",
       "------------------------------------------------------------------------------\n",
       "Intercept     -3.9992      0.264    -15.148      0.000      -4.520      -3.478\n",
       "width          0.2438      0.010     24.335      0.000       0.224       0.264\n",
       "s1             0.0697      0.051      1.376      0.171      -0.030       0.170\n",
       "s2             0.1251      0.074      1.684      0.094      -0.022       0.272\n",
       "==============================================================================\n",
       "Omnibus:                       47.561   Durbin-Watson:                   2.076\n",
       "Prob(Omnibus):                  0.000   Jarque-Bera (JB):              224.961\n",
       "Skew:                          -0.907   Prob(JB):                     1.41e-49\n",
       "Kurtosis:                       8.284   Cond. No.                         346.\n",
       "==============================================================================\n",
       "\n",
       "Notes:\n",
       "[1] Standard Errors assume that the covariance matrix of the errors is correctly specified.\n",
       "\"\"\""
      ]
     },
     "execution_count": 13,
     "metadata": {},
     "output_type": "execute_result"
    }
   ],
   "source": [
    "model = ols('weight ~ width + s1 + s2', data = crab).fit()\n",
    "model.summary()"
   ]
  },
  {
   "cell_type": "code",
   "execution_count": 15,
   "id": "c3e88ffc",
   "metadata": {},
   "outputs": [
    {
     "data": {
      "text/html": [
       "<div>\n",
       "<style scoped>\n",
       "    .dataframe tbody tr th:only-of-type {\n",
       "        vertical-align: middle;\n",
       "    }\n",
       "\n",
       "    .dataframe tbody tr th {\n",
       "        vertical-align: top;\n",
       "    }\n",
       "\n",
       "    .dataframe thead th {\n",
       "        text-align: right;\n",
       "    }\n",
       "</style>\n",
       "<table border=\"1\" class=\"dataframe\">\n",
       "  <thead>\n",
       "    <tr style=\"text-align: right;\">\n",
       "      <th></th>\n",
       "      <th>sum_sq</th>\n",
       "      <th>df</th>\n",
       "      <th>F</th>\n",
       "      <th>PR(&gt;F)</th>\n",
       "    </tr>\n",
       "  </thead>\n",
       "  <tbody>\n",
       "    <tr>\n",
       "      <th>width</th>\n",
       "      <td>41.788210</td>\n",
       "      <td>1.0</td>\n",
       "      <td>592.185517</td>\n",
       "      <td>4.089090e-57</td>\n",
       "    </tr>\n",
       "    <tr>\n",
       "      <th>s1</th>\n",
       "      <td>0.133590</td>\n",
       "      <td>1.0</td>\n",
       "      <td>1.893114</td>\n",
       "      <td>1.706717e-01</td>\n",
       "    </tr>\n",
       "    <tr>\n",
       "      <th>s2</th>\n",
       "      <td>0.200214</td>\n",
       "      <td>1.0</td>\n",
       "      <td>2.837256</td>\n",
       "      <td>9.394732e-02</td>\n",
       "    </tr>\n",
       "    <tr>\n",
       "      <th>Residual</th>\n",
       "      <td>11.925667</td>\n",
       "      <td>169.0</td>\n",
       "      <td>NaN</td>\n",
       "      <td>NaN</td>\n",
       "    </tr>\n",
       "  </tbody>\n",
       "</table>\n",
       "</div>"
      ],
      "text/plain": [
       "             sum_sq     df           F        PR(>F)\n",
       "width     41.788210    1.0  592.185517  4.089090e-57\n",
       "s1         0.133590    1.0    1.893114  1.706717e-01\n",
       "s2         0.200214    1.0    2.837256  9.394732e-02\n",
       "Residual  11.925667  169.0         NaN           NaN"
      ]
     },
     "execution_count": 15,
     "metadata": {},
     "output_type": "execute_result"
    }
   ],
   "source": [
    "sm.stats.anova_lm(model, typ = 2)"
   ]
  },
  {
   "cell_type": "code",
   "execution_count": 16,
   "id": "abd44504",
   "metadata": {},
   "outputs": [
    {
     "data": {
      "text/plain": [
       "0.07056607821402082"
      ]
     },
     "execution_count": 16,
     "metadata": {},
     "output_type": "execute_result"
    }
   ],
   "source": [
    "sigma_square = model.scale\n",
    "sigma_square"
   ]
  },
  {
   "cell_type": "code",
   "execution_count": 17,
   "id": "4fc53799",
   "metadata": {},
   "outputs": [
    {
     "data": {
      "text/plain": [
       "0.07056607821402082"
      ]
     },
     "execution_count": 17,
     "metadata": {},
     "output_type": "execute_result"
    }
   ],
   "source": [
    "model.mse_resid"
   ]
  },
  {
   "cell_type": "code",
   "execution_count": 22,
   "id": "0bd1a66b",
   "metadata": {},
   "outputs": [],
   "source": [
    "analysis = model.get_influence()\n",
    "SR = analysis.resid_studentized_internal\n",
    "fitted_vals = model.fittedvalues"
   ]
  },
  {
   "cell_type": "code",
   "execution_count": 24,
   "id": "cf6e5071",
   "metadata": {},
   "outputs": [
    {
     "data": {
      "image/png": "[encoded data removed]",
      "text/plain": [
       "<Figure size 432x288 with 1 Axes>"
      ]
     },
     "metadata": {
      "needs_background": "light"
     },
     "output_type": "display_data"
    }
   ],
   "source": [
    "import matplotlib.pyplot as plt\n",
    "plt.scatter(fitted_vals, SR)\n",
    "plt.xlabel('Fitted values')\n",
    "plt.ylabel('Standardized Residuals')\n",
    "plt.hlines(0, xmin = min(fitted_vals), xmax = max(fitted_vals))\n",
    "plt.show()"
   ]
  },
  {
   "cell_type": "code",
   "execution_count": 27,
   "id": "71fbb5aa",
   "metadata": {},
   "outputs": [
    {
     "data": {
      "image/png": "[encoded data removed]",
      "text/plain": [
       "<Figure size 432x288 with 1 Axes>"
      ]
     },
     "metadata": {
      "needs_background": "light"
     },
     "output_type": "display_data"
    }
   ],
   "source": [
    "scipy.stats.probplot(SR, dist = 'norm', plot = plt)\n",
    "plt.title('QQ Plot')\n",
    "plt.show()"
   ]
  },
  {
   "cell_type": "code",
   "execution_count": 30,
   "id": "d81e43f6",
   "metadata": {},
   "outputs": [
    {
     "data": {
      "text/plain": [
       "0      True\n",
       "1      True\n",
       "2      True\n",
       "3      True\n",
       "4      True\n",
       "       ... \n",
       "168    True\n",
       "169    True\n",
       "170    True\n",
       "171    True\n",
       "172    True\n",
       "Length: 173, dtype: bool"
      ]
     },
     "execution_count": 30,
     "metadata": {},
     "output_type": "execute_result"
    }
   ],
   "source": [
    "model.predict() == fitted_vals"
   ]
  },
  {
   "cell_type": "code",
   "execution_count": 33,
   "id": "62acdd99",
   "metadata": {},
   "outputs": [],
   "source": [
    "n = len(crab.weight)\n",
    "inter = [1] * n\n",
    "X = np.column_stack((inter, crab.width, s1, s2))\n",
    "res = sm.OLS(crab.weight, X).fit()"
   ]
  },
  {
   "cell_type": "code",
   "execution_count": 34,
   "id": "67edaca8",
   "metadata": {},
   "outputs": [
    {
     "data": {
      "text/html": [
       "<div>\n",
       "<style scoped>\n",
       "    .dataframe tbody tr th:only-of-type {\n",
       "        vertical-align: middle;\n",
       "    }\n",
       "\n",
       "    .dataframe tbody tr th {\n",
       "        vertical-align: top;\n",
       "    }\n",
       "\n",
       "    .dataframe thead th {\n",
       "        text-align: right;\n",
       "    }\n",
       "</style>\n",
       "<table border=\"1\" class=\"dataframe\">\n",
       "  <thead>\n",
       "    <tr style=\"text-align: right;\">\n",
       "      <th></th>\n",
       "      <th>mean</th>\n",
       "      <th>mean_se</th>\n",
       "      <th>mean_ci_lower</th>\n",
       "      <th>mean_ci_upper</th>\n",
       "      <th>obs_ci_lower</th>\n",
       "      <th>obs_ci_upper</th>\n",
       "    </tr>\n",
       "  </thead>\n",
       "  <tbody>\n",
       "    <tr>\n",
       "      <th>0</th>\n",
       "      <td>2.652043</td>\n",
       "      <td>0.043686</td>\n",
       "      <td>2.565803</td>\n",
       "      <td>2.738282</td>\n",
       "      <td>2.120593</td>\n",
       "      <td>3.183492</td>\n",
       "    </tr>\n",
       "  </tbody>\n",
       "</table>\n",
       "</div>"
      ],
      "text/plain": [
       "       mean   mean_se  mean_ci_lower  mean_ci_upper  obs_ci_lower  \\\n",
       "0  2.652043  0.043686       2.565803       2.738282      2.120593   \n",
       "\n",
       "   obs_ci_upper  \n",
       "0      3.183492  "
      ]
     },
     "execution_count": 34,
     "metadata": {},
     "output_type": "execute_result"
    }
   ],
   "source": [
    "new_row = [1, 27, 1, 0]\n",
    "prediction = res.get_prediction(new_row)\n",
    "prediction.summary_frame(alpha = 0.05)"
   ]
  },
  {
   "cell_type": "code",
   "execution_count": null,
   "id": "27032969",
   "metadata": {},
   "outputs": [],
   "source": []
  },
  {
   "cell_type": "code",
   "execution_count": null,
   "id": "e3a0e7c3",
   "metadata": {},
   "outputs": [],
   "source": []
  },
  {
   "cell_type": "code",
   "execution_count": null,
   "id": "9f59c785",
   "metadata": {},
   "outputs": [],
   "source": []
  },
  {
   "cell_type": "code",
   "execution_count": null,
   "id": "494498c5",
   "metadata": {},
   "outputs": [],
   "source": []
  },
  {
   "cell_type": "code",
   "execution_count": null,
   "id": "d42aed72",
   "metadata": {},
   "outputs": [],
   "source": []
  },
  {
   "cell_type": "code",
   "execution_count": null,
   "id": "c24f8bc7",
   "metadata": {},
   "outputs": [],
   "source": []
  },
  {
   "cell_type": "code",
   "execution_count": null,
   "id": "b7474cfa",
   "metadata": {},
   "outputs": [],
   "source": []
  },
  {
   "cell_type": "code",
   "execution_count": null,
   "id": "aa5226a2",
   "metadata": {},
   "outputs": [],
   "source": []
  },
  {
   "cell_type": "code",
   "execution_count": null,
   "id": "bb28e025",
   "metadata": {},
   "outputs": [],
   "source": []
  },
  {
   "cell_type": "code",
   "execution_count": null,
   "id": "39608d0a",
   "metadata": {},
   "outputs": [],
   "source": []
  },
  {
   "cell_type": "code",
   "execution_count": null,
   "id": "18bafdb5",
   "metadata": {},
   "outputs": [],
   "source": []
  },
  {
   "cell_type": "code",
   "execution_count": null,
   "id": "51eb774c",
   "metadata": {},
   "outputs": [],
   "source": []
  },
  {
   "cell_type": "code",
   "execution_count": null,
   "id": "71b4a39c",
   "metadata": {},
   "outputs": [],
   "source": []
  },
  {
   "cell_type": "code",
   "execution_count": null,
   "id": "f0c66580",
   "metadata": {},
   "outputs": [],
   "source": []
  },
  {
   "cell_type": "code",
   "execution_count": null,
   "id": "0e0865f4",
   "metadata": {},
   "outputs": [],
   "source": []
  },
  {
   "cell_type": "code",
   "execution_count": null,
   "id": "cbd43b7a",
   "metadata": {},
   "outputs": [],
   "source": []
  }
 ],
 "metadata": {
  "kernelspec": {
   "display_name": "Python 3 (ipykernel)",
   "language": "python",
   "name": "python3"
  },
  "language_info": {
   "codemirror_mode": {
    "name": "ipython",
    "version": 3
   },
   "file_extension": ".py",
   "mimetype": "text/x-python",
   "name": "python",
   "nbconvert_exporter": "python",
   "pygments_lexer": "ipython3",
   "version": "3.9.10"
  }
 },
 "nbformat": 4,
 "nbformat_minor": 5
}
