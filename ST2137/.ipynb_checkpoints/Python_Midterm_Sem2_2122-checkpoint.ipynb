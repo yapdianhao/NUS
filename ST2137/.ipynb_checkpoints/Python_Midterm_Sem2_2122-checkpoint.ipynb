{
 "cells": [
  {
   "cell_type": "code",
   "execution_count": 1,
   "metadata": {},
   "outputs": [],
   "source": [
    "import pandas as pd\n",
    "import numpy as np\n",
    "import scipy\n",
    "import statistics as st\n",
    "from statistics import mean\n",
    "from statistics import median\n",
    "from statistics import variance\n",
    "import statsmodels.api\n",
    "from scipy import stats\n",
    "from statsmodels.formula.api import ols\n",
    "import math\n",
    "import scipy.stats as scst\n",
    "import matplotlib.pyplot as plt\n",
    "import seaborn as sns\n",
    "%matplotlib inline\n",
    "sns.set(style=\"darkgrid\") # make the plot (like histogram) has clearer looking\n",
    "import statsmodels.api as sm\n",
    "from statsmodels.stats.weightstats import DescrStatsW, CompareMeans, ttest_ind\n",
    "from scipy.stats.mstats import winsorize\n"
   ]
  },
  {
   "cell_type": "code",
   "execution_count": 2,
   "metadata": {},
   "outputs": [
    {
     "data": {
      "text/html": [
       "<div>\n",
       "<style scoped>\n",
       "    .dataframe tbody tr th:only-of-type {\n",
       "        vertical-align: middle;\n",
       "    }\n",
       "\n",
       "    .dataframe tbody tr th {\n",
       "        vertical-align: top;\n",
       "    }\n",
       "\n",
       "    .dataframe thead th {\n",
       "        text-align: right;\n",
       "    }\n",
       "</style>\n",
       "<table border=\"1\" class=\"dataframe\">\n",
       "  <thead>\n",
       "    <tr style=\"text-align: right;\">\n",
       "      <th></th>\n",
       "      <th>Car_Name</th>\n",
       "      <th>Year</th>\n",
       "      <th>Selling_Price</th>\n",
       "      <th>Present_Price</th>\n",
       "      <th>Kms_Driven</th>\n",
       "      <th>Fuel_Type</th>\n",
       "      <th>Seller_Type</th>\n",
       "      <th>Transmission</th>\n",
       "      <th>Owner</th>\n",
       "    </tr>\n",
       "  </thead>\n",
       "  <tbody>\n",
       "    <tr>\n",
       "      <th>0</th>\n",
       "      <td>ritz</td>\n",
       "      <td>2014</td>\n",
       "      <td>3.35</td>\n",
       "      <td>5.59</td>\n",
       "      <td>27000</td>\n",
       "      <td>Petrol</td>\n",
       "      <td>Dealer</td>\n",
       "      <td>Manual</td>\n",
       "      <td>0</td>\n",
       "    </tr>\n",
       "    <tr>\n",
       "      <th>1</th>\n",
       "      <td>sx4</td>\n",
       "      <td>2013</td>\n",
       "      <td>4.75</td>\n",
       "      <td>9.54</td>\n",
       "      <td>43000</td>\n",
       "      <td>Diesel</td>\n",
       "      <td>Dealer</td>\n",
       "      <td>Manual</td>\n",
       "      <td>0</td>\n",
       "    </tr>\n",
       "    <tr>\n",
       "      <th>2</th>\n",
       "      <td>ciaz</td>\n",
       "      <td>2017</td>\n",
       "      <td>7.25</td>\n",
       "      <td>9.85</td>\n",
       "      <td>6900</td>\n",
       "      <td>Petrol</td>\n",
       "      <td>Dealer</td>\n",
       "      <td>Manual</td>\n",
       "      <td>0</td>\n",
       "    </tr>\n",
       "    <tr>\n",
       "      <th>3</th>\n",
       "      <td>wagon r</td>\n",
       "      <td>2011</td>\n",
       "      <td>2.85</td>\n",
       "      <td>4.15</td>\n",
       "      <td>5200</td>\n",
       "      <td>Petrol</td>\n",
       "      <td>Dealer</td>\n",
       "      <td>Manual</td>\n",
       "      <td>0</td>\n",
       "    </tr>\n",
       "    <tr>\n",
       "      <th>4</th>\n",
       "      <td>swift</td>\n",
       "      <td>2014</td>\n",
       "      <td>4.60</td>\n",
       "      <td>6.87</td>\n",
       "      <td>42450</td>\n",
       "      <td>Diesel</td>\n",
       "      <td>Dealer</td>\n",
       "      <td>Manual</td>\n",
       "      <td>0</td>\n",
       "    </tr>\n",
       "    <tr>\n",
       "      <th>...</th>\n",
       "      <td>...</td>\n",
       "      <td>...</td>\n",
       "      <td>...</td>\n",
       "      <td>...</td>\n",
       "      <td>...</td>\n",
       "      <td>...</td>\n",
       "      <td>...</td>\n",
       "      <td>...</td>\n",
       "      <td>...</td>\n",
       "    </tr>\n",
       "    <tr>\n",
       "      <th>296</th>\n",
       "      <td>city</td>\n",
       "      <td>2016</td>\n",
       "      <td>9.50</td>\n",
       "      <td>11.60</td>\n",
       "      <td>33988</td>\n",
       "      <td>Diesel</td>\n",
       "      <td>Dealer</td>\n",
       "      <td>Manual</td>\n",
       "      <td>0</td>\n",
       "    </tr>\n",
       "    <tr>\n",
       "      <th>297</th>\n",
       "      <td>brio</td>\n",
       "      <td>2015</td>\n",
       "      <td>4.00</td>\n",
       "      <td>5.90</td>\n",
       "      <td>60000</td>\n",
       "      <td>Petrol</td>\n",
       "      <td>Dealer</td>\n",
       "      <td>Manual</td>\n",
       "      <td>0</td>\n",
       "    </tr>\n",
       "    <tr>\n",
       "      <th>298</th>\n",
       "      <td>city</td>\n",
       "      <td>2009</td>\n",
       "      <td>3.35</td>\n",
       "      <td>11.00</td>\n",
       "      <td>87934</td>\n",
       "      <td>Petrol</td>\n",
       "      <td>Dealer</td>\n",
       "      <td>Manual</td>\n",
       "      <td>0</td>\n",
       "    </tr>\n",
       "    <tr>\n",
       "      <th>299</th>\n",
       "      <td>city</td>\n",
       "      <td>2017</td>\n",
       "      <td>11.50</td>\n",
       "      <td>12.50</td>\n",
       "      <td>9000</td>\n",
       "      <td>Diesel</td>\n",
       "      <td>Dealer</td>\n",
       "      <td>Manual</td>\n",
       "      <td>0</td>\n",
       "    </tr>\n",
       "    <tr>\n",
       "      <th>300</th>\n",
       "      <td>brio</td>\n",
       "      <td>2016</td>\n",
       "      <td>5.30</td>\n",
       "      <td>5.90</td>\n",
       "      <td>5464</td>\n",
       "      <td>Petrol</td>\n",
       "      <td>Dealer</td>\n",
       "      <td>Manual</td>\n",
       "      <td>0</td>\n",
       "    </tr>\n",
       "  </tbody>\n",
       "</table>\n",
       "<p>301 rows × 9 columns</p>\n",
       "</div>"
      ],
      "text/plain": [
       "    Car_Name  Year  Selling_Price  Present_Price  Kms_Driven Fuel_Type  \\\n",
       "0       ritz  2014           3.35           5.59       27000    Petrol   \n",
       "1        sx4  2013           4.75           9.54       43000    Diesel   \n",
       "2       ciaz  2017           7.25           9.85        6900    Petrol   \n",
       "3    wagon r  2011           2.85           4.15        5200    Petrol   \n",
       "4      swift  2014           4.60           6.87       42450    Diesel   \n",
       "..       ...   ...            ...            ...         ...       ...   \n",
       "296     city  2016           9.50          11.60       33988    Diesel   \n",
       "297     brio  2015           4.00           5.90       60000    Petrol   \n",
       "298     city  2009           3.35          11.00       87934    Petrol   \n",
       "299     city  2017          11.50          12.50        9000    Diesel   \n",
       "300     brio  2016           5.30           5.90        5464    Petrol   \n",
       "\n",
       "    Seller_Type Transmission  Owner  \n",
       "0        Dealer       Manual      0  \n",
       "1        Dealer       Manual      0  \n",
       "2        Dealer       Manual      0  \n",
       "3        Dealer       Manual      0  \n",
       "4        Dealer       Manual      0  \n",
       "..          ...          ...    ...  \n",
       "296      Dealer       Manual      0  \n",
       "297      Dealer       Manual      0  \n",
       "298      Dealer       Manual      0  \n",
       "299      Dealer       Manual      0  \n",
       "300      Dealer       Manual      0  \n",
       "\n",
       "[301 rows x 9 columns]"
      ]
     },
     "execution_count": 2,
     "metadata": {},
     "output_type": "execute_result"
    }
   ],
   "source": [
    "oldcars = pd.read_csv (r\"C:/Data/oldcars.csv\",sep = \",\")\n",
    "oldcars\n",
    "# sample size is 301"
   ]
  },
  {
   "cell_type": "markdown",
   "metadata": {},
   "source": [
    "# Qa\n",
    "Report the number of cars using Diesel and number of cars using Petrol."
   ]
  },
  {
   "cell_type": "code",
   "execution_count": 3,
   "metadata": {},
   "outputs": [
    {
     "name": "stdout",
     "output_type": "stream",
     "text": [
      "Petrol    239\n",
      "Diesel     60\n",
      "CNG         2\n",
      "Name: Fuel_Type, dtype: int64\n"
     ]
    }
   ],
   "source": [
    "print(oldcars['Fuel_Type'].value_counts())\n",
    "# 239 Petrol\n",
    "# 60 Diesel"
   ]
  },
  {
   "cell_type": "code",
   "execution_count": 4,
   "metadata": {},
   "outputs": [
    {
     "name": "stdout",
     "output_type": "stream",
     "text": [
      "col_0      count\n",
      "Fuel_Type       \n",
      "CNG            2\n",
      "Diesel        60\n",
      "Petrol       239\n"
     ]
    }
   ],
   "source": [
    "# can use pd.crosstab() as below to get the answer\n",
    "\n",
    "print(pd.crosstab(index=oldcars[\"Fuel_Type\"],columns=\"count\") )"
   ]
  },
  {
   "cell_type": "markdown",
   "metadata": {},
   "source": [
    "# Qb\n",
    "Report the number of cars that have manual transmission type."
   ]
  },
  {
   "cell_type": "code",
   "execution_count": 5,
   "metadata": {},
   "outputs": [
    {
     "name": "stdout",
     "output_type": "stream",
     "text": [
      "Manual       261\n",
      "Automatic     40\n",
      "Name: Transmission, dtype: int64\n"
     ]
    }
   ],
   "source": [
    "print(oldcars.Transmission.value_counts())\n",
    "# 261 Manual"
   ]
  },
  {
   "cell_type": "markdown",
   "metadata": {},
   "source": [
    "# Qc\n",
    " Report the sample mean and the sample 20% trimmed mean of the selling price.  \n",
    " What is the difference of these two means?  \n",
    " From this difference, conclude if the distribution of selling price is symmetric or not.  Why and why not?"
   ]
  },
  {
   "cell_type": "code",
   "execution_count": 6,
   "metadata": {},
   "outputs": [
    {
     "name": "stdout",
     "output_type": "stream",
     "text": [
      "4.661295681063123\n",
      "3.543756906077348\n",
      "1.1175387749857753\n"
     ]
    }
   ],
   "source": [
    "print(mean(oldcars['Selling_Price'])) #4.6613\n",
    "print( scst.trim_mean(oldcars['Selling_Price'], 0.2) ) # 20% trimmed mean, 3.54376\n",
    "diff = mean(oldcars['Selling_Price']) - scst.trim_mean(oldcars['Selling_Price'], 0.2)\n",
    "print(diff) # 1.1175\n",
    "# 1.117539/4.6613 = 0.2397486\n",
    "# That means the original mean is dropped around 24% after trimming.\n",
    "# That quite large drop suggests the selling price has a non-symmetric distribution."
   ]
  },
  {
   "cell_type": "markdown",
   "metadata": {},
   "source": [
    "# Qd\n",
    "Plot scatter plot of selling price and present price.\n",
    "Calculate the correlation coefficient value.\n",
    "Comment."
   ]
  },
  {
   "cell_type": "code",
   "execution_count": 7,
   "metadata": {},
   "outputs": [
    {
     "data": {
      "image/png": "[encoded data removed]",
      "text/plain": [
       "<Figure size 432x288 with 1 Axes>"
      ]
     },
     "metadata": {},
     "output_type": "display_data"
    }
   ],
   "source": [
    "plt.scatter(oldcars['Present_Price'], oldcars['Selling_Price'],color='b')  \n",
    "plt.xlabel('Present Price') \n",
    "plt.ylabel('Selling Price') \n",
    "#plt.title('Scatter Plot of ...') \n",
    "plt.show() "
   ]
  },
  {
   "cell_type": "code",
   "execution_count": 8,
   "metadata": {},
   "outputs": [
    {
     "name": "stdout",
     "output_type": "stream",
     "text": [
      "0.8789825451614951\n"
     ]
    }
   ],
   "source": [
    "# correlation coefficient: \n",
    "print(np.corrcoef(oldcars['Present_Price'], oldcars['Selling_Price'])[0, 1] )\n",
    "# 0.8789825451614951\n",
    "# comment: the scatter plot shows a positive relationship and might be linear.\n",
    "# There are few points that could be outliers.\n"
   ]
  },
  {
   "cell_type": "markdown",
   "metadata": {},
   "source": [
    "# Qe\n",
    "Write the code to check the normality of the selling price of the cars using Petrol (usingplot(s) and normality test).  \n",
    "Give your comment"
   ]
  },
  {
   "cell_type": "code",
   "execution_count": 9,
   "metadata": {},
   "outputs": [],
   "source": [
    "sell = oldcars['Selling_Price'] # extract the column \"Selling_Price\" from the data\n",
    "Petrol = sell[(oldcars['Fuel_Type'] == 'Petrol')] # selling price of Petrol cars\n",
    "Diesel = sell[(oldcars['Fuel_Type'] == 'Diesel')] # Selling price of Diesel cars"
   ]
  },
  {
   "cell_type": "code",
   "execution_count": 10,
   "metadata": {},
   "outputs": [
    {
     "data": {
      "image/png": "[encoded data removed]",
      "text/plain": [
       "<Figure size 432x288 with 1 Axes>"
      ]
     },
     "metadata": {},
     "output_type": "display_data"
    }
   ],
   "source": [
    "# checking  the  normality includes:\n",
    "# histogram with normal density curve\n",
    "# QQ plot\n",
    "# Shapiro Wilk test\n",
    "\n",
    "l = list(np.arange(0,20,0.1)) # min is 0.1 and max is 19.75, range (0,20) is enough\n",
    "y = scst.norm.pdf(l,loc = mean(Petrol),scale = st.stdev(Petrol)) # this equivalent to qnorm in R\n",
    "plt.plot(l, y)\n",
    "plt.hist(Petrol, range=None, density=True, color='C2') \n",
    "plt.xlabel('Selling Price of Petrol Cars') \n",
    "plt.ylabel('Probability') \n",
    "plt.show()\n",
    "# histogram looks obviously skewed (long right tail)"
   ]
  },
  {
   "cell_type": "code",
   "execution_count": 11,
   "metadata": {},
   "outputs": [
    {
     "data": {
      "image/png": "[encoded data removed]",
      "text/plain": [
       "<Figure size 432x288 with 1 Axes>"
      ]
     },
     "metadata": {},
     "output_type": "display_data"
    }
   ],
   "source": [
    "#QQ plot\n",
    "import pylab\n",
    "scst.probplot(Petrol, dist=\"norm\", plot=pylab)\n",
    "pylab.title('QQ Plot of Selling Price of Petrol Cars') \n",
    "pylab.show()\n",
    "# both tails are not normal.\n",
    "# NOTE: Sample quantiles in y-axis and Theoretical quantiles in x-axis. This is opposite from lecture notes.\n",
    "# Hence, the right tail ABOVE straight line suggests LONGER than normal."
   ]
  },
  {
   "cell_type": "code",
   "execution_count": 12,
   "metadata": {},
   "outputs": [
    {
     "name": "stdout",
     "output_type": "stream",
     "text": [
      "(0.8486546277999878, 1.50893244432607e-14)\n"
     ]
    }
   ],
   "source": [
    "# Shapiro Wilk test for the normality of Petrol,\n",
    "print(scst.shapiro(Petrol))\n",
    "\n",
    "# p- value = 1.50893244432607e-14, hence it's NOT normal."
   ]
  },
  {
   "cell_type": "code",
   "execution_count": null,
   "metadata": {},
   "outputs": [],
   "source": [
    "#comments: Selling price of Petrol cars is NOT normally distributed \n",
    "# from histogram with very right skewed, QQ plot with both tails not normal\n",
    "# and Shapiro-Wilk test with extremely small p-value"
   ]
  },
  {
   "cell_type": "markdown",
   "metadata": {},
   "source": [
    "# Qf\n",
    "Write the code to check the normality of the selling price of the cars using Diesel (usingplot(s) and normality test).  \n",
    "Give your comment."
   ]
  },
  {
   "cell_type": "code",
   "execution_count": 13,
   "metadata": {},
   "outputs": [
    {
     "data": {
      "image/png": "[encoded data removed]",
      "text/plain": [
       "<Figure size 432x288 with 1 Axes>"
      ]
     },
     "metadata": {},
     "output_type": "display_data"
    }
   ],
   "source": [
    "# check  the  normality  of  the  selling price of Diesel cars\n",
    "# Similar as in Q5, using hostogram, QQ plot and Shapiro Wilk test\n",
    "\n",
    "l = list(np.arange(3,36,0.1)) # min is 3.1 and max is 35, range (3, 36) is enough\n",
    "y = scst.norm.pdf(l,loc = mean(Diesel),scale = st.stdev(Diesel)) \n",
    "plt.plot(l, y)\n",
    "plt.hist(Diesel, range=None, density=True, color='C4') \n",
    "plt.xlabel('Selling Price of Diesel Cars') \n",
    "plt.ylabel('Probability') \n",
    "plt.show()\n",
    "# histogram is obviously skewed. "
   ]
  },
  {
   "cell_type": "code",
   "execution_count": 14,
   "metadata": {},
   "outputs": [
    {
     "data": {
      "image/png": "[encoded data removed]",
      "text/plain": [
       "<Figure size 432x288 with 1 Axes>"
      ]
     },
     "metadata": {},
     "output_type": "display_data"
    }
   ],
   "source": [
    "# QQ plot\n",
    "import pylab\n",
    "scst.probplot(Diesel, dist=\"norm\", plot=pylab)\n",
    "pylab.title('QQ Plot of Selling Price of Diesel Cars') \n",
    "pylab.show()\n",
    "# both tails are not normal (shorter/lighter/thinner than normal)"
   ]
  },
  {
   "cell_type": "code",
   "execution_count": 15,
   "metadata": {},
   "outputs": [
    {
     "name": "stdout",
     "output_type": "stream",
     "text": [
      "(0.816650927066803, 3.600152922444977e-07)\n"
     ]
    }
   ],
   "source": [
    "# Shapiro Wilk test for the normality of Diesel\n",
    "print(scst.shapiro(Diesel))\n",
    "\n",
    "# p- value = 3.6e-07, hence it's NOT normal."
   ]
  },
  {
   "cell_type": "code",
   "execution_count": null,
   "metadata": {},
   "outputs": [],
   "source": [
    "#comments: Selling price of Diesel cars is NOT normally distributed \n",
    "# from histogram with very right skewed, QQ plot with both tails not normal\n",
    "# and Shapiro-Wilk test with extremely small p-value"
   ]
  },
  {
   "cell_type": "markdown",
   "metadata": {},
   "source": [
    "# Qg\n",
    "Compare the average selling price of Petrol cars and Diesel cars.\n",
    "\n",
    "General guide: Though data distribution are not normal, however the size of each sample is large \n",
    "(60 Diesel and 239 Petrol) and two samples are independent, we can use t-test for the comparison.\n",
    "We need to determine if the two samples have equal variance by Levene test because both of them are NOT normal."
   ]
  },
  {
   "cell_type": "code",
   "execution_count": 16,
   "metadata": {},
   "outputs": [
    {
     "name": "stdout",
     "output_type": "stream",
     "text": [
      "p-value of Levene test is:  6.807902241792097e-08\n"
     ]
    }
   ],
   "source": [
    "# Test if the variances are the same\n",
    "\n",
    "Levene, p = scipy.stats.levene(Petrol, Diesel)\n",
    "#print(Levene) # test statisics\n",
    "print('p-value of Levene test is: ',p) # p-value = 6.81e-08\n",
    "\n",
    "# Since both samples are NOT normal, we use Levene test to test the equality of variance.\n",
    "# At alpha = 0.05, conclude: UNequal variances"
   ]
  },
  {
   "cell_type": "markdown",
   "metadata": {},
   "source": [
    "# Qg(i): \n",
    "(1) 2 samples are independent,\n",
    "\n",
    "(2) Both samples are not normal, \n",
    "\n",
    "(3) Each sample has large size hence, can use t-test,\n",
    "\n",
    "(4) Variances are not equal hence use t-test with unequal variances\n",
    "\n",
    "(5) One-sided test to check if Diesel - Petrol >0"
   ]
  },
  {
   "cell_type": "markdown",
   "metadata": {},
   "source": [
    "# Qg(ii)"
   ]
  },
  {
   "cell_type": "code",
   "execution_count": 17,
   "metadata": {},
   "outputs": [
    {
     "name": "stdout",
     "output_type": "stream",
     "text": [
      "Test statistic =  7.38726365732148\n",
      "p-value is  1.8261698030146747e-10\n"
     ]
    }
   ],
   "source": [
    "# Test 1\n",
    "import statsmodels.api\n",
    "Test1, p, df = statsmodels.stats.weightstats.ttest_ind(Diesel, Petrol, alternative='larger', usevar='unequal', value=0)\n",
    "print('Test statistic = ', Test1) # report the test statistic only, 7.387\n",
    "print('p-value is ',p) # report the p-value only, 1.826e-10\n",
    "#print('degree of freedom ', df) # optional to print or not\n",
    "\n",
    "# Conclusion: p-value = 1.826e-10 < alpha = 0.01.\n",
    "# Reject Ho. The average selling price of Diesel cars is more expensivive than that of Petrol cars."
   ]
  },
  {
   "cell_type": "code",
   "execution_count": null,
   "metadata": {},
   "outputs": [],
   "source": []
  }
 ],
 "metadata": {
  "kernelspec": {
   "display_name": "Python 3 (ipykernel)",
   "language": "python",
   "name": "python3"
  },
  "language_info": {
   "codemirror_mode": {
    "name": "ipython",
    "version": 3
   },
   "file_extension": ".py",
   "mimetype": "text/x-python",
   "name": "python",
   "nbconvert_exporter": "python",
   "pygments_lexer": "ipython3",
   "version": "3.9.10"
  }
 },
 "nbformat": 4,
 "nbformat_minor": 4
}
