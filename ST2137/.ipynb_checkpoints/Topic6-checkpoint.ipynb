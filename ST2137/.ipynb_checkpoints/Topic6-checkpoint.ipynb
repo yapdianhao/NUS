{
 "cells": [
  {
   "cell_type": "code",
   "execution_count": 1,
   "metadata": {},
   "outputs": [
    {
     "name": "stdout",
     "output_type": "stream",
     "text": [
      "col_0  count\n",
      "type        \n",
      "1          4\n",
      "2         12\n",
      "3          4\n"
     ]
    }
   ],
   "source": [
    "import numpy as np\n",
    "import pandas as pd\n",
    "data = pd.read_csv (r\"C:/Data/bats.csv\")\n",
    "tab = pd.crosstab(index=data[\"type\"],columns=\"count\") \n",
    "print(tab)"
   ]
  },
  {
   "cell_type": "code",
   "execution_count": 2,
   "metadata": {},
   "outputs": [
    {
     "data": {
      "image/png": "[encoded data removed]",
      "text/plain": [
       "<Figure size 432x288 with 1 Axes>"
      ]
     },
     "metadata": {
      "needs_background": "light"
     },
     "output_type": "display_data"
    }
   ],
   "source": [
    "import matplotlib.pyplot as plt\n",
    "fig = plt.figure()\n",
    "ax = fig.add_axes([0,0,1,1])\n",
    "type = ['1', '2', '3']\n",
    "counts = [4,12,4]\n",
    "ax.bar(type,counts)\n",
    "plt.xlabel('type')\n",
    "plt.ylabel('Frequency')\n",
    "plt.show()"
   ]
  },
  {
   "cell_type": "code",
   "execution_count": 3,
   "metadata": {},
   "outputs": [
    {
     "name": "stdout",
     "output_type": "stream",
     "text": [
      "Conditional Probabilties  \n",
      " [[0.08846154 0.91153846]\n",
      " [0.06690778 0.93309222]]\n",
      "RR =  1.3221413721413722\n",
      "OR =  1.3534040369483409\n"
     ]
    }
   ],
   "source": [
    "########################  CHEST PAIN SAMPLE:\n",
    "\n",
    "data = {'Yes': [46,37], 'No': [474,516]}\n",
    "\n",
    "df = pd.DataFrame(data, columns =['Yes', 'No'])\n",
    "\n",
    "tab = [ df['Yes']/(df['Yes'] + df['No']),  df['No']/(df['Yes'] + df['No']) ]\n",
    "tab = np.asmatrix([tab[0],tab[1]])\n",
    "tab = np.transpose(tab)\n",
    "print('Conditional Probabilties ', '\\n', tab)\n",
    "\n",
    "prob = df['Yes']/(df['Yes'] + df['No']) \n",
    "print('RR = ', prob[0]/prob[1] ) #this is Relative Risk\n",
    "\n",
    "odds = prob/(1-prob) #the odds of 'Yes'\n",
    "print('OR = ', odds[0]/odds[1] ) ### this is odds ratio\n"
   ]
  },
  {
   "cell_type": "code",
   "execution_count": 4,
   "metadata": {},
   "outputs": [
    {
     "name": "stdout",
     "output_type": "stream",
     "text": [
      "[[ 46 474]\n",
      " [ 37 516]]\n",
      "(1.4555294041803708, 0.2276427809700174, 1, array([[ 40.22367195, 479.77632805],\n",
      "       [ 42.77632805, 510.22367195]]))\n"
     ]
    }
   ],
   "source": [
    "import scipy.stats as scst\n",
    "obs = np.array([[46,474], [37,516]])\n",
    "print(obs)\n",
    "print (scst.chi2_contingency(obs, correction = True) ) #this will return:\n",
    "#test statistic; p-value, dof, and expected values\n"
   ]
  },
  {
   "cell_type": "code",
   "execution_count": 5,
   "metadata": {},
   "outputs": [
    {
     "name": "stdout",
     "output_type": "stream",
     "text": [
      "[[  4 184]\n",
      " [  2 260]]\n"
     ]
    },
    {
     "data": {
      "text/plain": [
       "(2.8260869565217392, 0.24118420183181116)"
      ]
     },
     "execution_count": 5,
     "metadata": {},
     "output_type": "execute_result"
    }
   ],
   "source": [
    "################ FISHER EXACT TEST\n",
    "# CLARITIN SAMPLE:\n",
    "\n",
    "import scipy.stats as scst\n",
    "claritin = np.array([[4,184], [2,260]])\n",
    "print(claritin)\n",
    "scst.fisher_exact(claritin, alternative='two-sided')\n"
   ]
  },
  {
   "cell_type": "code",
   "execution_count": 6,
   "metadata": {},
   "outputs": [
    {
     "name": "stdout",
     "output_type": "stream",
     "text": [
      "pvalue      0.00040695201744495946\n",
      "statistic   12.5\n",
      "pvalue      0.00014495849609375\n",
      "statistic   1.0\n"
     ]
    }
   ],
   "source": [
    "############## MCNEMAR TEST:\n",
    "from statsmodels.stats.contingency_tables import mcnemar\n",
    "x = np.array([[25,1], [17,7]])\n",
    "test1 = mcnemar(x, exact=False, correction=True)\n",
    "print(test1)\n",
    "# the McNemar test in R is equivalent to this test in Python but using approximate p-value.\n",
    "# the McNemar test with e-xact p-value (which should be used when table has small cell count) is:\n",
    "test2 = mcnemar(x, exact=True, correction=True)\n",
    "print(test2)"
   ]
  },
  {
   "cell_type": "code",
   "execution_count": 7,
   "metadata": {},
   "outputs": [
    {
     "name": "stdout",
     "output_type": "stream",
     "text": [
      "[[762 327 468]\n",
      " [484 239 477]]\n"
     ]
    },
    {
     "data": {
      "text/plain": [
       "(30.070149095754672,\n",
       " 2.9535891832117595e-07,\n",
       " 2,\n",
       " array([[703.67138194, 319.64526659, 533.68335147],\n",
       "        [542.32861806, 246.35473341, 411.31664853]]))"
      ]
     },
     "execution_count": 7,
     "metadata": {},
     "output_type": "execute_result"
    }
   ],
   "source": [
    "###############  POLITICAL EXAMPLE: \n",
    "\n",
    "obs = np.array([[762,327,468], [484,239,477]])\n",
    "print(obs)\n",
    "scst.chi2_contingency(obs, correction = True)\n",
    "\n",
    "\n",
    "##############################"
   ]
  },
  {
   "cell_type": "code",
   "execution_count": 8,
   "metadata": {},
   "outputs": [],
   "source": [
    "def linear_by_linear_test(col1, col2, u, v):\n",
    "    matrix = [col1, col2]\n",
    "    row_total = [a + b for a,b in zip(col1, col2)]\n",
    "    col_total = [sum(col1), sum(col2)]\n",
    "    n = sum(row_total)\n",
    "    \n",
    "    row_p = [x / n for x in row_total]\n",
    "    ubar = sum([a*b for a,b in zip(row_p, u)])\n",
    "    col_p = [x / n for x in col_total]\n",
    "    vbar = sum([a*b for a,b in zip(col_p, v)])\n",
    "    \n",
    "    numerator = 0\n",
    "    for i in range(len(u)):\n",
    "        for j in range(len(v)):\n",
    "            ui = u[i]\n",
    "            vj = v[j]\n",
    "            pij = matrix[j][i] / n\n",
    "            numerator += (ui - ubar) * (vj - vbar) * pij\n",
    "\n",
    "    \n",
    "    denominator = (sum([row_p[i] * (u[i] - ubar)**2 for i in range(len(u))]) * \\\n",
    "                   sum([col_p[j] * (v[j] - vbar)**2 for j in range(len(v))]))**0.5\n",
    "    \n",
    "    r = numerator / denominator\n",
    "    M = (n-1) * r**2\n",
    "    p_value = 1- scst.chi2.cdf(M, 1)\n",
    "    return \"M is {} and two sided p-value is {}\".format(M,p_value)\n",
    "\n"
   ]
  },
  {
   "cell_type": "code",
   "execution_count": 11,
   "metadata": {},
   "outputs": [
    {
     "data": {
      "text/plain": [
       "'M is 6.569932245990481 and two sided p-value is 0.01037158991663134'"
      ]
     },
     "execution_count": 11,
     "metadata": {},
     "output_type": "execute_result"
    }
   ],
   "source": [
    "# test using lecture example\n",
    "\n",
    "col1 = [17066, 14464, 788, 126, 37]\n",
    "col2 = [48, 38, 5, 1, 1]\n",
    "u = [0, 0.5, 1.5, 4, 7]\n",
    "#u = [1,2,3,4,5]\n",
    "v = [0, 1]\n",
    "\n",
    "linear_by_linear_test(col1, col2, u, v)"
   ]
  },
  {
   "cell_type": "code",
   "execution_count": 15,
   "metadata": {},
   "outputs": [
    {
     "name": "stdout",
     "output_type": "stream",
     "text": [
      "[[17066 14464   788   126    37]\n",
      " [   48    38     5     1     1]]\n"
     ]
    }
   ],
   "source": [
    "# Linear-by-Linear association test\n",
    "# Using a built-in command in Python:\n",
    "\n",
    "import statsmodels.api as sm\n",
    "\n",
    "table = np.array([[17066, 14464, 788, 126, 37],[48, 38, 5, 1, 1]])\n",
    "\n",
    "print(table)"
   ]
  },
  {
   "cell_type": "code",
   "execution_count": 17,
   "metadata": {},
   "outputs": [
    {
     "name": "stdout",
     "output_type": "stream",
     "text": [
      "null_mean   26.307745441149383\n",
      "null_sd     4.366536892904495\n",
      "pvalue      0.010371589916631332\n",
      "statistic   37.5\n",
      "zscore      2.5631879068828503\n"
     ]
    }
   ],
   "source": [
    "ct = sm.stats.Table(np.asarray(table))\n",
    "\n",
    "row_scores = np.asarray([0,1]) # scores for 2 rows\n",
    "\n",
    "col_scores = np.asarray([0,0.5,1.5,4,7]) # scores for 5 columns\n",
    "\n",
    "print(ct.test_ordinal_association(row_scores=row_scores, col_scores=col_scores))"
   ]
  },
  {
   "cell_type": "code",
   "execution_count": null,
   "metadata": {},
   "outputs": [],
   "source": []
  }
 ],
 "metadata": {
  "kernelspec": {
   "display_name": "Python 3 (ipykernel)",
   "language": "python",
   "name": "python3"
  },
  "language_info": {
   "codemirror_mode": {
    "name": "ipython",
    "version": 3
   },
   "file_extension": ".py",
   "mimetype": "text/x-python",
   "name": "python",
   "nbconvert_exporter": "python",
   "pygments_lexer": "ipython3",
   "version": "3.9.10"
  }
 },
 "nbformat": 4,
 "nbformat_minor": 4
}
