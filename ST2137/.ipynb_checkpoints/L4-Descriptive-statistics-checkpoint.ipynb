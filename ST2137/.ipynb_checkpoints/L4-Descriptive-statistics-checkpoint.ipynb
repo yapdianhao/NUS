{
 "cells": [
  {
   "cell_type": "code",
   "execution_count": 24,
   "id": "4e9e8a27",
   "metadata": {},
   "outputs": [],
   "source": [
    "import numpy as np\n",
    "import math\n",
    "import pandas as pd\n",
    "from statistics import mean\n",
    "from statistics import median\n",
    "from statistics import stdev\n",
    "from statistics import variance"
   ]
  },
  {
   "cell_type": "code",
   "execution_count": 2,
   "id": "70ae2eaf",
   "metadata": {},
   "outputs": [],
   "source": [
    "data = pd.read_csv('midterm_marks')"
   ]
  },
  {
   "cell_type": "code",
   "execution_count": 4,
   "id": "bec641f5",
   "metadata": {},
   "outputs": [],
   "source": [
    "data.columns = ['obs', 'marks']"
   ]
  },
  {
   "cell_type": "code",
   "execution_count": 5,
   "id": "359a35a3",
   "metadata": {},
   "outputs": [
    {
     "data": {
      "text/html": [
       "<div>\n",
       "<style scoped>\n",
       "    .dataframe tbody tr th:only-of-type {\n",
       "        vertical-align: middle;\n",
       "    }\n",
       "\n",
       "    .dataframe tbody tr th {\n",
       "        vertical-align: top;\n",
       "    }\n",
       "\n",
       "    .dataframe thead th {\n",
       "        text-align: right;\n",
       "    }\n",
       "</style>\n",
       "<table border=\"1\" class=\"dataframe\">\n",
       "  <thead>\n",
       "    <tr style=\"text-align: right;\">\n",
       "      <th></th>\n",
       "      <th>obs</th>\n",
       "      <th>marks</th>\n",
       "    </tr>\n",
       "  </thead>\n",
       "  <tbody>\n",
       "    <tr>\n",
       "      <th>0</th>\n",
       "      <td>1</td>\n",
       "      <td>15.0</td>\n",
       "    </tr>\n",
       "    <tr>\n",
       "      <th>1</th>\n",
       "      <td>2</td>\n",
       "      <td>18.0</td>\n",
       "    </tr>\n",
       "    <tr>\n",
       "      <th>2</th>\n",
       "      <td>3</td>\n",
       "      <td>27.0</td>\n",
       "    </tr>\n",
       "    <tr>\n",
       "      <th>3</th>\n",
       "      <td>4</td>\n",
       "      <td>20.0</td>\n",
       "    </tr>\n",
       "    <tr>\n",
       "      <th>4</th>\n",
       "      <td>5</td>\n",
       "      <td>15.0</td>\n",
       "    </tr>\n",
       "    <tr>\n",
       "      <th>...</th>\n",
       "      <td>...</td>\n",
       "      <td>...</td>\n",
       "    </tr>\n",
       "    <tr>\n",
       "      <th>93</th>\n",
       "      <td>94</td>\n",
       "      <td>7.0</td>\n",
       "    </tr>\n",
       "    <tr>\n",
       "      <th>94</th>\n",
       "      <td>95</td>\n",
       "      <td>24.0</td>\n",
       "    </tr>\n",
       "    <tr>\n",
       "      <th>95</th>\n",
       "      <td>96</td>\n",
       "      <td>6.5</td>\n",
       "    </tr>\n",
       "    <tr>\n",
       "      <th>96</th>\n",
       "      <td>97</td>\n",
       "      <td>22.0</td>\n",
       "    </tr>\n",
       "    <tr>\n",
       "      <th>97</th>\n",
       "      <td>98</td>\n",
       "      <td>27.5</td>\n",
       "    </tr>\n",
       "  </tbody>\n",
       "</table>\n",
       "<p>98 rows × 2 columns</p>\n",
       "</div>"
      ],
      "text/plain": [
       "    obs  marks\n",
       "0     1   15.0\n",
       "1     2   18.0\n",
       "2     3   27.0\n",
       "3     4   20.0\n",
       "4     5   15.0\n",
       "..  ...    ...\n",
       "93   94    7.0\n",
       "94   95   24.0\n",
       "95   96    6.5\n",
       "96   97   22.0\n",
       "97   98   27.5\n",
       "\n",
       "[98 rows x 2 columns]"
      ]
     },
     "execution_count": 5,
     "metadata": {},
     "output_type": "execute_result"
    }
   ],
   "source": [
    "data"
   ]
  },
  {
   "cell_type": "code",
   "execution_count": 7,
   "id": "95496519",
   "metadata": {},
   "outputs": [
    {
     "data": {
      "text/plain": [
       "17.5"
      ]
     },
     "execution_count": 7,
     "metadata": {},
     "output_type": "execute_result"
    }
   ],
   "source": [
    "mean(data['marks'])"
   ]
  },
  {
   "cell_type": "code",
   "execution_count": 10,
   "id": "2b4244eb",
   "metadata": {},
   "outputs": [
    {
     "data": {
      "text/plain": [
       "18.25"
      ]
     },
     "execution_count": 10,
     "metadata": {},
     "output_type": "execute_result"
    }
   ],
   "source": [
    "median(data['marks'])"
   ]
  },
  {
   "cell_type": "code",
   "execution_count": 11,
   "id": "506fab71",
   "metadata": {},
   "outputs": [
    {
     "data": {
      "text/plain": [
       "53.8041237113402"
      ]
     },
     "execution_count": 11,
     "metadata": {},
     "output_type": "execute_result"
    }
   ],
   "source": [
    "variance(data['marks'])"
   ]
  },
  {
   "cell_type": "code",
   "execution_count": 12,
   "id": "e76baf7b",
   "metadata": {},
   "outputs": [
    {
     "data": {
      "text/plain": [
       "12.125"
      ]
     },
     "execution_count": 12,
     "metadata": {},
     "output_type": "execute_result"
    }
   ],
   "source": [
    "np.quantile(data['marks'], 0.25)"
   ]
  },
  {
   "cell_type": "code",
   "execution_count": 13,
   "id": "446337f8",
   "metadata": {},
   "outputs": [
    {
     "data": {
      "text/plain": [
       "18.25"
      ]
     },
     "execution_count": 13,
     "metadata": {},
     "output_type": "execute_result"
    }
   ],
   "source": [
    "np.quantile(data['marks'], 0.5)"
   ]
  },
  {
   "cell_type": "code",
   "execution_count": 14,
   "id": "6dd7045d",
   "metadata": {},
   "outputs": [
    {
     "data": {
      "text/plain": [
       "24.0"
      ]
     },
     "execution_count": 14,
     "metadata": {},
     "output_type": "execute_result"
    }
   ],
   "source": [
    "np.quantile(data['marks'], 0.75)"
   ]
  },
  {
   "cell_type": "code",
   "execution_count": 15,
   "id": "80c358ea",
   "metadata": {},
   "outputs": [
    {
     "data": {
      "text/plain": [
       "0.5"
      ]
     },
     "execution_count": 15,
     "metadata": {},
     "output_type": "execute_result"
    }
   ],
   "source": [
    "min(data['marks'])"
   ]
  },
  {
   "cell_type": "code",
   "execution_count": 16,
   "id": "cabd6874",
   "metadata": {},
   "outputs": [
    {
     "data": {
      "text/plain": [
       "28.0"
      ]
     },
     "execution_count": 16,
     "metadata": {},
     "output_type": "execute_result"
    }
   ],
   "source": [
    "max(data['marks'])"
   ]
  },
  {
   "cell_type": "code",
   "execution_count": 17,
   "id": "e4b0c58b",
   "metadata": {},
   "outputs": [
    {
     "data": {
      "text/plain": [
       "count    98.000000\n",
       "mean     17.500000\n",
       "std       7.335129\n",
       "min       0.500000\n",
       "25%      12.125000\n",
       "50%      18.250000\n",
       "75%      24.000000\n",
       "max      28.000000\n",
       "Name: marks, dtype: float64"
      ]
     },
     "execution_count": 17,
     "metadata": {},
     "output_type": "execute_result"
    }
   ],
   "source": [
    "data['marks'].describe()"
   ]
  },
  {
   "cell_type": "code",
   "execution_count": 18,
   "id": "ba134991",
   "metadata": {},
   "outputs": [
    {
     "data": {
      "text/plain": [
       "53.8041237113402"
      ]
     },
     "execution_count": 18,
     "metadata": {},
     "output_type": "execute_result"
    }
   ],
   "source": [
    "variance(data['marks'])"
   ]
  },
  {
   "cell_type": "code",
   "execution_count": 21,
   "id": "52f6046b",
   "metadata": {},
   "outputs": [
    {
     "data": {
      "text/plain": [
       "7.335129427034005"
      ]
     },
     "execution_count": 21,
     "metadata": {},
     "output_type": "execute_result"
    }
   ],
   "source": [
    "stdev(data['marks'])"
   ]
  },
  {
   "cell_type": "code",
   "execution_count": 22,
   "id": "711bd9fa",
   "metadata": {},
   "outputs": [],
   "source": [
    "q75, q25 = np.percentile(data['marks'], [75, 25])"
   ]
  },
  {
   "cell_type": "code",
   "execution_count": 23,
   "id": "340f0061",
   "metadata": {},
   "outputs": [
    {
     "data": {
      "text/plain": [
       "11.875"
      ]
     },
     "execution_count": 23,
     "metadata": {},
     "output_type": "execute_result"
    }
   ],
   "source": [
    "iqr = q75 - q25\n",
    "iqr"
   ]
  },
  {
   "cell_type": "code",
   "execution_count": 43,
   "id": "951d3b3e",
   "metadata": {},
   "outputs": [],
   "source": [
    "def skewness(x):\n",
    "    n = len(x)\n",
    "    x_bar = mean(x)\n",
    "    m2 = 0\n",
    "    m3 = 0\n",
    "    for num in x:\n",
    "        m2 += ((num - x_bar) ** 2)\n",
    "        m3 += ((num - x_bar) ** 3)\n",
    "    m2 /= n\n",
    "    m3 /= n\n",
    "    return (math.sqrt(n * (n - 1)) / (n - 2)) * (m3 / (m2 ** 1.5))"
   ]
  },
  {
   "cell_type": "code",
   "execution_count": 44,
   "id": "574b3ad7",
   "metadata": {},
   "outputs": [
    {
     "data": {
      "text/plain": [
       "-0.42051131675022363"
      ]
     },
     "execution_count": 44,
     "metadata": {},
     "output_type": "execute_result"
    }
   ],
   "source": [
    "skewness(data['marks'])"
   ]
  },
  {
   "cell_type": "code",
   "execution_count": 45,
   "id": "d6445133",
   "metadata": {},
   "outputs": [],
   "source": [
    "def kurtosis(x):\n",
    "    n = len(x)\n",
    "    x_bar = mean(x)\n",
    "    m2 = 0\n",
    "    m4 = 0\n",
    "    for num in x:\n",
    "        m2 += ((num - x_bar) ** 2)\n",
    "        m4 += ((num - x_bar) ** 4)\n",
    "    m2 /= n\n",
    "    m4 /= n\n",
    "    return ((n - 1) / ((n - 2) * (n - 3))) * ((m4 * (n + 1)) / m2 ** 2 - 3 * (n - 1))"
   ]
  },
  {
   "cell_type": "code",
   "execution_count": 46,
   "id": "add8f117",
   "metadata": {},
   "outputs": [
    {
     "data": {
      "text/plain": [
       "-0.6471976744377083"
      ]
     },
     "execution_count": 46,
     "metadata": {},
     "output_type": "execute_result"
    }
   ],
   "source": [
    "kurtosis(data['marks'])"
   ]
  },
  {
   "cell_type": "code",
   "execution_count": 48,
   "id": "80ae48b1",
   "metadata": {},
   "outputs": [],
   "source": [
    "import matplotlib.pyplot as plt"
   ]
  },
  {
   "cell_type": "code",
   "execution_count": 50,
   "id": "898a32d5",
   "metadata": {},
   "outputs": [],
   "source": [
    "midterm = data['marks']"
   ]
  },
  {
   "cell_type": "code",
   "execution_count": 61,
   "id": "eff7518b",
   "metadata": {},
   "outputs": [
    {
     "data": {
      "image/png": "[encoded data removed]",
      "text/plain": [
       "<Figure size 432x288 with 1 Axes>"
      ]
     },
     "metadata": {
      "needs_background": "light"
     },
     "output_type": "display_data"
    }
   ],
   "source": [
    "plt.hist(midterm, density = True, bins = None)\n",
    "plt.title('Histogram of Midterm')\n",
    "plt.xlabel('Values')\n",
    "plt.ylabel('Probability')\n",
    "plt.show()"
   ]
  },
  {
   "cell_type": "code",
   "execution_count": 70,
   "id": "9810276c",
   "metadata": {},
   "outputs": [
    {
     "data": {
      "image/png": "[encoded data removed]",
      "text/plain": [
       "<Figure size 432x288 with 1 Axes>"
      ]
     },
     "metadata": {
      "needs_background": "light"
     },
     "output_type": "display_data"
    }
   ],
   "source": [
    "import scipy.stats as scst\n",
    "x = list(np.arange(0, 30, 0.5))\n",
    "y = scst.norm.pdf(l, loc = mean(x), scale = stdev(x))\n",
    "plt.plot(l, y)\n",
    "plt.hist(midterm, density = True)\n",
    "plt.title(\"Histogram of Midterm\")\n",
    "plt.xlabel(\"Values\")\n",
    "plt.ylabel(\"Probability\")\n",
    "plt.show()"
   ]
  },
  {
   "cell_type": "code",
   "execution_count": 72,
   "id": "1c8a673b",
   "metadata": {},
   "outputs": [
    {
     "data": {
      "image/png": "[encoded data removed]",
      "text/plain": [
       "<Figure size 432x288 with 1 Axes>"
      ]
     },
     "metadata": {
      "needs_background": "light"
     },
     "output_type": "display_data"
    }
   ],
   "source": [
    "plt.boxplot(midterm)\n",
    "plt.title(\"Histogram of marks\")\n",
    "plt.xlabel(\"Midterm marks\")\n",
    "plt.ylabel(\"Values\")\n",
    "plt.show()"
   ]
  },
  {
   "cell_type": "code",
   "execution_count": null,
   "id": "b068adeb",
   "metadata": {},
   "outputs": [],
   "source": []
  },
  {
   "cell_type": "code",
   "execution_count": null,
   "id": "98a4c82b",
   "metadata": {},
   "outputs": [],
   "source": []
  },
  {
   "cell_type": "code",
   "execution_count": null,
   "id": "c366f31f",
   "metadata": {},
   "outputs": [],
   "source": []
  },
  {
   "cell_type": "code",
   "execution_count": null,
   "id": "ff73e45b",
   "metadata": {},
   "outputs": [],
   "source": []
  },
  {
   "cell_type": "code",
   "execution_count": null,
   "id": "529d0f62",
   "metadata": {},
   "outputs": [],
   "source": []
  }
 ],
 "metadata": {
  "kernelspec": {
   "display_name": "Python 3 (ipykernel)",
   "language": "python",
   "name": "python3"
  },
  "language_info": {
   "codemirror_mode": {
    "name": "ipython",
    "version": 3
   },
   "file_extension": ".py",
   "mimetype": "text/x-python",
   "name": "python",
   "nbconvert_exporter": "python",
   "pygments_lexer": "ipython3",
   "version": "3.9.10"
  }
 },
 "nbformat": 4,
 "nbformat_minor": 5
}
