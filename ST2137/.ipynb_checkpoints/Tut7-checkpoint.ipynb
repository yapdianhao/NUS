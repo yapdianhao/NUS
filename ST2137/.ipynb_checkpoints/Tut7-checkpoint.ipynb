{
 "cells": [
  {
   "cell_type": "code",
   "execution_count": 2,
   "id": "47472310",
   "metadata": {},
   "outputs": [],
   "source": [
    "import pandas as pd\n",
    "import numpy as np\n",
    "import scipy\n",
    "import math\n",
    "import statistics as st\n",
    "import scipy.stats as scst\n",
    "import statsmodels.api\n",
    "import matplotlib.pyplot as plt\n",
    "import pylab"
   ]
  },
  {
   "cell_type": "code",
   "execution_count": 3,
   "id": "103630c9",
   "metadata": {},
   "outputs": [],
   "source": [
    "data = pd.read_csv('./weeklies.txt')"
   ]
  },
  {
   "cell_type": "code",
   "execution_count": 4,
   "id": "ecaf32e4",
   "metadata": {},
   "outputs": [
    {
     "data": {
      "text/html": [
       "<div>\n",
       "<style scoped>\n",
       "    .dataframe tbody tr th:only-of-type {\n",
       "        vertical-align: middle;\n",
       "    }\n",
       "\n",
       "    .dataframe tbody tr th {\n",
       "        vertical-align: top;\n",
       "    }\n",
       "\n",
       "    .dataframe thead th {\n",
       "        text-align: right;\n",
       "    }\n",
       "</style>\n",
       "<table border=\"1\" class=\"dataframe\">\n",
       "  <thead>\n",
       "    <tr style=\"text-align: right;\">\n",
       "      <th></th>\n",
       "      <th>magazine</th>\n",
       "      <th>current</th>\n",
       "      <th>lastyear</th>\n",
       "    </tr>\n",
       "  </thead>\n",
       "  <tbody>\n",
       "    <tr>\n",
       "      <th>0</th>\n",
       "      <td>Business Week</td>\n",
       "      <td>88.36</td>\n",
       "      <td>118.03</td>\n",
       "    </tr>\n",
       "    <tr>\n",
       "      <th>1</th>\n",
       "      <td>The Economist</td>\n",
       "      <td>48.00</td>\n",
       "      <td>65.00</td>\n",
       "    </tr>\n",
       "    <tr>\n",
       "      <th>2</th>\n",
       "      <td>Newsweek</td>\n",
       "      <td>17.73</td>\n",
       "      <td>42.78</td>\n",
       "    </tr>\n",
       "    <tr>\n",
       "      <th>3</th>\n",
       "      <td>The New Republic</td>\n",
       "      <td>9.33</td>\n",
       "      <td>10.47</td>\n",
       "    </tr>\n",
       "    <tr>\n",
       "      <th>4</th>\n",
       "      <td>Time</td>\n",
       "      <td>19.46</td>\n",
       "      <td>71.37</td>\n",
       "    </tr>\n",
       "    <tr>\n",
       "      <th>5</th>\n",
       "      <td>US News &amp; World Report</td>\n",
       "      <td>11.00</td>\n",
       "      <td>38.09</td>\n",
       "    </tr>\n",
       "    <tr>\n",
       "      <th>6</th>\n",
       "      <td>The Weekly Standard</td>\n",
       "      <td>10.00</td>\n",
       "      <td>14.00</td>\n",
       "    </tr>\n",
       "    <tr>\n",
       "      <th>7</th>\n",
       "      <td>Auto Week</td>\n",
       "      <td>25.41</td>\n",
       "      <td>22.33</td>\n",
       "    </tr>\n",
       "    <tr>\n",
       "      <th>8</th>\n",
       "      <td>Entertainment Weekly</td>\n",
       "      <td>36.00</td>\n",
       "      <td>29.36</td>\n",
       "    </tr>\n",
       "    <tr>\n",
       "      <th>9</th>\n",
       "      <td>Golf World</td>\n",
       "      <td>33.67</td>\n",
       "      <td>14.32</td>\n",
       "    </tr>\n",
       "    <tr>\n",
       "      <th>10</th>\n",
       "      <td>New York</td>\n",
       "      <td>44.00</td>\n",
       "      <td>88.80</td>\n",
       "    </tr>\n",
       "    <tr>\n",
       "      <th>11</th>\n",
       "      <td>People</td>\n",
       "      <td>55.73</td>\n",
       "      <td>85.62</td>\n",
       "    </tr>\n",
       "    <tr>\n",
       "      <th>12</th>\n",
       "      <td>The Sporting News</td>\n",
       "      <td>7.70</td>\n",
       "      <td>7.00</td>\n",
       "    </tr>\n",
       "    <tr>\n",
       "      <th>13</th>\n",
       "      <td>Sports Illustrated</td>\n",
       "      <td>38.14</td>\n",
       "      <td>74.70</td>\n",
       "    </tr>\n",
       "    <tr>\n",
       "      <th>14</th>\n",
       "      <td>The New Yorker</td>\n",
       "      <td>27.37</td>\n",
       "      <td>33.53</td>\n",
       "    </tr>\n",
       "    <tr>\n",
       "      <th>15</th>\n",
       "      <td>TV Guide</td>\n",
       "      <td>82.02</td>\n",
       "      <td>41.44</td>\n",
       "    </tr>\n",
       "    <tr>\n",
       "      <th>16</th>\n",
       "      <td>US Weekly</td>\n",
       "      <td>38.33</td>\n",
       "      <td>20.00</td>\n",
       "    </tr>\n",
       "    <tr>\n",
       "      <th>17</th>\n",
       "      <td>Parade</td>\n",
       "      <td>9.63</td>\n",
       "      <td>13.04</td>\n",
       "    </tr>\n",
       "    <tr>\n",
       "      <th>18</th>\n",
       "      <td>USA Weekend</td>\n",
       "      <td>8.00</td>\n",
       "      <td>10.75</td>\n",
       "    </tr>\n",
       "  </tbody>\n",
       "</table>\n",
       "</div>"
      ],
      "text/plain": [
       "                  magazine  current  lastyear\n",
       "0            Business Week    88.36    118.03\n",
       "1            The Economist    48.00     65.00\n",
       "2                 Newsweek    17.73     42.78\n",
       "3         The New Republic     9.33     10.47\n",
       "4                     Time    19.46     71.37\n",
       "5   US News & World Report    11.00     38.09\n",
       "6      The Weekly Standard    10.00     14.00\n",
       "7                Auto Week    25.41     22.33\n",
       "8     Entertainment Weekly    36.00     29.36\n",
       "9               Golf World    33.67     14.32\n",
       "10                New York    44.00     88.80\n",
       "11                  People    55.73     85.62\n",
       "12       The Sporting News     7.70      7.00\n",
       "13      Sports Illustrated    38.14     74.70\n",
       "14          The New Yorker    27.37     33.53\n",
       "15                TV Guide    82.02     41.44\n",
       "16               US Weekly    38.33     20.00\n",
       "17                  Parade     9.63     13.04\n",
       "18             USA Weekend     8.00     10.75"
      ]
     },
     "execution_count": 4,
     "metadata": {},
     "output_type": "execute_result"
    }
   ],
   "source": [
    "data"
   ]
  },
  {
   "cell_type": "code",
   "execution_count": 5,
   "id": "7679a204",
   "metadata": {},
   "outputs": [],
   "source": [
    "diff = data.current - data.lastyear"
   ]
  },
  {
   "cell_type": "code",
   "execution_count": 8,
   "id": "a5f966b4",
   "metadata": {},
   "outputs": [
    {
     "data": {
      "text/plain": [
       "Ttest_relResult(statistic=-1.853565220621631, pvalue=0.08026526054859673)"
      ]
     },
     "execution_count": 8,
     "metadata": {},
     "output_type": "execute_result"
    }
   ],
   "source": [
    "scipy.stats.ttest_rel(data.current, data.lastyear, axis = 0, nan_policy = 'propagate')"
   ]
  },
  {
   "cell_type": "code",
   "execution_count": 9,
   "id": "216bae55",
   "metadata": {},
   "outputs": [
    {
     "data": {
      "text/plain": [
       "ShapiroResult(statistic=0.9742279648780823, pvalue=0.8566572070121765)"
      ]
     },
     "execution_count": 9,
     "metadata": {},
     "output_type": "execute_result"
    }
   ],
   "source": [
    "scst.shapiro(data.current - data.lastyear)"
   ]
  },
  {
   "cell_type": "code",
   "execution_count": 16,
   "id": "981d779c",
   "metadata": {},
   "outputs": [],
   "source": [
    "machines = pd.read_csv('./machine.txt', delimiter = ' ')"
   ]
  },
  {
   "cell_type": "code",
   "execution_count": 17,
   "id": "eeb3c030",
   "metadata": {},
   "outputs": [
    {
     "data": {
      "text/html": [
       "<div>\n",
       "<style scoped>\n",
       "    .dataframe tbody tr th:only-of-type {\n",
       "        vertical-align: middle;\n",
       "    }\n",
       "\n",
       "    .dataframe tbody tr th {\n",
       "        vertical-align: top;\n",
       "    }\n",
       "\n",
       "    .dataframe thead th {\n",
       "        text-align: right;\n",
       "    }\n",
       "</style>\n",
       "<table border=\"1\" class=\"dataframe\">\n",
       "  <thead>\n",
       "    <tr style=\"text-align: right;\">\n",
       "      <th></th>\n",
       "      <th>strength</th>\n",
       "      <th>machine</th>\n",
       "    </tr>\n",
       "  </thead>\n",
       "  <tbody>\n",
       "    <tr>\n",
       "      <th>0</th>\n",
       "      <td>43.6</td>\n",
       "      <td>O</td>\n",
       "    </tr>\n",
       "    <tr>\n",
       "      <th>1</th>\n",
       "      <td>78.4</td>\n",
       "      <td>O</td>\n",
       "    </tr>\n",
       "    <tr>\n",
       "      <th>2</th>\n",
       "      <td>62.1</td>\n",
       "      <td>O</td>\n",
       "    </tr>\n",
       "    <tr>\n",
       "      <th>3</th>\n",
       "      <td>65.1</td>\n",
       "      <td>O</td>\n",
       "    </tr>\n",
       "    <tr>\n",
       "      <th>4</th>\n",
       "      <td>69.2</td>\n",
       "      <td>O</td>\n",
       "    </tr>\n",
       "    <tr>\n",
       "      <th>...</th>\n",
       "      <td>...</td>\n",
       "      <td>...</td>\n",
       "    </tr>\n",
       "    <tr>\n",
       "      <th>95</th>\n",
       "      <td>66.0</td>\n",
       "      <td>N</td>\n",
       "    </tr>\n",
       "    <tr>\n",
       "      <th>96</th>\n",
       "      <td>82.7</td>\n",
       "      <td>N</td>\n",
       "    </tr>\n",
       "    <tr>\n",
       "      <th>97</th>\n",
       "      <td>62.0</td>\n",
       "      <td>N</td>\n",
       "    </tr>\n",
       "    <tr>\n",
       "      <th>98</th>\n",
       "      <td>67.0</td>\n",
       "      <td>N</td>\n",
       "    </tr>\n",
       "    <tr>\n",
       "      <th>99</th>\n",
       "      <td>70.2</td>\n",
       "      <td>N</td>\n",
       "    </tr>\n",
       "  </tbody>\n",
       "</table>\n",
       "<p>100 rows × 2 columns</p>\n",
       "</div>"
      ],
      "text/plain": [
       "    strength machine\n",
       "0       43.6       O\n",
       "1       78.4       O\n",
       "2       62.1       O\n",
       "3       65.1       O\n",
       "4       69.2       O\n",
       "..       ...     ...\n",
       "95      66.0       N\n",
       "96      82.7       N\n",
       "97      62.0       N\n",
       "98      67.0       N\n",
       "99      70.2       N\n",
       "\n",
       "[100 rows x 2 columns]"
      ]
     },
     "execution_count": 17,
     "metadata": {},
     "output_type": "execute_result"
    }
   ],
   "source": [
    "machines"
   ]
  },
  {
   "cell_type": "code",
   "execution_count": 19,
   "id": "7db5e46e",
   "metadata": {},
   "outputs": [],
   "source": [
    "old = machines[machines['machine'] == 'O']"
   ]
  },
  {
   "cell_type": "code",
   "execution_count": 20,
   "id": "66128936",
   "metadata": {},
   "outputs": [],
   "source": [
    "new = machines[machines['machine'] == 'N']"
   ]
  },
  {
   "cell_type": "code",
   "execution_count": 21,
   "id": "cbe2bb1b",
   "metadata": {},
   "outputs": [],
   "source": [
    "old_strength = old.strength"
   ]
  },
  {
   "cell_type": "code",
   "execution_count": 22,
   "id": "ecb97660",
   "metadata": {},
   "outputs": [],
   "source": [
    "new_strength = new.strength"
   ]
  },
  {
   "cell_type": "code",
   "execution_count": null,
   "id": "d807df8d",
   "metadata": {},
   "outputs": [],
   "source": []
  },
  {
   "cell_type": "code",
   "execution_count": null,
   "id": "4dde44d4",
   "metadata": {},
   "outputs": [],
   "source": []
  }
 ],
 "metadata": {
  "kernelspec": {
   "display_name": "Python 3 (ipykernel)",
   "language": "python",
   "name": "python3"
  },
  "language_info": {
   "codemirror_mode": {
    "name": "ipython",
    "version": 3
   },
   "file_extension": ".py",
   "mimetype": "text/x-python",
   "name": "python",
   "nbconvert_exporter": "python",
   "pygments_lexer": "ipython3",
   "version": "3.9.10"
  }
 },
 "nbformat": 4,
 "nbformat_minor": 5
}
