{
 "cells": [
  {
   "cell_type": "code",
   "execution_count": 1,
   "metadata": {},
   "outputs": [],
   "source": [
    "import pandas as pd\n",
    "import numpy as np\n",
    "import scipy\n",
    "import statistics as st\n",
    "from statistics import mean\n",
    "from statistics import median\n",
    "from statistics import variance\n",
    "from scipy import stats\n",
    "import math\n",
    "import scipy.stats as scst\n",
    "import matplotlib\n",
    "import statsmodels.api as sm \n",
    "from statsmodels.formula.api import ols\n",
    "import pylab\n"
   ]
  },
  {
   "cell_type": "markdown",
   "metadata": {},
   "source": [
    "# Q1"
   ]
  },
  {
   "cell_type": "code",
   "execution_count": 2,
   "metadata": {},
   "outputs": [
    {
     "name": "stdout",
     "output_type": "stream",
     "text": [
      "0    14\n",
      "1    17\n",
      "2    -2\n",
      "3    15\n",
      "4     7\n",
      "5     6\n",
      "6    -4\n",
      "7     9\n",
      "8     5\n",
      "9     3\n",
      "dtype: int64\n"
     ]
    }
   ],
   "source": [
    "########  Q1\n",
    "data = pd.read_csv (r\"C:\\Data\\flextime.txt\", sep = \" \")\n",
    "#print(data)\n",
    "diff = data.after - data.before\n",
    "print(diff)\n",
    "n  = len(diff)"
   ]
  },
  {
   "cell_type": "code",
   "execution_count": 3,
   "metadata": {},
   "outputs": [
    {
     "name": "stdout",
     "output_type": "stream",
     "text": [
      "Test statistic is:  4.0\n",
      "p-value is:  0.016604878103722735\n"
     ]
    }
   ],
   "source": [
    "### A non-parametric test for this case \n",
    "#(though we can use t-test, since the qq plot of diff and normality test shows that diff~normal.)\n",
    "t2, p2  = scipy.stats.wilcoxon(x = diff, y=None, zero_method='wilcox', correction=False, alternative='two-sided')\n",
    "print('Test statistic is: ', t2) \n",
    "print( 'p-value is: ',p2)\n",
    "\n",
    "# exact test with correction=False\n",
    "# In Python, by default, the test statistic is min (V+, V-). In R, the test statistics is V+\n",
    "# p-value from Python might slightly different from R"
   ]
  },
  {
   "cell_type": "markdown",
   "metadata": {},
   "source": [
    "# Q2"
   ]
  },
  {
   "cell_type": "code",
   "execution_count": 4,
   "metadata": {},
   "outputs": [
    {
     "name": "stdout",
     "output_type": "stream",
     "text": [
      "        y     x1   x2     x3    x4    x5  x6  x7     x8    x9   x10  x11\n",
      "0   18.90  350.0  165  260.0  8.00  2.56   4   3  200.3  69.9  3910    1\n",
      "1   17.00  350.0  170  275.0  8.50  2.56   4   3  199.6  72.9  3860    1\n",
      "2   20.00  250.0  105  185.0  8.25  2.73   1   3  196.7  72.2  3510    1\n",
      "3   18.25  351.0  143  255.0  8.00  3.00   2   3  199.9  74.0  3890    1\n",
      "4   20.07  225.0   95  170.0  8.40  2.76   1   3  194.1  71.8  3365    0\n",
      "5   11.20  440.0  215  330.0  8.20  2.88   4   3  184.5  69.0  4215    1\n",
      "6   22.12  231.0  110  175.0  8.00  2.56   2   3  179.3  65.4  3020    1\n",
      "7   21.47  262.0  110  200.0  8.50  2.56   2   3  179.3  65.4  3180    1\n",
      "8   34.70   89.7   70   81.0  8.20  3.90   2   4  155.7  64.0  1905    0\n",
      "9   30.40   96.9   75   83.0  9.00  4.30   2   5  165.2  65.0  2320    0\n",
      "10  16.50  350.0  155  250.0  8.50  3.08   4   3  195.4  74.4  3885    1\n",
      "11  36.50   85.3   80   83.0  8.50  3.89   2   4  160.6  62.2  2009    0\n",
      "12  21.50  171.0  109  146.0  8.20  3.22   2   4  170.4  66.9  2655    0\n",
      "13  19.70  258.0  110  195.0  8.00  3.08   1   3  171.5  77.0  3375    1\n",
      "14  20.30  140.0   83  109.0  8.40  3.40   2   4  168.8  69.4  2700    0\n",
      "15  17.80  302.0  129  220.0  8.00  3.00   2   3  199.9  74.0  3890    1\n",
      "16  14.39  500.0  190  360.0  8.50  2.73   4   3  224.1  79.8  5290    1\n",
      "17  14.89  440.0  215  330.0  8.20  2.71   4   3  231.0  79.7  5185    1\n",
      "18  17.80  350.0  155  250.0  8.50  3.08   4   3  196.7  72.2  3910    1\n",
      "19  16.41  318.0  145  255.0  8.50  2.45   2   3  197.6  71.0  3660    1\n",
      "20  23.54  231.0  110  175.0  8.00  2.56   2   3  179.3  65.4  3050    1\n",
      "21  21.47  360.0  180  290.0  8.40  2.45   2   3  214.2  76.3  4250    1\n",
      "22  16.59  400.0  185    NaN  7.60  3.08   4   3  196.0  73.0  3850    1\n",
      "23  31.90   96.9   75   83.0  9.00  4.30   2   5  165.2  61.8  2275    0\n",
      "24  29.40  140.0   86    NaN  8.00  2.92   2   4  176.4  65.4  2150    0\n",
      "25  13.27  460.0  223  366.0  8.00  3.00   4   3  228.0  79.8  5430    1\n",
      "26  23.90  133.6   96  120.0  8.40  3.91   2   5  171.5  63.4  2535    0\n",
      "27  19.73  318.0  140  255.0  8.50  2.71   2   3  215.3  76.3  4370    1\n",
      "28  13.90  351.0  148  243.0  8.00  3.25   2   3  215.5  78.5  4540    1\n",
      "29  13.27  351.0  148  243.0  8.00  3.26   2   3  216.1  78.5  4715    1\n",
      "30  13.77  360.0  195  295.0  8.25  3.15   4   3  209.3  77.4  4215    1\n",
      "31  16.50  360.0  165  255.0  8.50  2.73   4   3  185.2  69.0  3660    1\n"
     ]
    }
   ],
   "source": [
    "########  Q2\n",
    "data = pd.read_csv (r\"C:\\Data\\gasoline.csv\", sep = \",\")\n",
    "print(data)"
   ]
  },
  {
   "cell_type": "code",
   "execution_count": 5,
   "metadata": {},
   "outputs": [],
   "source": [
    "auto = data.y[data.x11 == 1 ]\n",
    "\n",
    "manual = data.y[data.x11 == 0 ]"
   ]
  },
  {
   "cell_type": "code",
   "execution_count": 6,
   "metadata": {},
   "outputs": [
    {
     "name": "stdout",
     "output_type": "stream",
     "text": [
      "(0.978470504283905, 0.8785321712493896)\n",
      "(0.905103325843811, 0.28309041261672974)\n"
     ]
    }
   ],
   "source": [
    "######### Normality test:\n",
    "\n",
    "print(scst.shapiro(auto))\n",
    "\n",
    "print(scst.shapiro(manual))\n",
    "#both groups can approximate by normal distribution with p-values are: 0.8785 (auto), 0.28309 (manual).\n"
   ]
  },
  {
   "cell_type": "code",
   "execution_count": 7,
   "metadata": {},
   "outputs": [
    {
     "name": "stdout",
     "output_type": "stream",
     "text": [
      "BartlettResult(statistic=5.830658668836262, pvalue=0.015749225692643542)\n"
     ]
    }
   ],
   "source": [
    "print( scipy.stats.bartlett(manual,auto) ) #Bartlett test to test if variances are equal \n",
    "# pvalue=0.015749. Very small p-value."
   ]
  },
  {
   "cell_type": "code",
   "execution_count": null,
   "metadata": {},
   "outputs": [],
   "source": []
  },
  {
   "cell_type": "code",
   "execution_count": 10,
   "metadata": {},
   "outputs": [
    {
     "name": "stdout",
     "output_type": "stream",
     "text": [
      "[4.654947063750356, 0.000981073387656188]\n",
      "1-sided p-value for right test is:  0.000490536693828094\n"
     ]
    }
   ],
   "source": [
    "#2 independent smaples t-test with unequal variances since Bartlett test has small p-value.\n",
    "t3, p3 = scst.ttest_ind(manual, auto, axis=0, equal_var=False)#, alternative='two-sided') # 2-sided test\n",
    "print([t3,p3]) \n",
    "#note that, this is the case of UN-EQUAL variances, hence the df of this t-test is NOT (n1 + n2 - 2).\n",
    "#Since the test statistic is t3 = 4.6549, positive,\n",
    "# two-soded p-value is p3 = 0.000981, and we need the 1-sided RIGHT test, so we can derive \n",
    "#the p-value for 1-sided right test by taking half of the 2-sided p-value given in this test\n",
    "\n",
    "print('1-sided p-value for right test is: ',p3/2)"
   ]
  },
  {
   "cell_type": "code",
   "execution_count": 11,
   "metadata": {},
   "outputs": [
    {
     "name": "stdout",
     "output_type": "stream",
     "text": [
      "(4.654947063750354, 0.0004905366938280959, 9.686611197385153)\n"
     ]
    }
   ],
   "source": [
    "# Equivalently, one can use the test below to get the 1- sided test:\n",
    "import statsmodels.api\n",
    "test3= statsmodels.stats.weightstats.ttest_ind(manual, auto, alternative='larger', usevar='unequal', value=0) #usevar='pooled' if equal variance\n",
    "print(test3) \n",
    "#test statistic, p-value , df (this df is NOT = 32 -2 = 30)"
   ]
  },
  {
   "cell_type": "code",
   "execution_count": 18,
   "metadata": {},
   "outputs": [
    {
     "name": "stdout",
     "output_type": "stream",
     "text": [
      "32\n"
     ]
    }
   ],
   "source": [
    "print(len(manual) + len(auto))"
   ]
  },
  {
   "cell_type": "markdown",
   "metadata": {},
   "source": [
    "# Q3"
   ]
  },
  {
   "cell_type": "code",
   "execution_count": 12,
   "metadata": {},
   "outputs": [
    {
     "name": "stdout",
     "output_type": "stream",
     "text": [
      "    sales location\n",
      "0     8.6        F\n",
      "1     7.2        F\n",
      "2     5.4        F\n",
      "3     6.2        F\n",
      "4     5.0        F\n",
      "5     4.0        F\n",
      "6     3.2        M\n",
      "7     2.0        M\n",
      "8     2.4        M\n",
      "9     2.6        M\n",
      "10    1.8        M\n",
      "11    1.6        M\n",
      "12    4.6        R\n",
      "13    6.0        R\n",
      "14    4.0        R\n",
      "15    2.8        R\n",
      "16    2.2        R\n",
      "17    2.8        R\n"
     ]
    }
   ],
   "source": [
    "data = pd.read_csv (r\"C:\\Data\\locate.txt\", sep = \" \")\n",
    "print(data)"
   ]
  },
  {
   "cell_type": "code",
   "execution_count": 13,
   "metadata": {},
   "outputs": [
    {
     "name": "stdout",
     "output_type": "stream",
     "text": [
      "0    8.6\n",
      "1    7.2\n",
      "2    5.4\n",
      "3    6.2\n",
      "4    5.0\n",
      "5    4.0\n",
      "Name: sales, dtype: float64\n",
      "6     3.2\n",
      "7     2.0\n",
      "8     2.4\n",
      "9     2.6\n",
      "10    1.8\n",
      "11    1.6\n",
      "Name: sales, dtype: float64\n",
      "12    4.6\n",
      "13    6.0\n",
      "14    4.0\n",
      "15    2.8\n",
      "16    2.2\n",
      "17    2.8\n",
      "Name: sales, dtype: float64\n"
     ]
    }
   ],
   "source": [
    "#Q1a - separate sales by location:\n",
    "\n",
    "F = data.sales[(data.location=='F')]\n",
    "M = data.sales[(data.location=='M')]\n",
    "R = data.sales[(data.location=='R')]\n",
    "print(F)\n",
    "print(M)\n",
    "print(R)\n"
   ]
  },
  {
   "cell_type": "code",
   "execution_count": 14,
   "metadata": {},
   "outputs": [
    {
     "data": {
      "image/png": "[encoded data removed]",
      "text/plain": [
       "<Figure size 432x288 with 1 Axes>"
      ]
     },
     "metadata": {
      "needs_background": "light"
     },
     "output_type": "display_data"
    }
   ],
   "source": [
    "#Q1a - QQ plot for each group (separately)\n",
    "import pylab \n",
    "# QQ plot For Front\n",
    "scipy.stats.probplot(F, dist=\"norm\", plot=pylab)\n",
    "pylab.title('QQ Plot of F') \n",
    "pylab.show()"
   ]
  },
  {
   "cell_type": "code",
   "execution_count": 15,
   "metadata": {},
   "outputs": [
    {
     "data": {
      "image/png": "[encoded data removed]",
      "text/plain": [
       "<Figure size 432x288 with 1 Axes>"
      ]
     },
     "metadata": {
      "needs_background": "light"
     },
     "output_type": "display_data"
    }
   ],
   "source": [
    "#QQ plot for Middle\n",
    "scipy.stats.probplot(M, dist=\"norm\", plot=pylab)\n",
    "pylab.title('QQ Plot of M') \n",
    "pylab.show()"
   ]
  },
  {
   "cell_type": "code",
   "execution_count": 16,
   "metadata": {},
   "outputs": [
    {
     "data": {
      "image/png": "[encoded data removed]",
      "text/plain": [
       "<Figure size 432x288 with 1 Axes>"
      ]
     },
     "metadata": {
      "needs_background": "light"
     },
     "output_type": "display_data"
    }
   ],
   "source": [
    "#QQ plot for Rear\n",
    "scipy.stats.probplot(R, dist=\"norm\", plot=pylab)\n",
    "pylab.title('QQ Plot of R') \n",
    "pylab.show()"
   ]
  },
  {
   "cell_type": "code",
   "execution_count": 18,
   "metadata": {},
   "outputs": [
    {
     "data": {
      "image/png": "[encoded data removed]",
      "text/plain": [
       "<Figure size 1296x432 with 3 Axes>"
      ]
     },
     "metadata": {
      "needs_background": "light"
     },
     "output_type": "display_data"
    }
   ],
   "source": [
    "#Q1a - QQ plot for 3 groups in ONE Figure:\n",
    "import matplotlib.pyplot as plt\n",
    "fig = plt.figure(figsize = (9, 3) ) # 9 is the width of figure; 3 is the height of figure\n",
    "\n",
    "\n",
    "ax = fig.add_subplot(1, 3, 1) #add_subplot(nrows, ncols, index, **kwargs)\n",
    "sm.graphics.qqplot(F, line='s', ax=ax)\n",
    "plt.title('QQ plot of F')\n",
    "\n",
    "\n",
    "ax = fig.add_subplot(1, 3, 2)\n",
    "sm.graphics.qqplot(M, line='s', ax=ax)\n",
    "plt.title('QQ plot of M')\n",
    "\n",
    "\n",
    "ax = fig.add_subplot(1, 3, 3)\n",
    "sm.graphics.qqplot(R, line='s', ax=ax)\n",
    "plt.title('QQ plot of R')\n",
    "\n",
    "\n",
    "fig.tight_layout()\n",
    "\n",
    "plt.show()"
   ]
  },
  {
   "cell_type": "code",
   "execution_count": 19,
   "metadata": {},
   "outputs": [
    {
     "name": "stdout",
     "output_type": "stream",
     "text": [
      "Sales for location = F:  (0.9792823791503906, 0.9479352831840515)\n",
      "Sales for location = M:  (0.9580121636390686, 0.8042968511581421)\n",
      "Sales for location = R:  (0.9280329942703247, 0.5649998188018799)\n"
     ]
    }
   ],
   "source": [
    "#Shapiro test of normality for each group:\n",
    "from scipy.stats import shapiro\n",
    "ShapiroF = scipy.stats.shapiro(F)\n",
    "ShapiroM = scipy.stats.shapiro(M)\n",
    "ShapiroR = scipy.stats.shapiro(R)\n",
    "print('Sales for location = F: ', ShapiroF)\n",
    "print('Sales for location = M: ', ShapiroM)\n",
    "print('Sales for location = R: ', ShapiroR)\n",
    "#p-values are all large"
   ]
  },
  {
   "cell_type": "code",
   "execution_count": null,
   "metadata": {},
   "outputs": [],
   "source": [
    "# Should obtain the histogram with a normal density curve overlaying for each group when checking the normality.\n",
    "# however, in this case, each sample has very small size (6), hence histogram might not be very helpful in checking the normality."
   ]
  },
  {
   "cell_type": "code",
   "execution_count": 20,
   "metadata": {},
   "outputs": [
    {
     "name": "stdout",
     "output_type": "stream",
     "text": [
      "BartlettResult(statistic=4.305420219203589, pvalue=0.11616890032313539)\n"
     ]
    }
   ],
   "source": [
    "#EQUAL VARIANCES TEST: \n",
    "#Bartlett test (when samples are assumed normality):\n",
    "Bar = scipy.stats.bartlett(F,M,R)\n",
    "print(Bar)\n",
    "# pvalue=0.1161689. Not very large but also not very small. \n",
    "# We might treat 3 groups as equal variance."
   ]
  },
  {
   "cell_type": "code",
   "execution_count": 21,
   "metadata": {},
   "outputs": [
    {
     "name": "stdout",
     "output_type": "stream",
     "text": [
      "            df     sum_sq    mean_sq          F    PR(>F)\n",
      "location   2.0  44.071111  22.035556  13.033649  0.000524\n",
      "Residual  15.0  25.360000   1.690667        NaN       NaN\n"
     ]
    }
   ],
   "source": [
    "###############    ANOVA \n",
    "mod = ols('sales ~ location', data=data).fit()\n",
    "anova = sm.stats.anova_lm(mod, typ=1) # typ = 1 or 2\n",
    "print(anova)\n",
    "# p-value = 0.000524"
   ]
  },
  {
   "cell_type": "code",
   "execution_count": 22,
   "metadata": {},
   "outputs": [
    {
     "data": {
      "image/png": "[encoded data removed]",
      "text/plain": [
       "<Figure size 432x288 with 1 Axes>"
      ]
     },
     "metadata": {
      "needs_background": "light"
     },
     "output_type": "display_data"
    }
   ],
   "source": [
    "#check if the residuals of ANOVA ~ normal : mod.resid\n",
    "#print(mod.resid)\n",
    "scipy.stats.probplot(mod.resid, dist=\"norm\", plot=pylab)\n",
    "pylab.title('QQ Plot of Residuals') \n",
    "pylab.show()\n",
    "# QQ plot is normal"
   ]
  },
  {
   "cell_type": "code",
   "execution_count": 23,
   "metadata": {},
   "outputs": [
    {
     "name": "stdout",
     "output_type": "stream",
     "text": [
      "Test Multiple Comparison ttest_ind \n",
      "FWER=0.05 method=bonf\n",
      "alphacSidak=0.02, alphacBonf=0.017\n",
      "=============================================\n",
      "group1 group2   stat   pval  pval_corr reject\n",
      "---------------------------------------------\n",
      "     F      M  5.3199 0.0003     0.001   True\n",
      "     F      R  2.6293 0.0252    0.0756  False\n",
      "     M      R -2.3399 0.0413     0.124  False\n",
      "---------------------------------------------\n"
     ]
    }
   ],
   "source": [
    "# (b) can use BONFERRONI TEST or TUKEY  TEST, however, Tukey is stronger in this case\n",
    "# BONFERRONI TEST:\n",
    "import statsmodels.stats.multicomp as mc\n",
    "\n",
    "comparison = mc.MultiComparison(data.sales, data.location)\n",
    "result, tbl1, tbl2 = comparison.allpairtest(stats.ttest_ind, method= \"bonf\", alpha = 0.05)\n",
    "# by default, the Family Wise Error Rate (alpha) is 0.05. Can try with alpha = 0.1\n",
    "# for each pair, a two independent sample t-test is performed.\n",
    "print(result)"
   ]
  },
  {
   "cell_type": "code",
   "execution_count": 24,
   "metadata": {},
   "outputs": [
    {
     "name": "stdout",
     "output_type": "stream",
     "text": [
      "Multiple Comparison of Means - Tukey HSD, FWER=0.05 \n",
      "====================================================\n",
      "group1 group2 meandiff p-adj   lower   upper  reject\n",
      "----------------------------------------------------\n",
      "     F      M     -3.8  0.001 -5.7492 -1.8508   True\n",
      "     F      R  -2.3333 0.0185 -4.2825 -0.3842   True\n",
      "     M      R   1.4667 0.1581 -0.4825  3.4158  False\n",
      "----------------------------------------------------\n"
     ]
    }
   ],
   "source": [
    "### TUKEY\n",
    "import statsmodels.stats.multicomp as mc\n",
    "\n",
    "comparison = mc.MultiComparison(data.sales, data.location)\n",
    "tukey = comparison.tukeyhsd(alpha = 0.05)\n",
    "print(tukey.summary() )\n",
    "\n",
    "#Conclusion: Front and Middle have different average sales. \n",
    "# Front and Rear also have different average sale, while Middle and Rear have similar average sales."
   ]
  },
  {
   "cell_type": "code",
   "execution_count": null,
   "metadata": {},
   "outputs": [],
   "source": []
  },
  {
   "cell_type": "code",
   "execution_count": null,
   "metadata": {},
   "outputs": [],
   "source": []
  },
  {
   "cell_type": "code",
   "execution_count": null,
   "metadata": {},
   "outputs": [],
   "source": []
  }
 ],
 "metadata": {
  "kernelspec": {
   "display_name": "Python 3",
   "language": "python",
   "name": "python3"
  },
  "language_info": {
   "codemirror_mode": {
    "name": "ipython",
    "version": 3
   },
   "file_extension": ".py",
   "mimetype": "text/x-python",
   "name": "python",
   "nbconvert_exporter": "python",
   "pygments_lexer": "ipython3",
   "version": "3.7.6"
  }
 },
 "nbformat": 4,
 "nbformat_minor": 4
}
