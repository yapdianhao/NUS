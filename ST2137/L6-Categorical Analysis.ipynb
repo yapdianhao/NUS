{
 "cells": [
  {
   "cell_type": "code",
   "execution_count": 12,
   "id": "a452a7e5",
   "metadata": {},
   "outputs": [],
   "source": [
    "import pandas as pd\n",
    "import numpy as np"
   ]
  },
  {
   "cell_type": "code",
   "execution_count": 2,
   "id": "118122c8",
   "metadata": {},
   "outputs": [],
   "source": [
    "bats = pd.read_csv('bats.csv')"
   ]
  },
  {
   "cell_type": "code",
   "execution_count": 3,
   "id": "1b052d9f",
   "metadata": {},
   "outputs": [],
   "source": [
    "tab = pd.crosstab(index=bats['type'], columns='count')"
   ]
  },
  {
   "cell_type": "code",
   "execution_count": 5,
   "id": "4fe8a0de",
   "metadata": {},
   "outputs": [
    {
     "data": {
      "text/html": [
       "<div>\n",
       "<style scoped>\n",
       "    .dataframe tbody tr th:only-of-type {\n",
       "        vertical-align: middle;\n",
       "    }\n",
       "\n",
       "    .dataframe tbody tr th {\n",
       "        vertical-align: top;\n",
       "    }\n",
       "\n",
       "    .dataframe thead th {\n",
       "        text-align: right;\n",
       "    }\n",
       "</style>\n",
       "<table border=\"1\" class=\"dataframe\">\n",
       "  <thead>\n",
       "    <tr style=\"text-align: right;\">\n",
       "      <th>col_0</th>\n",
       "      <th>count</th>\n",
       "    </tr>\n",
       "    <tr>\n",
       "      <th>type</th>\n",
       "      <th></th>\n",
       "    </tr>\n",
       "  </thead>\n",
       "  <tbody>\n",
       "    <tr>\n",
       "      <th>1</th>\n",
       "      <td>4</td>\n",
       "    </tr>\n",
       "    <tr>\n",
       "      <th>2</th>\n",
       "      <td>12</td>\n",
       "    </tr>\n",
       "    <tr>\n",
       "      <th>3</th>\n",
       "      <td>4</td>\n",
       "    </tr>\n",
       "  </tbody>\n",
       "</table>\n",
       "</div>"
      ],
      "text/plain": [
       "col_0  count\n",
       "type        \n",
       "1          4\n",
       "2         12\n",
       "3          4"
      ]
     },
     "execution_count": 5,
     "metadata": {},
     "output_type": "execute_result"
    }
   ],
   "source": [
    "tab"
   ]
  },
  {
   "cell_type": "code",
   "execution_count": 6,
   "id": "7f35906b",
   "metadata": {},
   "outputs": [],
   "source": [
    "import matplotlib.pyplot as plt"
   ]
  },
  {
   "cell_type": "code",
   "execution_count": 10,
   "id": "f5df5c15",
   "metadata": {},
   "outputs": [
    {
     "data": {
      "image/png": "[encoded data removed]",
      "text/plain": [
       "<Figure size 432x288 with 1 Axes>"
      ]
     },
     "metadata": {
      "needs_background": "light"
     },
     "output_type": "display_data"
    }
   ],
   "source": [
    "fig = plt.figure()\n",
    "ax = fig.add_axes([1, 1, 1, 1])\n",
    "type = ['1', '2', '3']\n",
    "counts = [4, 12, 4]\n",
    "ax.bar(type, counts)\n",
    "plt.show()"
   ]
  },
  {
   "cell_type": "code",
   "execution_count": 13,
   "id": "58d336af",
   "metadata": {},
   "outputs": [
    {
     "data": {
      "text/plain": [
       "array([[ 46, 474],\n",
       "       [ 37, 516]])"
      ]
     },
     "execution_count": 13,
     "metadata": {},
     "output_type": "execute_result"
    }
   ],
   "source": [
    "import scipy.stats as scst\n",
    "obs = np.array([[46,474],[37,516]])"
   ]
  },
  {
   "cell_type": "code",
   "execution_count": 14,
   "id": "e5b5d09f",
   "metadata": {},
   "outputs": [
    {
     "data": {
      "text/plain": [
       "(1.4555294041803708,\n",
       " 0.2276427809700174,\n",
       " 1,\n",
       " array([[ 40.22367195, 479.77632805],\n",
       "        [ 42.77632805, 510.22367195]]))"
      ]
     },
     "execution_count": 14,
     "metadata": {},
     "output_type": "execute_result"
    }
   ],
   "source": [
    "scst.chi2_contingency(obs, correction = True)\n",
    "# test stats\n",
    "# p val\n",
    "# degree of freedom"
   ]
  },
  {
   "cell_type": "code",
   "execution_count": 15,
   "id": "7d5fe22b",
   "metadata": {},
   "outputs": [],
   "source": [
    "import scipy.stats as scst\n",
    "claritin = np.array([[4, 184], [2, 260]])"
   ]
  },
  {
   "cell_type": "code",
   "execution_count": 16,
   "id": "b3dba0dc",
   "metadata": {},
   "outputs": [
    {
     "data": {
      "text/plain": [
       "(2.8260869565217392, 0.24118420183193057)"
      ]
     },
     "execution_count": 16,
     "metadata": {},
     "output_type": "execute_result"
    }
   ],
   "source": [
    "scst.fisher_exact(claritin, alternative = 'two-sided')"
   ]
  },
  {
   "cell_type": "code",
   "execution_count": null,
   "id": "71f45023",
   "metadata": {},
   "outputs": [],
   "source": []
  },
  {
   "cell_type": "code",
   "execution_count": null,
   "id": "513db4fd",
   "metadata": {},
   "outputs": [],
   "source": []
  }
 ],
 "metadata": {
  "kernelspec": {
   "display_name": "Python 3 (ipykernel)",
   "language": "python",
   "name": "python3"
  },
  "language_info": {
   "codemirror_mode": {
    "name": "ipython",
    "version": 3
   },
   "file_extension": ".py",
   "mimetype": "text/x-python",
   "name": "python",
   "nbconvert_exporter": "python",
   "pygments_lexer": "ipython3",
   "version": "3.9.10"
  }
 },
 "nbformat": 4,
 "nbformat_minor": 5
}
