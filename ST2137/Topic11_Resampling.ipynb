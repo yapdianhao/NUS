{
 "cells": [
  {
   "cell_type": "code",
   "execution_count": 1,
   "metadata": {},
   "outputs": [],
   "source": [
    "import numpy as np\n",
    "import pandas as pd\n",
    "import statistics as st\n",
    "from statistics import mean\n",
    "from statistics import median\n",
    "from statistics import variance\n",
    "from statistics import stdev\n",
    "\n",
    "import scipy.stats as scst\n",
    "import matplotlib.pyplot as plt\n",
    "\n"
   ]
  },
  {
   "cell_type": "code",
   "execution_count": 2,
   "metadata": {},
   "outputs": [],
   "source": [
    "np.random.seed(1)"
   ]
  },
  {
   "cell_type": "code",
   "execution_count": 3,
   "metadata": {},
   "outputs": [
    {
     "data": {
      "text/plain": [
       "[3.03, 3.44, 3.03, 3.07, 3.07, 3.44, 3.0]"
      ]
     },
     "execution_count": 3,
     "metadata": {},
     "output_type": "execute_result"
    }
   ],
   "source": [
    "# Random sample\n",
    "from random import choices\n",
    "x = [3.39, 3.30, 2.81, 3.03, 3.44, 3.07, 3.00] # this is the original sample\n",
    "# we want to have a re-sample of x.\n",
    "\n",
    "choices(x, k= len(x))\n",
    "\n",
    "# for reference: https://docs.python.org/3/library/random.html"
   ]
  },
  {
   "cell_type": "markdown",
   "metadata": {},
   "source": [
    "# Law School Data"
   ]
  },
  {
   "cell_type": "code",
   "execution_count": 4,
   "metadata": {},
   "outputs": [
    {
     "data": {
      "text/html": [
       "<div>\n",
       "<style scoped>\n",
       "    .dataframe tbody tr th:only-of-type {\n",
       "        vertical-align: middle;\n",
       "    }\n",
       "\n",
       "    .dataframe tbody tr th {\n",
       "        vertical-align: top;\n",
       "    }\n",
       "\n",
       "    .dataframe thead th {\n",
       "        text-align: right;\n",
       "    }\n",
       "</style>\n",
       "<table border=\"1\" class=\"dataframe\">\n",
       "  <thead>\n",
       "    <tr style=\"text-align: right;\">\n",
       "      <th></th>\n",
       "      <th>LSAT</th>\n",
       "      <th>GPA</th>\n",
       "    </tr>\n",
       "  </thead>\n",
       "  <tbody>\n",
       "    <tr>\n",
       "      <th>0</th>\n",
       "      <td>576</td>\n",
       "      <td>3.39</td>\n",
       "    </tr>\n",
       "    <tr>\n",
       "      <th>1</th>\n",
       "      <td>635</td>\n",
       "      <td>3.30</td>\n",
       "    </tr>\n",
       "    <tr>\n",
       "      <th>2</th>\n",
       "      <td>558</td>\n",
       "      <td>2.81</td>\n",
       "    </tr>\n",
       "    <tr>\n",
       "      <th>3</th>\n",
       "      <td>578</td>\n",
       "      <td>3.03</td>\n",
       "    </tr>\n",
       "    <tr>\n",
       "      <th>4</th>\n",
       "      <td>666</td>\n",
       "      <td>3.44</td>\n",
       "    </tr>\n",
       "    <tr>\n",
       "      <th>5</th>\n",
       "      <td>580</td>\n",
       "      <td>3.07</td>\n",
       "    </tr>\n",
       "    <tr>\n",
       "      <th>6</th>\n",
       "      <td>555</td>\n",
       "      <td>3.00</td>\n",
       "    </tr>\n",
       "    <tr>\n",
       "      <th>7</th>\n",
       "      <td>661</td>\n",
       "      <td>3.43</td>\n",
       "    </tr>\n",
       "    <tr>\n",
       "      <th>8</th>\n",
       "      <td>651</td>\n",
       "      <td>3.36</td>\n",
       "    </tr>\n",
       "    <tr>\n",
       "      <th>9</th>\n",
       "      <td>605</td>\n",
       "      <td>3.13</td>\n",
       "    </tr>\n",
       "    <tr>\n",
       "      <th>10</th>\n",
       "      <td>653</td>\n",
       "      <td>3.12</td>\n",
       "    </tr>\n",
       "    <tr>\n",
       "      <th>11</th>\n",
       "      <td>575</td>\n",
       "      <td>2.74</td>\n",
       "    </tr>\n",
       "    <tr>\n",
       "      <th>12</th>\n",
       "      <td>545</td>\n",
       "      <td>2.76</td>\n",
       "    </tr>\n",
       "    <tr>\n",
       "      <th>13</th>\n",
       "      <td>572</td>\n",
       "      <td>2.88</td>\n",
       "    </tr>\n",
       "    <tr>\n",
       "      <th>14</th>\n",
       "      <td>594</td>\n",
       "      <td>2.96</td>\n",
       "    </tr>\n",
       "  </tbody>\n",
       "</table>\n",
       "</div>"
      ],
      "text/plain": [
       "    LSAT   GPA\n",
       "0    576  3.39\n",
       "1    635  3.30\n",
       "2    558  2.81\n",
       "3    578  3.03\n",
       "4    666  3.44\n",
       "5    580  3.07\n",
       "6    555  3.00\n",
       "7    661  3.43\n",
       "8    651  3.36\n",
       "9    605  3.13\n",
       "10   653  3.12\n",
       "11   575  2.74\n",
       "12   545  2.76\n",
       "13   572  2.88\n",
       "14   594  2.96"
      ]
     },
     "execution_count": 4,
     "metadata": {},
     "output_type": "execute_result"
    }
   ],
   "source": [
    "law = pd.read_csv(r\"C:\\Data\\lawschool.csv\", sep = \",\")\n",
    "law"
   ]
  },
  {
   "cell_type": "code",
   "execution_count": 5,
   "metadata": {},
   "outputs": [
    {
     "name": "stdout",
     "output_type": "stream",
     "text": [
      "0.776374491289407\n"
     ]
    }
   ],
   "source": [
    "theta_hat = np.corrcoef(law.LSAT, law.GPA)[0,1]\n",
    "print(theta_hat)"
   ]
  },
  {
   "cell_type": "markdown",
   "metadata": {},
   "source": [
    "# NONPARAMETRIC BOOTSTRAP TO ESTIMATE SE & BIAS"
   ]
  },
  {
   "cell_type": "code",
   "execution_count": 6,
   "metadata": {},
   "outputs": [],
   "source": [
    "R = 1000 # number of bootstrap replicates;\n",
    "n = len(law.GPA) # sample size\n",
    "theta_b = [] # storage for boostrap estimates "
   ]
  },
  {
   "cell_type": "code",
   "execution_count": 7,
   "metadata": {},
   "outputs": [
    {
     "name": "stdout",
     "output_type": "stream",
     "text": [
      "SE is  0.13476523949075295\n",
      "Bias is  -0.0015394912894070023\n"
     ]
    }
   ],
   "source": [
    "for j in range(R):\n",
    "    i = choices(range(n),k = n)\n",
    "    LSATb = law.LSAT[i]\n",
    "    GPAb = law.GPA[i]\n",
    "    theta_b.append(round( np.corrcoef(LSATb,GPAb)[0, 1], ndigits = 3) )\n",
    "\n",
    "#print(theta_b)\n",
    "print('SE is ', np.std(theta_b))\n",
    "bias = mean(theta_b) - theta_hat\n",
    "print('Bias is ', bias)"
   ]
  },
  {
   "cell_type": "code",
   "execution_count": null,
   "metadata": {},
   "outputs": [],
   "source": []
  },
  {
   "cell_type": "markdown",
   "metadata": {},
   "source": [
    "# BOOTSTRAP CONFIDENCE INTERVAL"
   ]
  },
  {
   "cell_type": "code",
   "execution_count": 8,
   "metadata": {},
   "outputs": [],
   "source": [
    "R = 2000 # number of bootstrap replicates;\n",
    "n = len(law.GPA) # sample size\n",
    "theta_b = [] # storage for boostrap estimates \n",
    "\n",
    "alpha = 0.05\n",
    "CL = 100*(1-alpha)\n",
    "\n",
    "for j in range(R):\n",
    "    i = choices(range(n),k = n)\n",
    "    LSATb = law.LSAT[i]\n",
    "    GPAb = law.GPA[i]\n",
    "    theta_b.append(round( np.corrcoef(LSATb,GPAb)[0, 1], ndigits = 5) )\n",
    "\n",
    "#print(theta_b)\n"
   ]
  },
  {
   "cell_type": "code",
   "execution_count": 9,
   "metadata": {},
   "outputs": [
    {
     "name": "stdout",
     "output_type": "stream",
     "text": [
      "A  95.0 % basic confidence interval is  (0.5934709825788141, 1.076929482578814)\n"
     ]
    }
   ],
   "source": [
    "# BASIC CI:\n",
    "\n",
    "basic_CI = (2*theta_hat - np.quantile(theta_b, (1-alpha/2) ), \n",
    "            2*theta_hat - np.quantile(theta_b, alpha/2) )\n",
    "\n",
    "print(\"A \",CL,\"% basic confidence interval is \", basic_CI)"
   ]
  },
  {
   "cell_type": "code",
   "execution_count": 10,
   "metadata": {},
   "outputs": [
    {
     "name": "stdout",
     "output_type": "stream",
     "text": [
      "A  95.0 % percentile confidence interval is  (0.4758195, 0.959278)\n"
     ]
    }
   ],
   "source": [
    "# PERCENTILE CI:\n",
    "perc_CI = (np.quantile(theta_b, alpha/2), np. quantile(theta_b,(1-alpha/2)) )\n",
    "           \n",
    "print(\"A \",CL,\"% percentile confidence interval is \", perc_CI)\n"
   ]
  },
  {
   "cell_type": "code",
   "execution_count": 11,
   "metadata": {},
   "outputs": [
    {
     "name": "stdout",
     "output_type": "stream",
     "text": [
      "A  95.0 % normal confidence interval is  (0.5269149526050363, 1.034059592552592)\n"
     ]
    }
   ],
   "source": [
    "# NORMAL CI:\n",
    "z = scst.norm.ppf(1-alpha/2) # to get the quantile from standard normal.\n",
    "# z = 1.96 if alpha = 0.05\n",
    "\n",
    "bias = mean(theta_b) - theta_hat\n",
    "se = np.std(theta_b)\n",
    "\n",
    "normal_CI = (theta_hat - bias - z*se, theta_hat - bias + z*se )\n",
    "\n",
    "print(\"A \",CL,\"% normal confidence interval is \", normal_CI )"
   ]
  },
  {
   "cell_type": "code",
   "execution_count": null,
   "metadata": {},
   "outputs": [],
   "source": [
    "# could you find a built-in function in Python which can help to calculate SE, bias of the estimator?\n",
    "# and/or a built-in function which can help to calculate the bootstrap confidence intervalS?"
   ]
  }
 ],
 "metadata": {
  "kernelspec": {
   "display_name": "Python 3",
   "language": "python",
   "name": "python3"
  },
  "language_info": {
   "codemirror_mode": {
    "name": "ipython",
    "version": 3
   },
   "file_extension": ".py",
   "mimetype": "text/x-python",
   "name": "python",
   "nbconvert_exporter": "python",
   "pygments_lexer": "ipython3",
   "version": "3.7.6"
  }
 },
 "nbformat": 4,
 "nbformat_minor": 4
}
