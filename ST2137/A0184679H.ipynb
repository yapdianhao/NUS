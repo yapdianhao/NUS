{
 "cells": [
  {
   "cell_type": "code",
   "execution_count": 7,
   "id": "b0131154",
   "metadata": {},
   "outputs": [],
   "source": [
    "import scipy.stats as scst\n",
    "import numpy as np\n",
    "import pandas as pd"
   ]
  },
  {
   "cell_type": "markdown",
   "id": "0a5c5cf6",
   "metadata": {},
   "source": [
    "# Q1"
   ]
  },
  {
   "cell_type": "code",
   "execution_count": 8,
   "id": "cdb670de",
   "metadata": {},
   "outputs": [
    {
     "data": {
      "text/plain": [
       "0.6735466666666664"
      ]
     },
     "execution_count": 8,
     "metadata": {},
     "output_type": "execute_result"
    }
   ],
   "source": [
    "data = {'A': [173, 150], 'B': [125, 73]}\n",
    "df = pd.DataFrame(data, columns =['A', 'B'])\n",
    "prob = df['A']/(df['B'] + df['A']) \n",
    "odds = prob / (1 - prob)\n",
    "OR = odds[0] / odds[1]\n",
    "OR"
   ]
  },
  {
   "cell_type": "markdown",
   "id": "3fab53fa",
   "metadata": {},
   "source": []
  },
  {
   "cell_type": "code",
   "execution_count": null,
   "id": "a710d734",
   "metadata": {},
   "outputs": [],
   "source": [
    "# conf int for OR"
   ]
  },
  {
   "cell_type": "code",
   "execution_count": 13,
   "id": "57a4f25f",
   "metadata": {},
   "outputs": [
    {
     "data": {
      "text/plain": [
       "(4.210350238164615,\n",
       " 0.040178040571531876,\n",
       " 1,\n",
       " array([[184.74856046, 113.25143954],\n",
       "        [138.25143954,  84.74856046]]))"
      ]
     },
     "execution_count": 13,
     "metadata": {},
     "output_type": "execute_result"
    }
   ],
   "source": [
    "obs = np.array([[173, 125], [150, 73]])\n",
    "scst.chi2_contingency(obs, correction = True)"
   ]
  },
  {
   "cell_type": "markdown",
   "id": "b92736ad",
   "metadata": {},
   "source": [
    "### Chi-square test is chosen as we want to test if age is dependent on political association, which is 2 categorial variable. The test statistic value is 4.21035, the p-value is 0.04, and the conclusion is that the null hypothesis is rejected, which means the two variables are dependent."
   ]
  },
  {
   "cell_type": "markdown",
   "id": "f3ed8fbb",
   "metadata": {},
   "source": [
    "# Q2"
   ]
  },
  {
   "cell_type": "markdown",
   "id": "57c6cf25",
   "metadata": {},
   "source": [
    "# T_T no time"
   ]
  },
  {
   "cell_type": "code",
   "execution_count": null,
   "id": "a3e68053",
   "metadata": {},
   "outputs": [],
   "source": []
  },
  {
   "cell_type": "code",
   "execution_count": null,
   "id": "1d2d6ee4",
   "metadata": {},
   "outputs": [],
   "source": []
  },
  {
   "cell_type": "code",
   "execution_count": null,
   "id": "577223ba",
   "metadata": {},
   "outputs": [],
   "source": []
  },
  {
   "cell_type": "code",
   "execution_count": null,
   "id": "d18e47bc",
   "metadata": {},
   "outputs": [],
   "source": []
  },
  {
   "cell_type": "code",
   "execution_count": null,
   "id": "0f6d9eb5",
   "metadata": {},
   "outputs": [],
   "source": []
  },
  {
   "cell_type": "code",
   "execution_count": null,
   "id": "f95be872",
   "metadata": {},
   "outputs": [],
   "source": []
  },
  {
   "cell_type": "code",
   "execution_count": null,
   "id": "f23e7c9d",
   "metadata": {},
   "outputs": [],
   "source": []
  },
  {
   "cell_type": "code",
   "execution_count": null,
   "id": "a91c03c9",
   "metadata": {},
   "outputs": [],
   "source": []
  },
  {
   "cell_type": "code",
   "execution_count": null,
   "id": "a13f4f5b",
   "metadata": {},
   "outputs": [],
   "source": []
  },
  {
   "cell_type": "code",
   "execution_count": null,
   "id": "62f46171",
   "metadata": {},
   "outputs": [],
   "source": []
  },
  {
   "cell_type": "code",
   "execution_count": null,
   "id": "7ff6989e",
   "metadata": {},
   "outputs": [],
   "source": []
  },
  {
   "cell_type": "code",
   "execution_count": null,
   "id": "eff8b0d8",
   "metadata": {},
   "outputs": [],
   "source": []
  },
  {
   "cell_type": "code",
   "execution_count": null,
   "id": "a6916552",
   "metadata": {},
   "outputs": [],
   "source": []
  },
  {
   "cell_type": "code",
   "execution_count": null,
   "id": "699dbd52",
   "metadata": {},
   "outputs": [],
   "source": []
  },
  {
   "cell_type": "code",
   "execution_count": null,
   "id": "4db5b19a",
   "metadata": {},
   "outputs": [],
   "source": []
  },
  {
   "cell_type": "code",
   "execution_count": null,
   "id": "a238f7b5",
   "metadata": {},
   "outputs": [],
   "source": []
  },
  {
   "cell_type": "code",
   "execution_count": null,
   "id": "2435e6d8",
   "metadata": {},
   "outputs": [],
   "source": []
  },
  {
   "cell_type": "code",
   "execution_count": null,
   "id": "370ca228",
   "metadata": {},
   "outputs": [],
   "source": []
  }
 ],
 "metadata": {
  "kernelspec": {
   "display_name": "Python 3 (ipykernel)",
   "language": "python",
   "name": "python3"
  },
  "language_info": {
   "codemirror_mode": {
    "name": "ipython",
    "version": 3
   },
   "file_extension": ".py",
   "mimetype": "text/x-python",
   "name": "python",
   "nbconvert_exporter": "python",
   "pygments_lexer": "ipython3",
   "version": "3.9.10"
  }
 },
 "nbformat": 4,
 "nbformat_minor": 5
}
