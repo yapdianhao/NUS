{
 "cells": [
  {
   "cell_type": "code",
   "execution_count": 1,
   "id": "94062da1",
   "metadata": {},
   "outputs": [
    {
     "name": "stdout",
     "output_type": "stream",
     "text": [
      "[1, 2, 3, 4, 5, 6, 7, 8, 9, 10]\n"
     ]
    }
   ],
   "source": [
    "x = [i for i in range(1, 11)]\n",
    "print(x)"
   ]
  },
  {
   "cell_type": "code",
   "execution_count": 2,
   "id": "3ffceb78",
   "metadata": {},
   "outputs": [],
   "source": [
    "import numpy as np"
   ]
  },
  {
   "cell_type": "code",
   "execution_count": 3,
   "id": "011ca6a7",
   "metadata": {},
   "outputs": [
    {
     "name": "stdout",
     "output_type": "stream",
     "text": [
      "[ 2  4  6  8 10 12 14 16 18 20]\n"
     ]
    }
   ],
   "source": [
    "x = np.array(x)\n",
    "print(x * 2)"
   ]
  },
  {
   "cell_type": "code",
   "execution_count": 5,
   "id": "f4f352ce",
   "metadata": {},
   "outputs": [],
   "source": [
    "import pandas as pd"
   ]
  },
  {
   "cell_type": "code",
   "execution_count": 6,
   "id": "0a04041c",
   "metadata": {},
   "outputs": [],
   "source": [
    "data = {'X': [1,2,3,4,5,6]}"
   ]
  },
  {
   "cell_type": "code",
   "execution_count": 9,
   "id": "033819ae",
   "metadata": {},
   "outputs": [
    {
     "name": "stdout",
     "output_type": "stream",
     "text": [
      "     X\n",
      "0  0.5\n",
      "1  1.0\n",
      "2  1.5\n",
      "3  2.0\n",
      "4  2.5\n",
      "5  3.0\n"
     ]
    }
   ],
   "source": [
    "df = pd.DataFrame(data, columns = ['X'])\n",
    "print(df / 2)"
   ]
  },
  {
   "cell_type": "code",
   "execution_count": 10,
   "id": "8573266f",
   "metadata": {},
   "outputs": [],
   "source": [
    "arr1 = np.array([1,2,3,4,5])"
   ]
  },
  {
   "cell_type": "code",
   "execution_count": 11,
   "id": "ba813349",
   "metadata": {},
   "outputs": [],
   "source": [
    "arr2 = np.array([6,7,8,9,10])"
   ]
  },
  {
   "cell_type": "code",
   "execution_count": 12,
   "id": "3b4d5630",
   "metadata": {},
   "outputs": [
    {
     "name": "stdout",
     "output_type": "stream",
     "text": [
      "[[ 1  2  3  4  5]\n",
      " [ 6  7  8  9 10]]\n"
     ]
    }
   ],
   "source": [
    "mat = np.array([arr1, arr2])\n",
    "print(mat)"
   ]
  },
  {
   "cell_type": "code",
   "execution_count": 13,
   "id": "28e0700b",
   "metadata": {},
   "outputs": [],
   "source": [
    "r1 = [1,2,3]\n",
    "r2 = [4,5,6]\n",
    "r3 = [7,8,9]"
   ]
  },
  {
   "cell_type": "code",
   "execution_count": 18,
   "id": "b74dad4a",
   "metadata": {},
   "outputs": [
    {
     "name": "stdout",
     "output_type": "stream",
     "text": [
      "[[1 2 3]\n",
      " [4 5 6]\n",
      " [7 8 9]]\n"
     ]
    }
   ],
   "source": [
    "mat2 = np.asmatrix([r1, r2, r3])\n",
    "print(mat2)"
   ]
  },
  {
   "cell_type": "code",
   "execution_count": 16,
   "id": "2d342545",
   "metadata": {},
   "outputs": [
    {
     "data": {
      "text/plain": [
       "(2, 5)"
      ]
     },
     "execution_count": 16,
     "metadata": {},
     "output_type": "execute_result"
    }
   ],
   "source": [
    "mat.shape"
   ]
  },
  {
   "cell_type": "code",
   "execution_count": 28,
   "id": "9ee19665",
   "metadata": {},
   "outputs": [
    {
     "name": "stdout",
     "output_type": "stream",
     "text": [
      "[[ 1  2  3  4  5]\n",
      " [ 6  7  8  9 10]\n",
      " [ 1  2  3  4  5]\n",
      " [ 6  7  8  9 10]]\n"
     ]
    }
   ],
   "source": [
    "print(np.vstack((mat, arr1, arr2)))"
   ]
  },
  {
   "cell_type": "code",
   "execution_count": 30,
   "id": "d990857c",
   "metadata": {},
   "outputs": [
    {
     "name": "stdout",
     "output_type": "stream",
     "text": [
      "[[ 1  6  6]\n",
      " [ 2  7  7]\n",
      " [ 3  8  8]\n",
      " [ 4  9  9]\n",
      " [ 5 10 10]]\n"
     ]
    }
   ],
   "source": [
    "print(np.column_stack((arr1, arr2, arr2)))"
   ]
  },
  {
   "cell_type": "code",
   "execution_count": 32,
   "id": "f9165d65",
   "metadata": {},
   "outputs": [],
   "source": [
    "data['Y'] = [6,5,4,3,2,1]"
   ]
  },
  {
   "cell_type": "code",
   "execution_count": 39,
   "id": "419f16bf",
   "metadata": {},
   "outputs": [],
   "source": [
    "df = pd.DataFrame(data)"
   ]
  },
  {
   "cell_type": "code",
   "execution_count": 40,
   "id": "681c5059",
   "metadata": {},
   "outputs": [
    {
     "name": "stdout",
     "output_type": "stream",
     "text": [
      "   X  Y\n",
      "0  1  6\n",
      "1  2  5\n",
      "2  3  4\n",
      "3  4  3\n",
      "4  5  2\n",
      "5  6  1\n"
     ]
    }
   ],
   "source": [
    "print(df)"
   ]
  },
  {
   "cell_type": "code",
   "execution_count": 41,
   "id": "cc6e26ea",
   "metadata": {},
   "outputs": [
    {
     "name": "stdout",
     "output_type": "stream",
     "text": [
      "['X', 'Y']\n"
     ]
    }
   ],
   "source": [
    "print(list(df))"
   ]
  },
  {
   "cell_type": "code",
   "execution_count": 42,
   "id": "225096a5",
   "metadata": {},
   "outputs": [],
   "source": [
    "data = pd.read_csv(\"Delivery_Time.csv\")"
   ]
  },
  {
   "cell_type": "code",
   "execution_count": 43,
   "id": "c2284fdc",
   "metadata": {},
   "outputs": [
    {
     "name": "stdout",
     "output_type": "stream",
     "text": [
      "    Observation  Delivery Time, y  Number of Cases, x1  Distance, x2 (ft)\n",
      "0             1             16.68                    7                560\n",
      "1             2             11.50                    3                220\n",
      "2             3             12.03                    3                340\n",
      "3             4             14.88                    4                 80\n",
      "4             5             13.75                    6                150\n",
      "5             6             18.11                    7                330\n",
      "6             7              8.00                    2                110\n",
      "7             8             17.83                    7                210\n",
      "8             9             79.24                   30               1460\n",
      "9            10             21.50                    5                605\n",
      "10           11             40.33                   16                688\n",
      "11           12             21.00                   10                215\n",
      "12           13             13.50                    4                255\n",
      "13           14             19.75                    6                462\n",
      "14           15             24.00                    9                448\n",
      "15           16             29.00                   10                776\n",
      "16           17             15.35                    6                200\n",
      "17           18             19.00                    7                132\n",
      "18           19              9.50                    3                 36\n",
      "19           20             35.10                   17                770\n",
      "20           21             17.90                   10                140\n",
      "21           22             52.32                   26                810\n",
      "22           23             18.75                    9                450\n",
      "23           24             19.83                    8                635\n",
      "24           25             10.75                    4                150\n"
     ]
    }
   ],
   "source": [
    "print(data)"
   ]
  },
  {
   "cell_type": "code",
   "execution_count": 54,
   "id": "e0945a70",
   "metadata": {},
   "outputs": [],
   "source": [
    "text = pd.read_csv(\"ex_1_name.txt\", header = 0, sep = \" \")"
   ]
  },
  {
   "cell_type": "code",
   "execution_count": 55,
   "id": "a378e1fd",
   "metadata": {},
   "outputs": [
    {
     "name": "stdout",
     "output_type": "stream",
     "text": [
      "   Subject Gender  CA1  CA2 HW\n",
      "0       10      M   80   84  A\n",
      "1        7      M   85   89  A\n",
      "2        4      F   90   86  B\n",
      "3       20      M   82   85  B\n",
      "4       25      F   94   94  A\n",
      "5       14      F   88   84  C\n"
     ]
    }
   ],
   "source": [
    "print(text)"
   ]
  },
  {
   "cell_type": "code",
   "execution_count": 56,
   "id": "69cf6319",
   "metadata": {},
   "outputs": [
    {
     "name": "stdout",
     "output_type": "stream",
     "text": [
      "0    84\n",
      "1    89\n",
      "2    86\n",
      "3    85\n",
      "4    94\n",
      "5    84\n",
      "Name: CA2, dtype: int64\n"
     ]
    }
   ],
   "source": [
    "print(text['CA2'])"
   ]
  },
  {
   "cell_type": "code",
   "execution_count": 58,
   "id": "2a18bc25",
   "metadata": {},
   "outputs": [],
   "source": [
    "CA3 = [1,2,3,4,5,6]"
   ]
  },
  {
   "cell_type": "code",
   "execution_count": 59,
   "id": "e5d94d37",
   "metadata": {},
   "outputs": [
    {
     "name": "stdout",
     "output_type": "stream",
     "text": [
      "   Subject Gender  CA1  CA2 HW  CA3\n",
      "0       10      M   80   84  A    1\n",
      "1        7      M   85   89  A    2\n",
      "2        4      F   90   86  B    3\n",
      "3       20      M   82   85  B    4\n",
      "4       25      F   94   94  A    5\n",
      "5       14      F   88   84  C    6\n"
     ]
    }
   ],
   "source": [
    "text['CA3'] = CA3\n",
    "print(text)"
   ]
  },
  {
   "cell_type": "code",
   "execution_count": 60,
   "id": "393d5aa0",
   "metadata": {},
   "outputs": [],
   "source": [
    "iq = pd.read_csv('ex_1_IQ.txt', header = 0, sep = \" \")"
   ]
  },
  {
   "cell_type": "code",
   "execution_count": 63,
   "id": "84ec5f03",
   "metadata": {},
   "outputs": [
    {
     "name": "stdout",
     "output_type": "stream",
     "text": [
      "0    106\n",
      "1    112\n",
      "2    119\n",
      "3    102\n",
      "4    125\n",
      "5    101\n",
      "Name: IQ, dtype: int64\n"
     ]
    }
   ],
   "source": [
    "print(iq[\"IQ\"])"
   ]
  },
  {
   "cell_type": "code",
   "execution_count": 69,
   "id": "b8b45618",
   "metadata": {},
   "outputs": [
    {
     "name": "stdout",
     "output_type": "stream",
     "text": [
      "   Subject Gender  CA1  CA2 HW\n",
      "0       10      M   80   84  A\n",
      "1        7      M   85   89  A\n",
      "2        4      F   90   86  B\n",
      "3       20      M   82   85  B\n",
      "4       25      F   94   94  A\n",
      "5       14      F   88   84  C\n"
     ]
    }
   ],
   "source": [
    "text = text.drop(['CA3'], axis = 1)\n",
    "print(text)"
   ]
  },
  {
   "cell_type": "code",
   "execution_count": 70,
   "id": "59347e4b",
   "metadata": {},
   "outputs": [
    {
     "data": {
      "text/html": [
       "<div>\n",
       "<style scoped>\n",
       "    .dataframe tbody tr th:only-of-type {\n",
       "        vertical-align: middle;\n",
       "    }\n",
       "\n",
       "    .dataframe tbody tr th {\n",
       "        vertical-align: top;\n",
       "    }\n",
       "\n",
       "    .dataframe thead th {\n",
       "        text-align: right;\n",
       "    }\n",
       "</style>\n",
       "<table border=\"1\" class=\"dataframe\">\n",
       "  <thead>\n",
       "    <tr style=\"text-align: right;\">\n",
       "      <th></th>\n",
       "      <th>Subject</th>\n",
       "      <th>Gender</th>\n",
       "      <th>CA1</th>\n",
       "      <th>CA2</th>\n",
       "      <th>HW</th>\n",
       "    </tr>\n",
       "  </thead>\n",
       "  <tbody>\n",
       "    <tr>\n",
       "      <th>0</th>\n",
       "      <td>10</td>\n",
       "      <td>M</td>\n",
       "      <td>80</td>\n",
       "      <td>84</td>\n",
       "      <td>A</td>\n",
       "    </tr>\n",
       "    <tr>\n",
       "      <th>1</th>\n",
       "      <td>7</td>\n",
       "      <td>M</td>\n",
       "      <td>85</td>\n",
       "      <td>89</td>\n",
       "      <td>A</td>\n",
       "    </tr>\n",
       "    <tr>\n",
       "      <th>2</th>\n",
       "      <td>4</td>\n",
       "      <td>F</td>\n",
       "      <td>90</td>\n",
       "      <td>86</td>\n",
       "      <td>B</td>\n",
       "    </tr>\n",
       "    <tr>\n",
       "      <th>3</th>\n",
       "      <td>20</td>\n",
       "      <td>M</td>\n",
       "      <td>82</td>\n",
       "      <td>85</td>\n",
       "      <td>B</td>\n",
       "    </tr>\n",
       "    <tr>\n",
       "      <th>4</th>\n",
       "      <td>25</td>\n",
       "      <td>F</td>\n",
       "      <td>94</td>\n",
       "      <td>94</td>\n",
       "      <td>A</td>\n",
       "    </tr>\n",
       "    <tr>\n",
       "      <th>5</th>\n",
       "      <td>14</td>\n",
       "      <td>F</td>\n",
       "      <td>88</td>\n",
       "      <td>84</td>\n",
       "      <td>C</td>\n",
       "    </tr>\n",
       "  </tbody>\n",
       "</table>\n",
       "</div>"
      ],
      "text/plain": [
       "   Subject Gender  CA1  CA2 HW\n",
       "0       10      M   80   84  A\n",
       "1        7      M   85   89  A\n",
       "2        4      F   90   86  B\n",
       "3       20      M   82   85  B\n",
       "4       25      F   94   94  A\n",
       "5       14      F   88   84  C"
      ]
     },
     "execution_count": 70,
     "metadata": {},
     "output_type": "execute_result"
    }
   ],
   "source": [
    "text"
   ]
  },
  {
   "cell_type": "code",
   "execution_count": 71,
   "id": "1a91e15a",
   "metadata": {},
   "outputs": [],
   "source": [
    "frames = [text, iq['IQ']]"
   ]
  },
  {
   "cell_type": "code",
   "execution_count": 77,
   "id": "7c61ecca",
   "metadata": {},
   "outputs": [],
   "source": [
    "result = pd.concat(frames, axis = 1)"
   ]
  },
  {
   "cell_type": "code",
   "execution_count": 78,
   "id": "444c19ae",
   "metadata": {},
   "outputs": [
    {
     "name": "stdout",
     "output_type": "stream",
     "text": [
      "   Subject Gender  CA1  CA2 HW   IQ\n",
      "0       10      M   80   84  A  106\n",
      "1        7      M   85   89  A  112\n",
      "2        4      F   90   86  B  119\n",
      "3       20      M   82   85  B  102\n",
      "4       25      F   94   94  A  125\n",
      "5       14      F   88   84  C  101\n"
     ]
    }
   ],
   "source": [
    "print(result)"
   ]
  },
  {
   "cell_type": "code",
   "execution_count": 80,
   "id": "9f20bb90",
   "metadata": {},
   "outputs": [],
   "source": [
    "import statistics"
   ]
  },
  {
   "cell_type": "code",
   "execution_count": 88,
   "id": "ae3e66bf",
   "metadata": {},
   "outputs": [
    {
     "data": {
      "text/plain": [
       "9"
      ]
     },
     "execution_count": 88,
     "metadata": {},
     "output_type": "execute_result"
    }
   ],
   "source": [
    "statistics.variance(x)"
   ]
  },
  {
   "cell_type": "code",
   "execution_count": 89,
   "id": "4c094153",
   "metadata": {},
   "outputs": [
    {
     "data": {
      "text/html": [
       "<div>\n",
       "<style scoped>\n",
       "    .dataframe tbody tr th:only-of-type {\n",
       "        vertical-align: middle;\n",
       "    }\n",
       "\n",
       "    .dataframe tbody tr th {\n",
       "        vertical-align: top;\n",
       "    }\n",
       "\n",
       "    .dataframe thead th {\n",
       "        text-align: right;\n",
       "    }\n",
       "</style>\n",
       "<table border=\"1\" class=\"dataframe\">\n",
       "  <thead>\n",
       "    <tr style=\"text-align: right;\">\n",
       "      <th></th>\n",
       "      <th>Subject</th>\n",
       "      <th>Gender</th>\n",
       "      <th>CA1</th>\n",
       "      <th>CA2</th>\n",
       "      <th>HW</th>\n",
       "    </tr>\n",
       "  </thead>\n",
       "  <tbody>\n",
       "    <tr>\n",
       "      <th>0</th>\n",
       "      <td>10</td>\n",
       "      <td>M</td>\n",
       "      <td>80</td>\n",
       "      <td>84</td>\n",
       "      <td>A</td>\n",
       "    </tr>\n",
       "    <tr>\n",
       "      <th>1</th>\n",
       "      <td>7</td>\n",
       "      <td>M</td>\n",
       "      <td>85</td>\n",
       "      <td>89</td>\n",
       "      <td>A</td>\n",
       "    </tr>\n",
       "    <tr>\n",
       "      <th>2</th>\n",
       "      <td>4</td>\n",
       "      <td>F</td>\n",
       "      <td>90</td>\n",
       "      <td>86</td>\n",
       "      <td>B</td>\n",
       "    </tr>\n",
       "    <tr>\n",
       "      <th>3</th>\n",
       "      <td>20</td>\n",
       "      <td>M</td>\n",
       "      <td>82</td>\n",
       "      <td>85</td>\n",
       "      <td>B</td>\n",
       "    </tr>\n",
       "    <tr>\n",
       "      <th>4</th>\n",
       "      <td>25</td>\n",
       "      <td>F</td>\n",
       "      <td>94</td>\n",
       "      <td>94</td>\n",
       "      <td>A</td>\n",
       "    </tr>\n",
       "    <tr>\n",
       "      <th>5</th>\n",
       "      <td>14</td>\n",
       "      <td>F</td>\n",
       "      <td>88</td>\n",
       "      <td>84</td>\n",
       "      <td>C</td>\n",
       "    </tr>\n",
       "  </tbody>\n",
       "</table>\n",
       "</div>"
      ],
      "text/plain": [
       "   Subject Gender  CA1  CA2 HW\n",
       "0       10      M   80   84  A\n",
       "1        7      M   85   89  A\n",
       "2        4      F   90   86  B\n",
       "3       20      M   82   85  B\n",
       "4       25      F   94   94  A\n",
       "5       14      F   88   84  C"
      ]
     },
     "execution_count": 89,
     "metadata": {},
     "output_type": "execute_result"
    }
   ],
   "source": [
    "text"
   ]
  },
  {
   "cell_type": "code",
   "execution_count": 95,
   "id": "30d1982b",
   "metadata": {},
   "outputs": [
    {
     "data": {
      "text/plain": [
       "pandas.core.series.Series"
      ]
     },
     "execution_count": 95,
     "metadata": {},
     "output_type": "execute_result"
    }
   ],
   "source": [
    "CA1 = text['CA1']"
   ]
  },
  {
   "cell_type": "code",
   "execution_count": 92,
   "id": "3b3c23fc",
   "metadata": {},
   "outputs": [],
   "source": [
    "f = open('CA1.csv', 'w')"
   ]
  },
  {
   "cell_type": "code",
   "execution_count": 93,
   "id": "ba0bcb22",
   "metadata": {},
   "outputs": [],
   "source": [
    "for i in CA1:\n",
    "    f.write(str(i) + '\\n')\n",
    "f.close()"
   ]
  },
  {
   "cell_type": "code",
   "execution_count": 94,
   "id": "aca53a57",
   "metadata": {},
   "outputs": [
    {
     "data": {
      "text/plain": [
       "0    80\n",
       "1    85\n",
       "2    90\n",
       "3    82\n",
       "4    94\n",
       "5    88\n",
       "Name: CA1, dtype: int64"
      ]
     },
     "execution_count": 94,
     "metadata": {},
     "output_type": "execute_result"
    }
   ],
   "source": [
    "CA1"
   ]
  },
  {
   "cell_type": "code",
   "execution_count": 96,
   "id": "0fb901de",
   "metadata": {},
   "outputs": [],
   "source": [
    "f = open('test.csv', 'w')"
   ]
  },
  {
   "cell_type": "code",
   "execution_count": 97,
   "id": "a212aac0",
   "metadata": {},
   "outputs": [],
   "source": [
    "for i in text:\n",
    "    f.write(str(i) + '\\n')\n",
    "f.close()"
   ]
  },
  {
   "cell_type": "code",
   "execution_count": 105,
   "id": "818095a9",
   "metadata": {},
   "outputs": [],
   "source": [
    "np.savetxt('test.txt', text, fmt='%s')"
   ]
  },
  {
   "cell_type": "code",
   "execution_count": 104,
   "id": "92e48733",
   "metadata": {},
   "outputs": [
    {
     "data": {
      "text/html": [
       "<div>\n",
       "<style scoped>\n",
       "    .dataframe tbody tr th:only-of-type {\n",
       "        vertical-align: middle;\n",
       "    }\n",
       "\n",
       "    .dataframe tbody tr th {\n",
       "        vertical-align: top;\n",
       "    }\n",
       "\n",
       "    .dataframe thead th {\n",
       "        text-align: right;\n",
       "    }\n",
       "</style>\n",
       "<table border=\"1\" class=\"dataframe\">\n",
       "  <thead>\n",
       "    <tr style=\"text-align: right;\">\n",
       "      <th></th>\n",
       "      <th>Subject</th>\n",
       "      <th>Gender</th>\n",
       "      <th>CA1</th>\n",
       "      <th>CA2</th>\n",
       "      <th>HW</th>\n",
       "    </tr>\n",
       "  </thead>\n",
       "  <tbody>\n",
       "    <tr>\n",
       "      <th>0</th>\n",
       "      <td>10</td>\n",
       "      <td>M</td>\n",
       "      <td>80</td>\n",
       "      <td>84</td>\n",
       "      <td>A</td>\n",
       "    </tr>\n",
       "    <tr>\n",
       "      <th>1</th>\n",
       "      <td>7</td>\n",
       "      <td>M</td>\n",
       "      <td>85</td>\n",
       "      <td>89</td>\n",
       "      <td>A</td>\n",
       "    </tr>\n",
       "    <tr>\n",
       "      <th>2</th>\n",
       "      <td>4</td>\n",
       "      <td>F</td>\n",
       "      <td>90</td>\n",
       "      <td>86</td>\n",
       "      <td>B</td>\n",
       "    </tr>\n",
       "    <tr>\n",
       "      <th>3</th>\n",
       "      <td>20</td>\n",
       "      <td>M</td>\n",
       "      <td>82</td>\n",
       "      <td>85</td>\n",
       "      <td>B</td>\n",
       "    </tr>\n",
       "    <tr>\n",
       "      <th>4</th>\n",
       "      <td>25</td>\n",
       "      <td>F</td>\n",
       "      <td>94</td>\n",
       "      <td>94</td>\n",
       "      <td>A</td>\n",
       "    </tr>\n",
       "    <tr>\n",
       "      <th>5</th>\n",
       "      <td>14</td>\n",
       "      <td>F</td>\n",
       "      <td>88</td>\n",
       "      <td>84</td>\n",
       "      <td>C</td>\n",
       "    </tr>\n",
       "  </tbody>\n",
       "</table>\n",
       "</div>"
      ],
      "text/plain": [
       "   Subject Gender  CA1  CA2 HW\n",
       "0       10      M   80   84  A\n",
       "1        7      M   85   89  A\n",
       "2        4      F   90   86  B\n",
       "3       20      M   82   85  B\n",
       "4       25      F   94   94  A\n",
       "5       14      F   88   84  C"
      ]
     },
     "execution_count": 104,
     "metadata": {},
     "output_type": "execute_result"
    }
   ],
   "source": [
    "text"
   ]
  },
  {
   "cell_type": "code",
   "execution_count": 110,
   "id": "c9a7cb00",
   "metadata": {},
   "outputs": [],
   "source": [
    "text.to_csv('test.csv', header = None, index=None, sep=',', mode='a')"
   ]
  },
  {
   "cell_type": "code",
   "execution_count": null,
   "id": "d50b569e",
   "metadata": {},
   "outputs": [],
   "source": []
  },
  {
   "cell_type": "code",
   "execution_count": null,
   "id": "6514ccd6",
   "metadata": {},
   "outputs": [],
   "source": []
  }
 ],
 "metadata": {
  "kernelspec": {
   "display_name": "Python 3 (ipykernel)",
   "language": "python",
   "name": "python3"
  },
  "language_info": {
   "codemirror_mode": {
    "name": "ipython",
    "version": 3
   },
   "file_extension": ".py",
   "mimetype": "text/x-python",
   "name": "python",
   "nbconvert_exporter": "python",
   "pygments_lexer": "ipython3",
   "version": "3.9.10"
  }
 },
 "nbformat": 4,
 "nbformat_minor": 5
}
