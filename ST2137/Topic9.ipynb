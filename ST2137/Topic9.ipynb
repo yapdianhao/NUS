{
 "cells": [
  {
   "cell_type": "code",
   "execution_count": 1,
   "metadata": {},
   "outputs": [],
   "source": [
    "import pandas as pd\n",
    "import numpy as np\n",
    "import scipy\n",
    "import statistics as st\n",
    "from statistics import mean\n",
    "from statistics import median\n",
    "from statistics import variance\n",
    "from scipy import stats\n",
    "from scipy.stats import mstats\n",
    "import math\n",
    "import statsmodels.api as sm \n",
    "\n",
    "import matplotlib.pyplot as pyplot\n",
    "\n",
    "from statsmodels.formula.api import ols"
   ]
  },
  {
   "cell_type": "code",
   "execution_count": 2,
   "metadata": {},
   "outputs": [
    {
     "name": "stdout",
     "output_type": "stream",
     "text": [
      "  gender  height  weight  age\n",
      "0      M      68     155   23\n",
      "1      F      61      99   20\n",
      "2      F      63     115   21\n",
      "3      M      70     205   45\n",
      "4      M      69     170   38\n",
      "5      F      65     125   30\n",
      "6      M      72     220   48\n"
     ]
    }
   ],
   "source": [
    "data = pd.read_csv (r\"C:\\Data\\ex10_1.txt\", sep = \" \")\n",
    "print(data)"
   ]
  },
  {
   "cell_type": "code",
   "execution_count": 3,
   "metadata": {},
   "outputs": [],
   "source": [
    "data.gender = data.gender.astype('category')"
   ]
  },
  {
   "cell_type": "code",
   "execution_count": 4,
   "metadata": {},
   "outputs": [
    {
     "name": "stdout",
     "output_type": "stream",
     "text": [
      "(0.9716498256927286, 0.00025598539082999355)\n"
     ]
    }
   ],
   "source": [
    "#correlation between weight and height\n",
    "print( scipy.stats.pearsonr(data['weight'], data['height']) )"
   ]
  },
  {
   "cell_type": "code",
   "execution_count": 5,
   "metadata": {},
   "outputs": [
    {
     "name": "stdout",
     "output_type": "stream",
     "text": [
      "[[1.         0.97164983]\n",
      " [0.97164983 1.        ]]\n"
     ]
    }
   ],
   "source": [
    "#correlation between weight nand height also can be computed as\n",
    "print( np.corrcoef(data['weight'], data['height']) )"
   ]
  },
  {
   "cell_type": "code",
   "execution_count": 6,
   "metadata": {},
   "outputs": [
    {
     "name": "stdout",
     "output_type": "stream",
     "text": [
      "          weight    height       age\n",
      "weight  1.000000  0.971650  0.923965\n",
      "height  0.971650  1.000000  0.873101\n",
      "age     0.923965  0.873101  1.000000\n"
     ]
    }
   ],
   "source": [
    "# MATRIX OF CORRELATION\n",
    "quant = ['weight','height','age']\n",
    "corr_matrix = data.loc[:,quant].corr()\n",
    "print(corr_matrix)"
   ]
  },
  {
   "cell_type": "code",
   "execution_count": null,
   "metadata": {},
   "outputs": [],
   "source": []
  },
  {
   "cell_type": "code",
   "execution_count": 7,
   "metadata": {},
   "outputs": [
    {
     "data": {
      "image/png": "[encoded data removed]",
      "text/plain": [
       "<Figure size 432x288 with 1 Axes>"
      ]
     },
     "metadata": {
      "needs_background": "light"
     },
     "output_type": "display_data"
    }
   ],
   "source": [
    "#scatter plot of height and weight\n",
    "import matplotlib.pyplot as pyplot\n",
    "\n",
    "pyplot.scatter(data['height'], data['weight'],label='Scatter Plot HW',color='b')  \n",
    "pyplot.xlabel('Height') \n",
    "pyplot.ylabel('Weight') \n",
    "pyplot.title('Scatter Plot of of Height vs Weight') \n",
    "pyplot.show() "
   ]
  },
  {
   "cell_type": "code",
   "execution_count": 8,
   "metadata": {},
   "outputs": [
    {
     "data": {
      "image/png": "[encoded data removed]",
      "text/plain": [
       "<Figure size 432x288 with 1 Axes>"
      ]
     },
     "metadata": {
      "needs_background": "light"
     },
     "output_type": "display_data"
    }
   ],
   "source": [
    "#scatter plot of height and weight classified by gender\n",
    "\n",
    "groups = data.groupby(\"gender\")\n",
    "for name, group in groups:\n",
    "    pyplot.plot(group[\"height\"], group[\"weight\"], marker=\"o\", linestyle=\"\", label=name)\n",
    "    \n",
    "pyplot.legend()\n",
    "pyplot.show()"
   ]
  },
  {
   "cell_type": "markdown",
   "metadata": {},
   "source": [
    "# LINEAR REGRESSION MODEL\n",
    "First way"
   ]
  },
  {
   "cell_type": "code",
   "execution_count": 9,
   "metadata": {},
   "outputs": [
    {
     "name": "stdout",
     "output_type": "stream",
     "text": [
      "                            OLS Regression Results                            \n",
      "==============================================================================\n",
      "Dep. Variable:                 weight   R-squared:                       0.944\n",
      "Model:                            OLS   Adj. R-squared:                  0.933\n",
      "Method:                 Least Squares   F-statistic:                     84.45\n",
      "Date:                Wed, 01 Dec 2021   Prob (F-statistic):           0.000256\n",
      "Time:                        15:53:31   Log-Likelihood:                -26.068\n",
      "No. Observations:                   7   AIC:                             56.14\n",
      "Df Residuals:                       5   BIC:                             56.03\n",
      "Df Model:                           1                                         \n",
      "Covariance Type:            nonrobust                                         \n",
      "==============================================================================\n",
      "                 coef    std err          t      P>|t|      [0.025      0.975]\n",
      "------------------------------------------------------------------------------\n",
      "Intercept   -592.6446     81.542     -7.268      0.001    -802.255    -383.034\n",
      "height        11.1913      1.218      9.190      0.000       8.061      14.322\n",
      "==============================================================================\n",
      "Omnibus:                          nan   Durbin-Watson:                   2.161\n",
      "Prob(Omnibus):                    nan   Jarque-Bera (JB):                0.741\n",
      "Skew:                          -0.033   Prob(JB):                        0.690\n",
      "Kurtosis:                       1.407   Cond. No.                     1.22e+03\n",
      "==============================================================================\n",
      "\n",
      "Warnings:\n",
      "[1] Standard Errors assume that the covariance matrix of the errors is correctly specified.\n",
      "[2] The condition number is large, 1.22e+03. This might indicate that there are\n",
      "strong multicollinearity or other numerical problems.\n"
     ]
    },
    {
     "name": "stderr",
     "output_type": "stream",
     "text": [
      "C:\\ProgramData\\Anaconda3\\lib\\site-packages\\statsmodels\\stats\\stattools.py:71: ValueWarning: omni_normtest is not valid with less than 8 observations; 7 samples were given.\n",
      "  \"samples were given.\" % int(n), ValueWarning)\n"
     ]
    }
   ],
   "source": [
    "# simple model weight ~ height\n",
    "# model1\n",
    "\n",
    "model=ols(\"weight~height\",data=data).fit()\n",
    "print(model.summary())\n"
   ]
  },
  {
   "cell_type": "code",
   "execution_count": 10,
   "metadata": {},
   "outputs": [
    {
     "name": "stdout",
     "output_type": "stream",
     "text": [
      "Intercept    81.542175\n",
      "height        1.217803\n",
      "dtype: float64\n",
      "Mean Squared errors, MS-Res =  140.67740963855402\n",
      "Residual Standard Error =  11.860750804167248\n",
      "MS-res =  140.67740963855402\n"
     ]
    }
   ],
   "source": [
    "# Derive information of model like SE of beta, MS-res, Residual standard error:\n",
    "\n",
    "print(model.bse) # standard error for the coefficients\n",
    "print('Mean Squared errors, MS-Res = ',model.mse_resid) # another name is residual mean square\n",
    "print('Residual Standard Error = ', np.sqrt(model.mse_resid) )\n",
    "print('MS-res = ', model.scale) # MS_res\n"
   ]
  },
  {
   "cell_type": "code",
   "execution_count": null,
   "metadata": {
    "scrolled": true
   },
   "outputs": [],
   "source": []
  },
  {
   "cell_type": "markdown",
   "metadata": {},
   "source": [
    "# Linear model fitting\n",
    "Second way"
   ]
  },
  {
   "cell_type": "code",
   "execution_count": 11,
   "metadata": {},
   "outputs": [
    {
     "name": "stdout",
     "output_type": "stream",
     "text": [
      "                            OLS Regression Results                            \n",
      "==============================================================================\n",
      "Dep. Variable:                 weight   R-squared:                       0.944\n",
      "Model:                            OLS   Adj. R-squared:                  0.933\n",
      "Method:                 Least Squares   F-statistic:                     84.45\n",
      "Date:                Wed, 01 Dec 2021   Prob (F-statistic):           0.000256\n",
      "Time:                        15:53:55   Log-Likelihood:                -26.068\n",
      "No. Observations:                   7   AIC:                             56.14\n",
      "Df Residuals:                       5   BIC:                             56.03\n",
      "Df Model:                           1                                         \n",
      "Covariance Type:            nonrobust                                         \n",
      "==============================================================================\n",
      "                 coef    std err          t      P>|t|      [0.025      0.975]\n",
      "------------------------------------------------------------------------------\n",
      "const       -592.6446     81.542     -7.268      0.001    -802.255    -383.034\n",
      "x1            11.1913      1.218      9.190      0.000       8.061      14.322\n",
      "==============================================================================\n",
      "Omnibus:                          nan   Durbin-Watson:                   2.161\n",
      "Prob(Omnibus):                    nan   Jarque-Bera (JB):                0.741\n",
      "Skew:                          -0.033   Prob(JB):                        0.690\n",
      "Kurtosis:                       1.407   Cond. No.                     1.22e+03\n",
      "==============================================================================\n",
      "\n",
      "Warnings:\n",
      "[1] Standard Errors assume that the covariance matrix of the errors is correctly specified.\n",
      "[2] The condition number is large, 1.22e+03. This might indicate that there are\n",
      "strong multicollinearity or other numerical problems.\n"
     ]
    },
    {
     "name": "stderr",
     "output_type": "stream",
     "text": [
      "C:\\ProgramData\\Anaconda3\\lib\\site-packages\\statsmodels\\stats\\stattools.py:71: ValueWarning: omni_normtest is not valid with less than 8 observations; 7 samples were given.\n",
      "  \"samples were given.\" % int(n), ValueWarning)\n"
     ]
    }
   ],
   "source": [
    "# SECOND WAY TO FIT A LINEAR MODEL (SIMILAR output AS THE FIRST WAY ABOVE)\n",
    "# maybe less commonly used compared to the first way above\n",
    "import statsmodels\n",
    "weight = data['weight']\n",
    "n = len(weight) # data size\n",
    "inter = [1]*n \n",
    "X = np.column_stack((inter, data['height'])) \n",
    "# X = matrix of 2 columns in the model, including column of value 1 for intercept and column of height\n",
    "\n",
    "mo = statsmodels.regression.linear_model.OLS(weight, X) # command to form the model is different from the first way\n",
    "re =mo.fit()\n",
    "print(re.summary())\n",
    "\n",
    "# BIG note: the name of variable is not shown in the output.\n",
    "# we need to figure out the name based on the matrix X"
   ]
  },
  {
   "cell_type": "code",
   "execution_count": 12,
   "metadata": {},
   "outputs": [
    {
     "name": "stdout",
     "output_type": "stream",
     "text": [
      "const    81.542175\n",
      "x1        1.217803\n",
      "dtype: float64\n",
      "Mean Squared errors, MS-Res =  140.67740963855402\n",
      "Residual Standard Error =  11.860750804167248\n"
     ]
    }
   ],
   "source": [
    "# Derive information of model from SECOND WAY of fitting  model\n",
    "\n",
    "print(re.bse) # standard error for the coefficients\n",
    "print('Mean Squared errors, MS-Res = ',re.mse_resid)\n",
    "print('Residual Standard Error = ', np.sqrt(re.mse_resid) )"
   ]
  },
  {
   "cell_type": "code",
   "execution_count": 13,
   "metadata": {},
   "outputs": [
    {
     "name": "stdout",
     "output_type": "stream",
     "text": [
      "           df        sum_sq       mean_sq          F    PR(>F)\n",
      "height    1.0  11880.327238  11880.327238  84.450853  0.000256\n",
      "Residual  5.0    703.387048    140.677410        NaN       NaN\n",
      "                sum_sq   df          F    PR(>F)\n",
      "height    11880.327238  1.0  84.450853  0.000256\n",
      "Residual    703.387048  5.0        NaN       NaN\n"
     ]
    }
   ],
   "source": [
    "# ANOVA of MODEL 1\n",
    "\n",
    "from statsmodels.formula.api import ols\n",
    "anova11 = sm.stats.anova_lm(model, typ=1) #Anova of model 1 with typ = 1\n",
    "anova12 = sm.stats.anova_lm(model, typ=2) #Anova of model 1 with typ = 2\n",
    "# in the case of a simple model, the two anova tables (typ = 1 and typ = 2) are the same.\n",
    "print(anova11)\n",
    "print(anova12)"
   ]
  },
  {
   "cell_type": "markdown",
   "metadata": {},
   "source": [
    "# Multiple Linear Regression Model (with >= 2 regressors)\n",
    "\n",
    "# (MLR)"
   ]
  },
  {
   "cell_type": "code",
   "execution_count": 14,
   "metadata": {},
   "outputs": [
    {
     "name": "stdout",
     "output_type": "stream",
     "text": [
      "                            OLS Regression Results                            \n",
      "==============================================================================\n",
      "Dep. Variable:                 weight   R-squared:                       0.968\n",
      "Model:                            OLS   Adj. R-squared:                  0.952\n",
      "Method:                 Least Squares   F-statistic:                     60.81\n",
      "Date:                Wed, 01 Dec 2021   Prob (F-statistic):            0.00101\n",
      "Time:                        15:54:12   Log-Likelihood:                -24.098\n",
      "No. Observations:                   7   AIC:                             54.20\n",
      "Df Residuals:                       4   BIC:                             54.03\n",
      "Df Model:                           2                                         \n",
      "Covariance Type:            nonrobust                                         \n",
      "==============================================================================\n",
      "                 coef    std err          t      P>|t|      [0.025      0.975]\n",
      "------------------------------------------------------------------------------\n",
      "Intercept   -419.0416    121.274     -3.455      0.026    -755.752     -82.331\n",
      "height         7.9921      2.108      3.792      0.019       2.140      13.844\n",
      "age            1.2532      0.721      1.738      0.157      -0.748       3.255\n",
      "==============================================================================\n",
      "Omnibus:                          nan   Durbin-Watson:                   1.609\n",
      "Prob(Omnibus):                    nan   Jarque-Bera (JB):                1.043\n",
      "Skew:                          -0.790   Prob(JB):                        0.593\n",
      "Kurtosis:                       1.961   Cond. No.                     2.39e+03\n",
      "==============================================================================\n",
      "\n",
      "Warnings:\n",
      "[1] Standard Errors assume that the covariance matrix of the errors is correctly specified.\n",
      "[2] The condition number is large, 2.39e+03. This might indicate that there are\n",
      "strong multicollinearity or other numerical problems.\n"
     ]
    },
    {
     "name": "stderr",
     "output_type": "stream",
     "text": [
      "C:\\ProgramData\\Anaconda3\\lib\\site-packages\\statsmodels\\stats\\stattools.py:71: ValueWarning: omni_normtest is not valid with less than 8 observations; 7 samples were given.\n",
      "  \"samples were given.\" % int(n), ValueWarning)\n"
     ]
    }
   ],
   "source": [
    "# MODEL 2: weight ~ height + age\n",
    "\n",
    "model2=ols(\"weight~height + age\",data=data).fit()\n",
    "print(model2.summary())\n"
   ]
  },
  {
   "cell_type": "code",
   "execution_count": null,
   "metadata": {},
   "outputs": [],
   "source": []
  },
  {
   "cell_type": "code",
   "execution_count": null,
   "metadata": {},
   "outputs": [],
   "source": []
  },
  {
   "cell_type": "markdown",
   "metadata": {},
   "source": [
    "# ANOVA for the MLR\n",
    "with \"typ = 1\""
   ]
  },
  {
   "cell_type": "code",
   "execution_count": 15,
   "metadata": {},
   "outputs": [
    {
     "name": "stdout",
     "output_type": "stream",
     "text": [
      "           df        sum_sq       mean_sq           F    PR(>F)\n",
      "height    1.0  11880.327238  11880.327238  118.602673  0.000404\n",
      "age       1.0    302.710505    302.710505    3.021994  0.157134\n",
      "Residual  4.0    400.676543    100.169136         NaN       NaN\n"
     ]
    }
   ],
   "source": [
    "from statsmodels.formula.api import ols\n",
    "\n",
    "anova21 = sm.stats.anova_lm(model2, typ=1) \n",
    "# Anova of model 2 with typ = 1 #the sum_sq are in a sequential manner, \n",
    "# hence if we swop the order of regressors, the table will change;\n",
    "# 'typ = 1' will give you the same as anova(model1) table in R\n",
    "print(anova21)\n"
   ]
  },
  {
   "cell_type": "markdown",
   "metadata": {},
   "source": [
    "# ANOVA\n",
    "with \"typ = 2\""
   ]
  },
  {
   "cell_type": "code",
   "execution_count": 16,
   "metadata": {},
   "outputs": [
    {
     "name": "stdout",
     "output_type": "stream",
     "text": [
      "               sum_sq   df          F    PR(>F)\n",
      "height    1440.170532  1.0  14.377388  0.019240\n",
      "age        302.710505  1.0   3.021994  0.157134\n",
      "Residual   400.676543  4.0        NaN       NaN\n"
     ]
    }
   ],
   "source": [
    "anova22 = sm.stats.anova_lm(model2, typ=2) \n",
    "# Anova of model 2 with typ = 2, gives p-values for testing the sig of a regressor given all other regressors, \n",
    "# hence the p-value here is similar to the p-value from t-test from summary(model) in R.\n",
    "print(anova22)"
   ]
  },
  {
   "cell_type": "markdown",
   "metadata": {},
   "source": [
    "# ANOVA\n",
    "with \"typ = 3\""
   ]
  },
  {
   "cell_type": "code",
   "execution_count": 17,
   "metadata": {},
   "outputs": [
    {
     "name": "stdout",
     "output_type": "stream",
     "text": [
      "                sum_sq   df          F    PR(>F)\n",
      "Intercept  1195.949411  1.0  11.939300  0.025928\n",
      "height     1440.170532  1.0  14.377388  0.019240\n",
      "age         302.710505  1.0   3.021994  0.157134\n",
      "Residual    400.676543  4.0        NaN       NaN\n"
     ]
    }
   ],
   "source": [
    "print(sm.stats.anova_lm(model2, typ=3) ) # similar as typ = 2 but has the intercept included\n",
    "# the sum_sq and p-value in this table is similar as the Type II (SS2) in SAS."
   ]
  },
  {
   "cell_type": "markdown",
   "metadata": {},
   "source": [
    "# Categorical variable in the model\n",
    "\n",
    "If a categorical variable is included in the model, and we let Python to choose the reference category, then we do  not need to create indicator for the categorical variable.\n",
    "\n",
    "However, if we specifically want a category tobe the reference, then we must create the indicator manually."
   ]
  },
  {
   "cell_type": "code",
   "execution_count": 18,
   "metadata": {},
   "outputs": [
    {
     "name": "stdout",
     "output_type": "stream",
     "text": [
      "                            OLS Regression Results                            \n",
      "==============================================================================\n",
      "Dep. Variable:                 weight   R-squared:                       0.972\n",
      "Model:                            OLS   Adj. R-squared:                  0.945\n",
      "Method:                 Least Squares   F-statistic:                     35.16\n",
      "Date:                Wed, 01 Dec 2021   Prob (F-statistic):            0.00774\n",
      "Time:                        15:54:28   Log-Likelihood:                -23.605\n",
      "No. Observations:                   7   AIC:                             55.21\n",
      "Df Residuals:                       3   BIC:                             54.99\n",
      "Df Model:                           3                                         \n",
      "Covariance Type:            nonrobust                                         \n",
      "===============================================================================\n",
      "                  coef    std err          t      P>|t|      [0.025      0.975]\n",
      "-------------------------------------------------------------------------------\n",
      "Intercept    -254.1068    277.360     -0.916      0.427   -1136.791     628.578\n",
      "gender[T.M]    15.6511     23.224      0.674      0.549     -58.258      89.560\n",
      "height          5.2309      4.683      1.117      0.345      -9.673      20.135\n",
      "age             1.5870      0.920      1.724      0.183      -1.342       4.516\n",
      "==============================================================================\n",
      "Omnibus:                          nan   Durbin-Watson:                   1.678\n",
      "Prob(Omnibus):                    nan   Jarque-Bera (JB):                1.083\n",
      "Skew:                          -0.842   Prob(JB):                        0.582\n",
      "Kurtosis:                       2.064   Cond. No.                     5.10e+03\n",
      "==============================================================================\n",
      "\n",
      "Warnings:\n",
      "[1] Standard Errors assume that the covariance matrix of the errors is correctly specified.\n",
      "[2] The condition number is large, 5.1e+03. This might indicate that there are\n",
      "strong multicollinearity or other numerical problems.\n"
     ]
    },
    {
     "name": "stderr",
     "output_type": "stream",
     "text": [
      "C:\\ProgramData\\Anaconda3\\lib\\site-packages\\statsmodels\\stats\\stattools.py:71: ValueWarning: omni_normtest is not valid with less than 8 observations; 7 samples were given.\n",
      "  \"samples were given.\" % int(n), ValueWarning)\n"
     ]
    }
   ],
   "source": [
    "# MODEL 3: weight ~ height + age + gender\n",
    "\n",
    "model3=ols(\"weight~height + age + gender\",data=data).fit() # gender is added after age\n",
    "print(model3.summary())\n",
    "\n",
    "# gender[T.M] means Male is chosen in the model, and Female is the REFERENCE.\n"
   ]
  },
  {
   "cell_type": "code",
   "execution_count": 19,
   "metadata": {},
   "outputs": [
    {
     "name": "stdout",
     "output_type": "stream",
     "text": [
      "           df       sum_sq      mean_sq          F    PR(>F)\n",
      "gender    1.0  9514.714286  9514.714286  82.024838  0.002843\n",
      "height    1.0  2376.134328  2376.134328  20.484276  0.020176\n",
      "age       1.0   344.871775   344.871775   2.973085  0.183128\n",
      "Residual  3.0   347.993896   115.997965        NaN       NaN\n",
      "              sum_sq   df         F    PR(>F)\n",
      "gender     52.682647  1.0  0.454169  0.548641\n",
      "height    144.720939  1.0  1.247616  0.345406\n",
      "age       344.871775  1.0  2.973085  0.183128\n",
      "Residual  347.993896  3.0       NaN       NaN\n"
     ]
    }
   ],
   "source": [
    "# ANOVA of MODEL 3 (which uses gender)\n",
    "\n",
    "anova31 = sm.stats.anova_lm(model3, typ=1) #Anova of model 3 with typ = 1\n",
    "anova32 = sm.stats.anova_lm(model3, typ=2 ) #Anova of model 3 with typ = 2\n",
    "print(anova31)\n",
    "print(anova32)\n",
    "\n",
    "# variable gender (or any categorical variable) will appear in the first row(s) of the anova table\n",
    "\n"
   ]
  },
  {
   "cell_type": "markdown",
   "metadata": {},
   "source": [
    "# Indicator for Categorical variable\n",
    "\n",
    "If gender is used in the model, but we specifically want a specific category tobe the **reference**, then we need to create indicator(s) manually"
   ]
  },
  {
   "cell_type": "code",
   "execution_count": 20,
   "metadata": {},
   "outputs": [
    {
     "name": "stdout",
     "output_type": "stream",
     "text": [
      "[[0 1]\n",
      " [1 0]\n",
      " [1 0]\n",
      " [0 1]\n",
      " [0 1]\n",
      " [1 0]\n",
      " [0 1]]\n",
      "[1 0 0 1 1 0 1]\n"
     ]
    }
   ],
   "source": [
    "#create indicator variable for gender:\n",
    "dummy = pd.get_dummies(data['gender']).values\n",
    "print(dummy)\n",
    "print(dummy[:, 1]) # choose this in the model if we want M = 1 and F = 0 (F = 0 means reference)\n",
    "#print(dummy[:, 0]) # choose this in the model if we want F = 1 and M = 0."
   ]
  },
  {
   "cell_type": "code",
   "execution_count": 21,
   "metadata": {},
   "outputs": [
    {
     "name": "stdout",
     "output_type": "stream",
     "text": [
      "                            OLS Regression Results                            \n",
      "==============================================================================\n",
      "Dep. Variable:                 weight   R-squared:                       0.972\n",
      "Model:                            OLS   Adj. R-squared:                  0.945\n",
      "Method:                 Least Squares   F-statistic:                     35.16\n",
      "Date:                Wed, 01 Dec 2021   Prob (F-statistic):            0.00774\n",
      "Time:                        15:55:13   Log-Likelihood:                -23.605\n",
      "No. Observations:                   7   AIC:                             55.21\n",
      "Df Residuals:                       3   BIC:                             54.99\n",
      "Df Model:                           3                                         \n",
      "Covariance Type:            nonrobust                                         \n",
      "===============================================================================\n",
      "                  coef    std err          t      P>|t|      [0.025      0.975]\n",
      "-------------------------------------------------------------------------------\n",
      "Intercept    -254.1068    277.360     -0.916      0.427   -1136.791     628.578\n",
      "height          5.2309      4.683      1.117      0.345      -9.673      20.135\n",
      "age             1.5870      0.920      1.724      0.183      -1.342       4.516\n",
      "dummy[:, 1]    15.6511     23.224      0.674      0.549     -58.258      89.560\n",
      "==============================================================================\n",
      "Omnibus:                          nan   Durbin-Watson:                   1.678\n",
      "Prob(Omnibus):                    nan   Jarque-Bera (JB):                1.083\n",
      "Skew:                          -0.842   Prob(JB):                        0.582\n",
      "Kurtosis:                       2.064   Cond. No.                     5.10e+03\n",
      "==============================================================================\n",
      "\n",
      "Warnings:\n",
      "[1] Standard Errors assume that the covariance matrix of the errors is correctly specified.\n",
      "[2] The condition number is large, 5.1e+03. This might indicate that there are\n",
      "strong multicollinearity or other numerical problems.\n"
     ]
    },
    {
     "name": "stderr",
     "output_type": "stream",
     "text": [
      "C:\\ProgramData\\Anaconda3\\lib\\site-packages\\statsmodels\\stats\\stattools.py:71: ValueWarning: omni_normtest is not valid with less than 8 observations; 7 samples were given.\n",
      "  \"samples were given.\" % int(n), ValueWarning)\n"
     ]
    }
   ],
   "source": [
    "# MODEL 3 weight ~ height + age + gender but create indicator for gender manually\n",
    "mod3 = ols('weight ~ height  +  age + dummy[:, 1] ' , data = data).fit()\n",
    "print(mod3.summary())\n",
    "\n",
    "# model3 and mod3 have the same set of coefficients.\n",
    "# model3 uses orginal gender while mod3 uses created dummy for gender."
   ]
  },
  {
   "cell_type": "code",
   "execution_count": 22,
   "metadata": {},
   "outputs": [
    {
     "name": "stdout",
     "output_type": "stream",
     "text": [
      "              df        sum_sq       mean_sq           F    PR(>F)\n",
      "height       1.0  11880.327238  11880.327238  102.418410  0.002055\n",
      "age          1.0    302.710505    302.710505    2.609619  0.204631\n",
      "dummy[:, 1]  1.0     52.682647     52.682647    0.454169  0.548641\n",
      "Residual     3.0    347.993896    115.997965         NaN       NaN\n",
      "                 sum_sq   df         F    PR(>F)\n",
      "height       144.720939  1.0  1.247616  0.345406\n",
      "age          344.871775  1.0  2.973085  0.183128\n",
      "dummy[:, 1]   52.682647  1.0  0.454169  0.548641\n",
      "Residual     347.993896  3.0       NaN       NaN\n"
     ]
    }
   ],
   "source": [
    "# ANOVA of MODEL 3 (which uses dummy for gender)\n",
    "\n",
    "anova31 = sm.stats.anova_lm(mod3, typ=1) #Anova of model 3 with typ = 1\n",
    "anova32 = sm.stats.anova_lm(mod3, typ=2 ) #Anova of model 3 with typ = 2\n",
    "print(anova31)\n",
    "print(anova32)\n",
    "\n",
    "# take note: indicator \"dummy[:, 1]\" for gender will appear at the last row, bcz we add it at the last in the model. \n",
    "# This is defferent compared to when we use \"gender\" in \"model3\"."
   ]
  },
  {
   "cell_type": "code",
   "execution_count": 23,
   "metadata": {},
   "outputs": [
    {
     "name": "stdout",
     "output_type": "stream",
     "text": [
      "              df        sum_sq       mean_sq           F    PR(>F)\n",
      "height       1.0  11880.327238  11880.327238  102.418410  0.002055\n",
      "dummy[:, 1]  1.0     10.521377     10.521377    0.090703  0.782953\n",
      "age          1.0    344.871775    344.871775    2.973085  0.183128\n",
      "Residual     3.0    347.993896    115.997965         NaN       NaN\n",
      "                 sum_sq   df         F    PR(>F)\n",
      "height       144.720939  1.0  1.247616  0.345406\n",
      "dummy[:, 1]   52.682647  1.0  0.454169  0.548641\n",
      "age          344.871775  1.0  2.973085  0.183128\n",
      "Residual     347.993896  3.0       NaN       NaN\n"
     ]
    }
   ],
   "source": [
    "# STILL MODEL 3 but....we swop gender (dummy[:, 1]) to be added before age\n",
    "\n",
    "mod3 = ols('weight ~ height  + dummy[:, 1]  + age' , data = data).fit() \n",
    "\n",
    "print(sm.stats.anova_lm(mod3, typ=1) ) # Anova of model 3 with typ = 1\n",
    "print(sm.stats.anova_lm(mod3, typ=2 ) ) # Anova of model 3 with typ = 2\n",
    "\n",
    "# the dummy variable for gender will appear at the second row as its position in the model\n",
    "# typ = 1 gives a table the same as anova table of model: lm(weight ~ height + gender + age) in R\n",
    "# typ = 1: helps to test the significance of a variable in the model WITHOUT the presence of variable below it.\n",
    "# typ = 2 gives p-values the same as from t-test of model: lm(weight ~ height + gender + age) in R. \n",
    "# typ = 2: This can help to test the significance of a variable in the model WITH the presence of all other variables\n"
   ]
  },
  {
   "cell_type": "markdown",
   "metadata": {},
   "source": [
    "# Model with interaction term"
   ]
  },
  {
   "cell_type": "code",
   "execution_count": 24,
   "metadata": {},
   "outputs": [
    {
     "name": "stdout",
     "output_type": "stream",
     "text": [
      "                            OLS Regression Results                            \n",
      "==============================================================================\n",
      "Dep. Variable:                 weight   R-squared:                       0.986\n",
      "Model:                            OLS   Adj. R-squared:                  0.957\n",
      "Method:                 Least Squares   F-statistic:                     33.99\n",
      "Date:                Wed, 01 Dec 2021   Prob (F-statistic):             0.0288\n",
      "Time:                        15:55:24   Log-Likelihood:                -21.344\n",
      "No. Observations:                   7   AIC:                             52.69\n",
      "Df Residuals:                       2   BIC:                             52.42\n",
      "Df Model:                           4                                         \n",
      "Covariance Type:            nonrobust                                         \n",
      "======================================================================================\n",
      "                         coef    std err          t      P>|t|      [0.025      0.975]\n",
      "--------------------------------------------------------------------------------------\n",
      "Intercept           -186.6079    250.984     -0.744      0.535   -1266.504     893.288\n",
      "gender[T.M]         -502.7463    385.268     -1.305      0.322   -2160.422    1154.929\n",
      "height                 4.4472      4.193      1.061      0.400     -13.594      22.488\n",
      "height:gender[T.M]     7.6709      5.693      1.347      0.310     -16.823      32.165\n",
      "age                    0.8211      0.995      0.826      0.496      -3.458       5.100\n",
      "==============================================================================\n",
      "Omnibus:                          nan   Durbin-Watson:                   2.221\n",
      "Prob(Omnibus):                    nan   Jarque-Bera (JB):                0.216\n",
      "Skew:                           0.312   Prob(JB):                        0.898\n",
      "Kurtosis:                       2.409   Cond. No.                     9.41e+03\n",
      "==============================================================================\n",
      "\n",
      "Warnings:\n",
      "[1] Standard Errors assume that the covariance matrix of the errors is correctly specified.\n",
      "[2] The condition number is large, 9.41e+03. This might indicate that there are\n",
      "strong multicollinearity or other numerical problems.\n"
     ]
    },
    {
     "name": "stderr",
     "output_type": "stream",
     "text": [
      "C:\\ProgramData\\Anaconda3\\lib\\site-packages\\statsmodels\\stats\\stattools.py:71: ValueWarning: omni_normtest is not valid with less than 8 observations; 7 samples were given.\n",
      "  \"samples were given.\" % int(n), ValueWarning)\n"
     ]
    }
   ],
   "source": [
    "# MODEL 4: Model with interaction term height*gender\n",
    "\n",
    "model4=ols(\"weight~height + age + gender + height*gender\",data=data).fit() \n",
    "print(model4.summary())\n"
   ]
  },
  {
   "cell_type": "code",
   "execution_count": 25,
   "metadata": {},
   "outputs": [
    {
     "name": "stdout",
     "output_type": "stream",
     "text": [
      "                df       sum_sq      mean_sq           F    PR(>F)\n",
      "gender         1.0  9514.714286  9514.714286  104.327110  0.009450\n",
      "height         1.0  2376.134328  2376.134328   26.053880  0.036305\n",
      "height:gender  1.0   448.294243   448.294243    4.915465  0.156915\n",
      "age            1.0    62.169859    62.169859    0.681681  0.495818\n",
      "Residual       2.0   182.401570    91.200785         NaN       NaN\n",
      "                   sum_sq   df         F    PR(>F)\n",
      "gender          52.682647  1.0  0.577656  0.526607\n",
      "height         144.720939  1.0  1.586839  0.334864\n",
      "height:gender  165.592326  1.0  1.815690  0.310182\n",
      "age             62.169859  1.0  0.681681  0.495818\n",
      "Residual       182.401570  2.0       NaN       NaN\n"
     ]
    }
   ],
   "source": [
    "# ANOVA of MODEL 4\n",
    "\n",
    "print(sm.stats.anova_lm(model4, typ=1) ) # Anova of model 4 with typ = 1\n",
    "print(sm.stats.anova_lm(model4, typ=2 ) ) # Anova of model 4 with typ = 2"
   ]
  },
  {
   "cell_type": "markdown",
   "metadata": {},
   "source": [
    "# Prediction"
   ]
  },
  {
   "cell_type": "code",
   "execution_count": 26,
   "metadata": {},
   "outputs": [
    {
     "name": "stdout",
     "output_type": "stream",
     "text": [
      "0    168.361446\n",
      "1     90.022590\n",
      "2    112.405120\n",
      "3    190.743976\n",
      "4    179.552711\n",
      "5    134.787651\n",
      "6    213.126506\n",
      "dtype: float64\n"
     ]
    }
   ],
   "source": [
    "# predicted values of MODEL 1 (simple model weight ~ height)\n",
    "fitted = model.fittedvalues\n",
    "print(fitted)"
   ]
  },
  {
   "cell_type": "markdown",
   "metadata": {},
   "source": [
    "# Residuals Analysis"
   ]
  },
  {
   "cell_type": "code",
   "execution_count": 27,
   "metadata": {},
   "outputs": [
    {
     "name": "stdout",
     "output_type": "stream",
     "text": [
      "0   -13.361446\n",
      "1     8.977410\n",
      "2     2.594880\n",
      "3    14.256024\n",
      "4    -9.552711\n",
      "5    -9.787651\n",
      "6     6.873494\n",
      "dtype: float64\n"
     ]
    }
   ],
   "source": [
    "# the RAW residuals of MODEL 1: \n",
    "# model=ols(\"weight~height\",data=data).fit()\n",
    "print(model.resid)\n"
   ]
  },
  {
   "cell_type": "code",
   "execution_count": 28,
   "metadata": {},
   "outputs": [
    {
     "name": "stdout",
     "output_type": "stream",
     "text": [
      "[-1.22668004  1.07528838  0.26143431  1.38511323 -0.89559435 -0.91086091\n",
      "  0.76205059]\n"
     ]
    }
   ],
   "source": [
    "analysis = model.get_influence() \n",
    "# many information about model stored in this object \"analysis\"\n",
    "# the standardized residuals:\n",
    "SR = analysis.resid_studentized_internal\n",
    "print(SR)"
   ]
  },
  {
   "cell_type": "code",
   "execution_count": 29,
   "metadata": {},
   "outputs": [
    {
     "name": "stdout",
     "output_type": "stream",
     "text": [
      "[0.15662651 0.50451807 0.2996988  0.24698795 0.19126506 0.17921687\n",
      " 0.42168675]\n"
     ]
    }
   ],
   "source": [
    "# leverage (hat values)\n",
    "leverage = analysis.hat_matrix_diag\n",
    "print(leverage)"
   ]
  },
  {
   "cell_type": "code",
   "execution_count": 30,
   "metadata": {},
   "outputs": [
    {
     "name": "stdout",
     "output_type": "stream",
     "text": [
      "[0.13972622 0.58866582 0.01462498 0.31464034 0.09484668 0.09057839\n",
      " 0.21172123]\n"
     ]
    }
   ],
   "source": [
    "#Cook's distance values (and p-values) as tuple of arrays\n",
    "cooks_d, p = analysis.cooks_distance\n",
    "print(cooks_d)"
   ]
  },
  {
   "cell_type": "code",
   "execution_count": 31,
   "metadata": {},
   "outputs": [
    {
     "data": {
      "image/png": "[encoded data removed]",
      "text/plain": [
       "<Figure size 432x288 with 1 Axes>"
      ]
     },
     "metadata": {
      "needs_background": "light"
     },
     "output_type": "display_data"
    }
   ],
   "source": [
    "######################  QQ PLOTS of standardized residuals\n",
    "import matplotlib.pyplot as pyplot\n",
    "\n",
    "scipy.stats.probplot(SR, dist=\"norm\", plot=pyplot)\n",
    "pyplot.title('QQ Plot') \n",
    "pyplot.show()"
   ]
  },
  {
   "cell_type": "code",
   "execution_count": 32,
   "metadata": {},
   "outputs": [
    {
     "data": {
      "image/png": "[encoded data removed]",
      "text/plain": [
       "<Figure size 432x288 with 1 Axes>"
      ]
     },
     "metadata": {
      "needs_background": "light"
     },
     "output_type": "display_data"
    }
   ],
   "source": [
    "import matplotlib.pyplot as pyplot\n",
    "pyplot.scatter(model.fittedvalues, SR,color='b')  \n",
    "pyplot.xlabel('Fitted Values') \n",
    "pyplot.ylabel('Standardized Residuals') \n",
    "pyplot.hlines(0, xmin = min(fitted), xmax = max(fitted) )\n",
    "pyplot.title('') \n",
    "pyplot.show() "
   ]
  },
  {
   "cell_type": "code",
   "execution_count": null,
   "metadata": {},
   "outputs": [],
   "source": []
  }
 ],
 "metadata": {
  "kernelspec": {
   "display_name": "Python 3 (ipykernel)",
   "language": "python",
   "name": "python3"
  },
  "language_info": {
   "codemirror_mode": {
    "name": "ipython",
    "version": 3
   },
   "file_extension": ".py",
   "mimetype": "text/x-python",
   "name": "python",
   "nbconvert_exporter": "python",
   "pygments_lexer": "ipython3",
   "version": "3.9.10"
  }
 },
 "nbformat": 4,
 "nbformat_minor": 4
}
