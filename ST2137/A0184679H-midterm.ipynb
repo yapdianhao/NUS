{
 "cells": [
  {
   "cell_type": "code",
   "execution_count": 48,
   "id": "2d36a3c9",
   "metadata": {},
   "outputs": [],
   "source": [
    "import pandas as pd\n",
    "import numpy as np\n",
    "import math\n",
    "import statistics as st\n",
    "import scipy.stats as scst\n",
    "import matplotlib.pyplot as plt\n",
    "import pylab"
   ]
  },
  {
   "cell_type": "code",
   "execution_count": 49,
   "id": "3cd958e6",
   "metadata": {},
   "outputs": [],
   "source": [
    "# read dataset\n",
    "old_cars = pd.read_csv('oldcars.csv')"
   ]
  },
  {
   "cell_type": "code",
   "execution_count": 50,
   "id": "79086794",
   "metadata": {},
   "outputs": [
    {
     "data": {
      "text/html": [
       "<div>\n",
       "<style scoped>\n",
       "    .dataframe tbody tr th:only-of-type {\n",
       "        vertical-align: middle;\n",
       "    }\n",
       "\n",
       "    .dataframe tbody tr th {\n",
       "        vertical-align: top;\n",
       "    }\n",
       "\n",
       "    .dataframe thead th {\n",
       "        text-align: right;\n",
       "    }\n",
       "</style>\n",
       "<table border=\"1\" class=\"dataframe\">\n",
       "  <thead>\n",
       "    <tr style=\"text-align: right;\">\n",
       "      <th></th>\n",
       "      <th>Car_Name</th>\n",
       "      <th>Year</th>\n",
       "      <th>Selling_Price</th>\n",
       "      <th>Present_Price</th>\n",
       "      <th>Kms_Driven</th>\n",
       "      <th>Fuel_Type</th>\n",
       "      <th>Seller_Type</th>\n",
       "      <th>Transmission</th>\n",
       "      <th>Owner</th>\n",
       "    </tr>\n",
       "  </thead>\n",
       "  <tbody>\n",
       "    <tr>\n",
       "      <th>0</th>\n",
       "      <td>ritz</td>\n",
       "      <td>2014</td>\n",
       "      <td>3.35</td>\n",
       "      <td>5.59</td>\n",
       "      <td>27000</td>\n",
       "      <td>Petrol</td>\n",
       "      <td>Dealer</td>\n",
       "      <td>Manual</td>\n",
       "      <td>0</td>\n",
       "    </tr>\n",
       "    <tr>\n",
       "      <th>1</th>\n",
       "      <td>sx4</td>\n",
       "      <td>2013</td>\n",
       "      <td>4.75</td>\n",
       "      <td>9.54</td>\n",
       "      <td>43000</td>\n",
       "      <td>Diesel</td>\n",
       "      <td>Dealer</td>\n",
       "      <td>Manual</td>\n",
       "      <td>0</td>\n",
       "    </tr>\n",
       "    <tr>\n",
       "      <th>2</th>\n",
       "      <td>ciaz</td>\n",
       "      <td>2017</td>\n",
       "      <td>7.25</td>\n",
       "      <td>9.85</td>\n",
       "      <td>6900</td>\n",
       "      <td>Petrol</td>\n",
       "      <td>Dealer</td>\n",
       "      <td>Manual</td>\n",
       "      <td>0</td>\n",
       "    </tr>\n",
       "    <tr>\n",
       "      <th>3</th>\n",
       "      <td>wagon r</td>\n",
       "      <td>2011</td>\n",
       "      <td>2.85</td>\n",
       "      <td>4.15</td>\n",
       "      <td>5200</td>\n",
       "      <td>Petrol</td>\n",
       "      <td>Dealer</td>\n",
       "      <td>Manual</td>\n",
       "      <td>0</td>\n",
       "    </tr>\n",
       "    <tr>\n",
       "      <th>4</th>\n",
       "      <td>swift</td>\n",
       "      <td>2014</td>\n",
       "      <td>4.60</td>\n",
       "      <td>6.87</td>\n",
       "      <td>42450</td>\n",
       "      <td>Diesel</td>\n",
       "      <td>Dealer</td>\n",
       "      <td>Manual</td>\n",
       "      <td>0</td>\n",
       "    </tr>\n",
       "    <tr>\n",
       "      <th>...</th>\n",
       "      <td>...</td>\n",
       "      <td>...</td>\n",
       "      <td>...</td>\n",
       "      <td>...</td>\n",
       "      <td>...</td>\n",
       "      <td>...</td>\n",
       "      <td>...</td>\n",
       "      <td>...</td>\n",
       "      <td>...</td>\n",
       "    </tr>\n",
       "    <tr>\n",
       "      <th>296</th>\n",
       "      <td>city</td>\n",
       "      <td>2016</td>\n",
       "      <td>9.50</td>\n",
       "      <td>11.60</td>\n",
       "      <td>33988</td>\n",
       "      <td>Diesel</td>\n",
       "      <td>Dealer</td>\n",
       "      <td>Manual</td>\n",
       "      <td>0</td>\n",
       "    </tr>\n",
       "    <tr>\n",
       "      <th>297</th>\n",
       "      <td>brio</td>\n",
       "      <td>2015</td>\n",
       "      <td>4.00</td>\n",
       "      <td>5.90</td>\n",
       "      <td>60000</td>\n",
       "      <td>Petrol</td>\n",
       "      <td>Dealer</td>\n",
       "      <td>Manual</td>\n",
       "      <td>0</td>\n",
       "    </tr>\n",
       "    <tr>\n",
       "      <th>298</th>\n",
       "      <td>city</td>\n",
       "      <td>2009</td>\n",
       "      <td>3.35</td>\n",
       "      <td>11.00</td>\n",
       "      <td>87934</td>\n",
       "      <td>Petrol</td>\n",
       "      <td>Dealer</td>\n",
       "      <td>Manual</td>\n",
       "      <td>0</td>\n",
       "    </tr>\n",
       "    <tr>\n",
       "      <th>299</th>\n",
       "      <td>city</td>\n",
       "      <td>2017</td>\n",
       "      <td>11.50</td>\n",
       "      <td>12.50</td>\n",
       "      <td>9000</td>\n",
       "      <td>Diesel</td>\n",
       "      <td>Dealer</td>\n",
       "      <td>Manual</td>\n",
       "      <td>0</td>\n",
       "    </tr>\n",
       "    <tr>\n",
       "      <th>300</th>\n",
       "      <td>brio</td>\n",
       "      <td>2016</td>\n",
       "      <td>5.30</td>\n",
       "      <td>5.90</td>\n",
       "      <td>5464</td>\n",
       "      <td>Petrol</td>\n",
       "      <td>Dealer</td>\n",
       "      <td>Manual</td>\n",
       "      <td>0</td>\n",
       "    </tr>\n",
       "  </tbody>\n",
       "</table>\n",
       "<p>301 rows × 9 columns</p>\n",
       "</div>"
      ],
      "text/plain": [
       "    Car_Name  Year  Selling_Price  Present_Price  Kms_Driven Fuel_Type  \\\n",
       "0       ritz  2014           3.35           5.59       27000    Petrol   \n",
       "1        sx4  2013           4.75           9.54       43000    Diesel   \n",
       "2       ciaz  2017           7.25           9.85        6900    Petrol   \n",
       "3    wagon r  2011           2.85           4.15        5200    Petrol   \n",
       "4      swift  2014           4.60           6.87       42450    Diesel   \n",
       "..       ...   ...            ...            ...         ...       ...   \n",
       "296     city  2016           9.50          11.60       33988    Diesel   \n",
       "297     brio  2015           4.00           5.90       60000    Petrol   \n",
       "298     city  2009           3.35          11.00       87934    Petrol   \n",
       "299     city  2017          11.50          12.50        9000    Diesel   \n",
       "300     brio  2016           5.30           5.90        5464    Petrol   \n",
       "\n",
       "    Seller_Type Transmission  Owner  \n",
       "0        Dealer       Manual      0  \n",
       "1        Dealer       Manual      0  \n",
       "2        Dealer       Manual      0  \n",
       "3        Dealer       Manual      0  \n",
       "4        Dealer       Manual      0  \n",
       "..          ...          ...    ...  \n",
       "296      Dealer       Manual      0  \n",
       "297      Dealer       Manual      0  \n",
       "298      Dealer       Manual      0  \n",
       "299      Dealer       Manual      0  \n",
       "300      Dealer       Manual      0  \n",
       "\n",
       "[301 rows x 9 columns]"
      ]
     },
     "execution_count": 50,
     "metadata": {},
     "output_type": "execute_result"
    }
   ],
   "source": [
    "old_cars"
   ]
  },
  {
   "cell_type": "code",
   "execution_count": 51,
   "id": "591ce802",
   "metadata": {},
   "outputs": [
    {
     "data": {
      "text/plain": [
       "239"
      ]
     },
     "execution_count": 51,
     "metadata": {},
     "output_type": "execute_result"
    }
   ],
   "source": [
    "#(a)\n",
    "petrol_cars = old_cars[old_cars['Fuel_Type'] == 'Petrol']\n",
    "len(petrol_cars)"
   ]
  },
  {
   "cell_type": "code",
   "execution_count": 52,
   "id": "9355517b",
   "metadata": {},
   "outputs": [
    {
     "data": {
      "text/plain": [
       "60"
      ]
     },
     "execution_count": 52,
     "metadata": {},
     "output_type": "execute_result"
    }
   ],
   "source": [
    "diesel_cars = old_cars[old_cars['Fuel_Type'] == 'Diesel']\n",
    "len(diesel_cars)"
   ]
  },
  {
   "cell_type": "code",
   "execution_count": 53,
   "id": "85eab89c",
   "metadata": {},
   "outputs": [
    {
     "data": {
      "text/plain": [
       "261"
      ]
     },
     "execution_count": 53,
     "metadata": {},
     "output_type": "execute_result"
    }
   ],
   "source": [
    "#(b)\n",
    "manual_cars = old_cars[old_cars['Transmission'] == 'Manual']\n",
    "len(manual_cars)"
   ]
  },
  {
   "cell_type": "code",
   "execution_count": 55,
   "id": "325e9ebf",
   "metadata": {},
   "outputs": [
    {
     "data": {
      "text/plain": [
       "4.661295681063123"
      ]
     },
     "execution_count": 55,
     "metadata": {},
     "output_type": "execute_result"
    }
   ],
   "source": [
    "#(c)\n",
    "# sample mean\n",
    "st.mean(old_cars['Selling_Price'])"
   ]
  },
  {
   "cell_type": "code",
   "execution_count": 56,
   "id": "314c1cd7",
   "metadata": {},
   "outputs": [
    {
     "data": {
      "text/plain": [
       "3.543756906077348"
      ]
     },
     "execution_count": 56,
     "metadata": {},
     "output_type": "execute_result"
    }
   ],
   "source": [
    "# sample trimmed mean\n",
    "scst.trim_mean(old_cars['Selling_Price'], 0.2)"
   ]
  },
  {
   "cell_type": "code",
   "execution_count": null,
   "id": "18f7fa0f",
   "metadata": {},
   "outputs": [],
   "source": [
    "# since the trimmed mean is lower than the original mean, there are some outliers with very high selling prices that increases \n",
    "# the whole dataset's mean, therefore the distribution of selling price is not symmetric."
   ]
  },
  {
   "cell_type": "code",
   "execution_count": 57,
   "id": "8634198d",
   "metadata": {},
   "outputs": [
    {
     "data": {
      "image/png": "[encoded data removed]",
      "text/plain": [
       "<Figure size 432x288 with 1 Axes>"
      ]
     },
     "metadata": {
      "needs_background": "light"
     },
     "output_type": "display_data"
    }
   ],
   "source": [
    "# (d)\n",
    "plt.scatter(old_cars['Present_Price'], old_cars['Selling_Price'], color = \"b\")\n",
    "plt.xlabel(\"Present Price\")\n",
    "plt.ylabel(\"Selling Price\")\n",
    "plt.title(\"Scatterplot of Selling Price vs Present Price\")\n",
    "plt.show()"
   ]
  },
  {
   "cell_type": "code",
   "execution_count": 58,
   "id": "0877999f",
   "metadata": {},
   "outputs": [
    {
     "data": {
      "text/plain": [
       "0.8789825451614951"
      ]
     },
     "execution_count": 58,
     "metadata": {},
     "output_type": "execute_result"
    }
   ],
   "source": [
    "# correlation coefficient\n",
    "np.corrcoef(old_cars['Present_Price'], old_cars['Selling_Price'])[0, 1]"
   ]
  },
  {
   "cell_type": "code",
   "execution_count": null,
   "id": "8da23953",
   "metadata": {},
   "outputs": [],
   "source": [
    "# The selling price and present price have a positive association relationship."
   ]
  },
  {
   "cell_type": "code",
   "execution_count": 59,
   "id": "6cf2d9b3",
   "metadata": {},
   "outputs": [
    {
     "data": {
      "image/png": "[encoded data removed]",
      "text/plain": [
       "<Figure size 432x288 with 1 Axes>"
      ]
     },
     "metadata": {
      "needs_background": "light"
     },
     "output_type": "display_data"
    }
   ],
   "source": [
    "# (e)\n",
    "# Show historgram\n",
    "# Show QQ plot\n",
    "# Use normality test\n",
    "l1 = list(np.arange(min(petrol_cars['Selling_Price']), max(petrol_cars['Selling_Price'])))\n",
    "y1 = scst.norm.pdf(l1, loc = st.mean(petrol_cars['Selling_Price']), scale = st.stdev(petrol_cars['Selling_Price']))\n",
    "plt.plot(l1, y1)\n",
    "plt.hist(petrol_cars['Selling_Price'], bins = None, range = None, density = True)\n",
    "plt.title(\"Histogram of Petrol Car Sell Price\")\n",
    "plt.xlabel('Prices')\n",
    "plt.ylabel('Probability')\n",
    "plt.show()"
   ]
  },
  {
   "cell_type": "code",
   "execution_count": 62,
   "id": "ec077b3d",
   "metadata": {},
   "outputs": [
    {
     "data": {
      "image/png": "[encoded data removed]",
      "text/plain": [
       "<Figure size 432x288 with 1 Axes>"
      ]
     },
     "metadata": {
      "needs_background": "light"
     },
     "output_type": "display_data"
    }
   ],
   "source": [
    "scst.probplot(petrol_cars['Selling_Price'], dist = \"norm\", plot = pylab)\n",
    "pylab.title('QQ Plot of Petrol Car Sell Price')\n",
    "pylab.show()"
   ]
  },
  {
   "cell_type": "code",
   "execution_count": 63,
   "id": "42e4af9b",
   "metadata": {},
   "outputs": [
    {
     "data": {
      "text/plain": [
       "ShapiroResult(statistic=0.8486546277999878, pvalue=1.50893244432607e-14)"
      ]
     },
     "execution_count": 63,
     "metadata": {},
     "output_type": "execute_result"
    }
   ],
   "source": [
    "scst.shapiro(petrol_cars['Selling_Price'])"
   ]
  },
  {
   "cell_type": "code",
   "execution_count": null,
   "id": "08280d41",
   "metadata": {},
   "outputs": [],
   "source": [
    "# From the Normality test, the p value is very small, which gives us enough evidence to reject the null hypothesis that\n",
    "# the Selling price is normally distributed. From the Histogram and QQPlot, we can observe that the distribution has a\n",
    "# shorter than normal left tail and longer than normal right tail."
   ]
  },
  {
   "cell_type": "code",
   "execution_count": 65,
   "id": "55d9dd7c",
   "metadata": {},
   "outputs": [
    {
     "data": {
      "image/png": "[encoded data removed]",
      "text/plain": [
       "<Figure size 432x288 with 1 Axes>"
      ]
     },
     "metadata": {
      "needs_background": "light"
     },
     "output_type": "display_data"
    }
   ],
   "source": [
    "# (f)\n",
    "l2 = list(np.arange(min(diesel_cars['Selling_Price']), max(diesel_cars['Selling_Price'])))\n",
    "y2 = scst.norm.pdf(l2, loc = st.mean(diesel_cars['Selling_Price']), scale = st.stdev(diesel_cars['Selling_Price']))\n",
    "plt.plot(l2, y2)\n",
    "plt.hist(diesel_cars['Selling_Price'], bins = None, range = None, density = True)\n",
    "plt.title(\"Histogram of Diesel Car Sell Price\")\n",
    "plt.xlabel('Prices')\n",
    "plt.ylabel('Probability')\n",
    "plt.show()"
   ]
  },
  {
   "cell_type": "code",
   "execution_count": 66,
   "id": "48cfc657",
   "metadata": {},
   "outputs": [
    {
     "data": {
      "image/png": "[encoded data removed]",
      "text/plain": [
       "<Figure size 432x288 with 1 Axes>"
      ]
     },
     "metadata": {
      "needs_background": "light"
     },
     "output_type": "display_data"
    }
   ],
   "source": [
    "scst.probplot(diesel_cars['Selling_Price'], dist = \"norm\", plot = pylab)\n",
    "pylab.title('QQ Plot of Diesel Car Sell Price')\n",
    "pylab.show()"
   ]
  },
  {
   "cell_type": "code",
   "execution_count": 67,
   "id": "06b86147",
   "metadata": {},
   "outputs": [
    {
     "data": {
      "text/plain": [
       "ShapiroResult(statistic=0.816650927066803, pvalue=3.600152922444977e-07)"
      ]
     },
     "execution_count": 67,
     "metadata": {},
     "output_type": "execute_result"
    }
   ],
   "source": [
    "scst.shapiro(diesel_cars['Selling_Price'])"
   ]
  },
  {
   "cell_type": "code",
   "execution_count": null,
   "id": "21230c46",
   "metadata": {},
   "outputs": [],
   "source": [
    "# From the Normality test, the p value is very small (0.0000003 < 0.05), which gives us enough evidence to reject the null hypothesis that\n",
    "# the Selling price is normally distributed. From the Histogram and QQPlot, we can observe that the distribution has a\n",
    "# shorter than normal left tail and longer than normal right tail. This is similar to the petrol car sell price."
   ]
  },
  {
   "cell_type": "code",
   "execution_count": null,
   "id": "3076a16e",
   "metadata": {},
   "outputs": [],
   "source": [
    "# (g)\n",
    "# Since there is no dependency between petrol car and diesel car, a test for 2 sample data should be conducted.\n",
    "# Assumption: although the data is not normally distributed, the data size is large enough (> 30).\n",
    "# However, the p value for variance equality test is very small (2 cells below), therefore the null hypothesis that \n",
    "# the variance is equal is rejected. A parametric test cannot be used.\n",
    "# The best approach is to use a 2 independent sample, non parametric test."
   ]
  },
  {
   "cell_type": "code",
   "execution_count": 68,
   "id": "93fc868f",
   "metadata": {},
   "outputs": [
    {
     "data": {
      "text/plain": [
       "BartlettResult(statistic=83.48193736267704, pvalue=6.430081430609673e-20)"
      ]
     },
     "execution_count": 68,
     "metadata": {},
     "output_type": "execute_result"
    }
   ],
   "source": [
    "scst.bartlett(petrol_cars['Selling_Price'], diesel_cars['Selling_Price'])"
   ]
  },
  {
   "cell_type": "code",
   "execution_count": 69,
   "id": "4a26b584",
   "metadata": {},
   "outputs": [
    {
     "data": {
      "text/plain": [
       "LeveneResult(statistic=30.64755945456746, pvalue=6.807902241792097e-08)"
      ]
     },
     "execution_count": 69,
     "metadata": {},
     "output_type": "execute_result"
    }
   ],
   "source": [
    "scst.levene(petrol_cars['Selling_Price'], diesel_cars['Selling_Price'])"
   ]
  },
  {
   "cell_type": "code",
   "execution_count": 70,
   "id": "81667df9",
   "metadata": {},
   "outputs": [
    {
     "data": {
      "text/plain": [
       "MannwhitneyuResult(statistic=12467.0, pvalue=4.512000852649989e-19)"
      ]
     },
     "execution_count": 70,
     "metadata": {},
     "output_type": "execute_result"
    }
   ],
   "source": [
    "scst.mannwhitneyu(diesel_cars['Selling_Price'], petrol_cars['Selling_Price'], alternative=\"greater\")"
   ]
  },
  {
   "cell_type": "code",
   "execution_count": null,
   "id": "488768a3",
   "metadata": {},
   "outputs": [],
   "source": [
    "# Since the p value is very small (< 0.01), the null hypothesis that the average selling price of petrol cars is equal\n",
    "# to the average selling price of diesel car is rejected. The alternative hypothesis, average selling price of diesel \n",
    "# cars is greater than average selling price of petrol car is accepted."
   ]
  }
 ],
 "metadata": {
  "kernelspec": {
   "display_name": "Python 3 (ipykernel)",
   "language": "python",
   "name": "python3"
  },
  "language_info": {
   "codemirror_mode": {
    "name": "ipython",
    "version": 3
   },
   "file_extension": ".py",
   "mimetype": "text/x-python",
   "name": "python",
   "nbconvert_exporter": "python",
   "pygments_lexer": "ipython3",
   "version": "3.9.10"
  }
 },
 "nbformat": 4,
 "nbformat_minor": 5
}
